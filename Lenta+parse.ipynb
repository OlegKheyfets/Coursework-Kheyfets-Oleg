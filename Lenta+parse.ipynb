{
 "cells": [
  {
   "cell_type": "code",
   "execution_count": 252,
   "metadata": {
    "collapsed": true
   },
   "outputs": [],
   "source": [
    "import requests\n",
    "import re\n",
    "from bs4 import BeautifulSoup\n",
    "import pandas as pd\n",
    "import time\n",
    "import sys\n",
    "import string"
   ]
  },
  {
   "cell_type": "code",
   "execution_count": 253,
   "metadata": {
    "collapsed": true
   },
   "outputs": [],
   "source": [
    "import lxml"
   ]
  },
  {
   "cell_type": "code",
   "execution_count": 306,
   "metadata": {
    "collapsed": true
   },
   "outputs": [],
   "source": [
    "import datetime"
   ]
  },
  {
   "cell_type": "code",
   "execution_count": 307,
   "metadata": {
    "collapsed": true
   },
   "outputs": [],
   "source": [
    "def html_stripper(text):\n",
    "    return re.sub('<[^<]+?>', '', str(text))"
   ]
  },
  {
   "cell_type": "code",
   "execution_count": 308,
   "metadata": {
    "collapsed": false
   },
   "outputs": [],
   "source": [
    "data = \"2017/01/11/\""
   ]
  },
  {
   "cell_type": "code",
   "execution_count": 309,
   "metadata": {
    "collapsed": false
   },
   "outputs": [],
   "source": [
    "from datetime import date, timedelta\n",
    "\n",
    "d1 = date(2017, 1, 11)  # start date\n",
    "d2 = date(2017, 5, 12)  # end date\n",
    "\n",
    "delta = d2 - d1         # timedelta\n",
    "\n",
    "datelist = [str(d1 + timedelta(days=x)) for x in range((d2-d1).days + 1)] #list of dates\n",
    "\n",
    "#formating date to the suitable form\n",
    "for i in range(delta.days + 1):\n",
    "    datelist[i] = datelist[i].replace('-','/')"
   ]
  },
  {
   "cell_type": "code",
   "execution_count": 310,
   "metadata": {
    "collapsed": true
   },
   "outputs": [],
   "source": [
    "main_url = 'https://lenta.ru/rubrics/world/'"
   ]
  },
  {
   "cell_type": "code",
   "execution_count": 311,
   "metadata": {
    "collapsed": false
   },
   "outputs": [
    {
     "data": {
      "text/plain": [
       "'https://lenta.ru/rubrics/world/2017/01/11/'"
      ]
     },
     "execution_count": 311,
     "metadata": {},
     "output_type": "execute_result"
    }
   ],
   "source": [
    "main_url + str(data)"
   ]
  },
  {
   "cell_type": "code",
   "execution_count": 312,
   "metadata": {
    "collapsed": false
   },
   "outputs": [
    {
     "data": {
      "text/plain": [
       "<Response [200]>"
      ]
     },
     "execution_count": 312,
     "metadata": {},
     "output_type": "execute_result"
    }
   ],
   "source": [
    "requests.get(main_url + str(data))"
   ]
  },
  {
   "cell_type": "code",
   "execution_count": 313,
   "metadata": {
    "collapsed": true
   },
   "outputs": [],
   "source": [
    "news_page = requests.get(main_url + str(data))\n",
    "news_page = news_page.content"
   ]
  },
  {
   "cell_type": "code",
   "execution_count": 314,
   "metadata": {
    "collapsed": false
   },
   "outputs": [
    {
     "data": {
      "text/plain": [
       "b'<!DOCTYPE html><html><head>\\n<title>\\xd0\\x9d\\xd0\\xbe\\xd0\\xb2\\xd0\\xbe\\xd1\\x81\\xd1\\x82\\xd0\\xb8: \\xd0\\x9c\\xd0\\xb8\\xd1\\x80: 11.01.2017: Lenta.ru</title><meta content=\"text/html; charset=utf-8\" http-equiv=\"Content-Type\" />\\n<script type=\"text/javascript\">window.NREUM||(NREUM={});NREUM.info={\"beacon\":\"bam.nr-data.net\",\"errorBeacon\":\"bam.nr-data.net\",\"licenseKey\":\"66a8d51230\",\"applicationID\":\"1241738\",\"transactionName\":\"J19cQUoOWA0ERBoFQwdYW0NdTlYYA1paBw==\",\"queueTime\":0,\"applicationTime\":78,\"agent\":\"\"}</script>\\n<script type=\"text/javascript\">(window.NREUM||(NREUM={})).loader_config={xpid:\"VQUGU1VRGwICUFBVBAk=\"};window.NREUM||(NREUM={}),__nr_require=function(t,e,n){function r(n){if(!e[n]){var o=e[n]={exports:{}};t[n][0].call(o.exports,function(e){var o=t[n][1][e];return r(o||e)},o,o.exports)}return e[n].exports}if(\"function\"==typeof __nr_require)return __nr_require;for(var o=0;o<n.length;o++)r(n[o]);return r}({1:[function(t,e,n){function r(t){try{c.console&&console.log(t)}catch(e){}}var o,i=t(\"ee\"),a=t(12),c={};try{o=localStorage.getItem(\"__nr_flags\").split(\",\"),console&&\"function\"==typeof console.log&&(c.console=!0,o.indexOf(\"dev\")!==-1&&(c.dev=!0),o.indexOf(\"nr_dev\")!==-1&&(c.nrDev=!0))}catch(s){}c.nrDev&&i.on(\"internal-error\",function(t){r(t.stack)}),c.dev&&i.on(\"fn-err\",function(t,e,n){r(n.stack)}),c.dev&&(r(\"NR AGENT IN DEVELOPMENT MODE\"),r(\"flags: \"+a(c,function(t,e){return t}).join(\", \")))},{}],2:[function(t,e,n){function r(t,e,n,r,o){try{d?d-=1:i(\"err\",[o||new UncaughtException(t,e,n)])}catch(c){try{i(\"ierr\",[c,s.now(),!0])}catch(u){}}return\"function\"==typeof f&&f.apply(this,a(arguments))}function UncaughtException(t,e,n){this.message=t||\"Uncaught error with no additional information\",this.sourceURL=e,this.line=n}function o(t){i(\"err\",[t,s.now()])}var i=t(\"handle\"),a=t(13),c=t(\"ee\"),s=t(\"loader\"),f=window.onerror,u=!1,d=0;s.features.err=!0,t(1),window.onerror=r;try{throw new Error}catch(l){\"stack\"in l&&(t(5),t(4),\"addEventListener\"in window&&t(3),s.xhrWrappable&&t(6),u=!0)}c.on(\"fn-start\",function(t,e,n){u&&(d+=1)}),c.on(\"fn-err\",function(t,e,n){u&&(this.thrown=!0,o(n))}),c.on(\"fn-end\",function(){u&&!this.thrown&&d>0&&(d-=1)}),c.on(\"internal-error\",function(t){i(\"ierr\",[t,s.now(),!0])})},{}],3:[function(t,e,n){function r(t){for(var e=t;e&&!e.hasOwnProperty(u);)e=Object.getPrototypeOf(e);e&&o(e)}function o(t){c.inPlace(t,[u,d],\"-\",i)}function i(t,e){return t[1]}var a=t(\"ee\").get(\"events\"),c=t(15)(a,!0),s=t(\"gos\"),f=XMLHttpRequest,u=\"addEventListener\",d=\"removeEventListener\";e.exports=a,\"getPrototypeOf\"in Object?(r(document),r(window),r(f.prototype)):f.prototype.hasOwnProperty(u)&&(o(window),o(f.prototype)),a.on(u+\"-start\",function(t,e){var n=t[1],r=s(n,\"nr@wrapped\",function(){function t(){if(\"function\"==typeof n.handleEvent)return n.handleEvent.apply(n,arguments)}var e={object:t,\"function\":n}[typeof n];return e?c(e,\"fn-\",null,e.name||\"anonymous\"):n});this.wrapped=t[1]=r}),a.on(d+\"-start\",function(t){t[1]=this.wrapped||t[1]})},{}],4:[function(t,e,n){var r=t(\"ee\").get(\"raf\"),o=t(15)(r),i=\"equestAnimationFrame\";e.exports=r,o.inPlace(window,[\"r\"+i,\"mozR\"+i,\"webkitR\"+i,\"msR\"+i],\"raf-\"),r.on(\"raf-start\",function(t){t[0]=o(t[0],\"fn-\")})},{}],5:[function(t,e,n){function r(t,e,n){t[0]=a(t[0],\"fn-\",null,n)}function o(t,e,n){this.method=n,this.timerDuration=\"number\"==typeof t[1]?t[1]:0,t[0]=a(t[0],\"fn-\",this,n)}var i=t(\"ee\").get(\"timer\"),a=t(15)(i),c=\"setTimeout\",s=\"setInterval\",f=\"clearTimeout\",u=\"-start\",d=\"-\";e.exports=i,a.inPlace(window,[c,\"setImmediate\"],c+d),a.inPlace(window,[s],s+d),a.inPlace(window,[f,\"clearImmediate\"],f+d),i.on(s+u,r),i.on(c+u,o)},{}],6:[function(t,e,n){function r(t,e){d.inPlace(e,[\"onreadystatechange\"],\"fn-\",c)}function o(){var t=this,e=u.context(t);t.readyState>3&&!e.resolved&&(e.resolved=!0,u.emit(\"xhr-resolved\",[],t)),d.inPlace(t,v,\"fn-\",c)}function i(t){y.push(t),h&&(g=-g,x.data=g)}function a(){for(var t=0;t<y.length;t++)r([],y[t]);y.length&&(y=[])}function c(t,e){return e}function s(t,e){for(var n in t)e[n]=t[n];return e}t(3);var f=t(\"ee\"),u=f.get(\"xhr\"),d=t(15)(u),l=NREUM.o,p=l.XHR,h=l.MO,m=\"readystatechange\",v=[\"onload\",\"onerror\",\"onabort\",\"onloadstart\",\"onloadend\",\"onprogress\",\"ontimeout\"],y=[];e.exports=u;var w=window.XMLHttpRequest=function(t){var e=new p(t);try{u.emit(\"new-xhr\",[e],e),e.addEventListener(m,o,!1)}catch(n){try{u.emit(\"internal-error\",[n])}catch(r){}}return e};if(s(p,w),w.prototype=p.prototype,d.inPlace(w.prototype,[\"open\",\"send\"],\"-xhr-\",c),u.on(\"send-xhr-start\",function(t,e){r(t,e),i(e)}),u.on(\"open-xhr-start\",r),h){var g=1,x=document.createTextNode(g);new h(a).observe(x,{characterData:!0})}else f.on(\"fn-end\",function(t){t[0]&&t[0].type===m||a()})},{}],7:[function(t,e,n){function r(t){var e=this.params,n=this.metrics;if(!this.ended){this.ended=!0;for(var r=0;r<d;r++)t.removeEventListener(u[r],this.listener,!1);if(!e.aborted){if(n.duration=a.now()-this.startTime,4===t.readyState){e.status=t.status;var i=o(t,this.lastSize);if(i&&(n.rxSize=i),this.sameOrigin){var s=t.getResponseHeader(\"X-NewRelic-App-Data\");s&&(e.cat=s.split(\", \").pop())}}else e.status=0;n.cbTime=this.cbTime,f.emit(\"xhr-done\",[t],t),c(\"xhr\",[e,n,this.startTime])}}}function o(t,e){var n=t.responseType;if(\"json\"===n&&null!==e)return e;var r=\"arraybuffer\"===n||\"blob\"===n||\"json\"===n?t.response:t.responseText;return h(r)}function i(t,e){var n=s(e),r=t.params;r.host=n.hostname+\":\"+n.port,r.pathname=n.pathname,t.sameOrigin=n.sameOrigin}var a=t(\"loader\");if(a.xhrWrappable){var c=t(\"handle\"),s=t(8),f=t(\"ee\"),u=[\"load\",\"error\",\"abort\",\"timeout\"],d=u.length,l=t(\"id\"),p=t(11),h=t(10),m=window.XMLHttpRequest;a.features.xhr=!0,t(6),f.on(\"new-xhr\",function(t){var e=this;e.totalCbs=0,e.called=0,e.cbTime=0,e.end=r,e.ended=!1,e.xhrGuids={},e.lastSize=null,p&&(p>34||p<10)||window.opera||t.addEventListener(\"progress\",function(t){e.lastSize=t.loaded},!1)}),f.on(\"open-xhr-start\",function(t){this.params={method:t[0]},i(this,t[1]),this.metrics={}}),f.on(\"open-xhr-end\",function(t,e){\"loader_config\"in NREUM&&\"xpid\"in NREUM.loader_config&&this.sameOrigin&&e.setRequestHeader(\"X-NewRelic-ID\",NREUM.loader_config.xpid)}),f.on(\"send-xhr-start\",function(t,e){var n=this.metrics,r=t[0],o=this;if(n&&r){var i=h(r);i&&(n.txSize=i)}this.startTime=a.now(),this.listener=function(t){try{\"abort\"===t.type&&(o.params.aborted=!0),(\"load\"!==t.type||o.called===o.totalCbs&&(o.onloadCalled||\"function\"!=typeof e.onload))&&o.end(e)}catch(n){try{f.emit(\"internal-error\",[n])}catch(r){}}};for(var c=0;c<d;c++)e.addEventListener(u[c],this.listener,!1)}),f.on(\"xhr-cb-time\",function(t,e,n){this.cbTime+=t,e?this.onloadCalled=!0:this.called+=1,this.called!==this.totalCbs||!this.onloadCalled&&\"function\"==typeof n.onload||this.end(n)}),f.on(\"xhr-load-added\",function(t,e){var n=\"\"+l(t)+!!e;this.xhrGuids&&!this.xhrGuids[n]&&(this.xhrGuids[n]=!0,this.totalCbs+=1)}),f.on(\"xhr-load-removed\",function(t,e){var n=\"\"+l(t)+!!e;this.xhrGuids&&this.xhrGuids[n]&&(delete this.xhrGuids[n],this.totalCbs-=1)}),f.on(\"addEventListener-end\",function(t,e){e instanceof m&&\"load\"===t[0]&&f.emit(\"xhr-load-added\",[t[1],t[2]],e)}),f.on(\"removeEventListener-end\",function(t,e){e instanceof m&&\"load\"===t[0]&&f.emit(\"xhr-load-removed\",[t[1],t[2]],e)}),f.on(\"fn-start\",function(t,e,n){e instanceof m&&(\"onload\"===n&&(this.onload=!0),(\"load\"===(t[0]&&t[0].type)||this.onload)&&(this.xhrCbStart=a.now()))}),f.on(\"fn-end\",function(t,e){this.xhrCbStart&&f.emit(\"xhr-cb-time\",[a.now()-this.xhrCbStart,this.onload,e],e)})}},{}],8:[function(t,e,n){e.exports=function(t){var e=document.createElement(\"a\"),n=window.location,r={};e.href=t,r.port=e.port;var o=e.href.split(\"://\");!r.port&&o[1]&&(r.port=o[1].split(\"/\")[0].split(\"@\").pop().split(\":\")[1]),r.port&&\"0\"!==r.port||(r.port=\"https\"===o[0]?\"443\":\"80\"),r.hostname=e.hostname||n.hostname,r.pathname=e.pathname,r.protocol=o[0],\"/\"!==r.pathname.charAt(0)&&(r.pathname=\"/\"+r.pathname);var i=!e.protocol||\":\"===e.protocol||e.protocol===n.protocol,a=e.hostname===document.domain&&e.port===n.port;return r.sameOrigin=i&&(!e.hostname||a),r}},{}],9:[function(t,e,n){function r(){}function o(t,e,n){return function(){return i(t,[f.now()].concat(c(arguments)),e?null:this,n),e?void 0:this}}var i=t(\"handle\"),a=t(12),c=t(13),s=t(\"ee\").get(\"tracer\"),f=t(\"loader\"),u=NREUM;\"undefined\"==typeof window.newrelic&&(newrelic=u);var d=[\"setPageViewName\",\"setCustomAttribute\",\"setErrorHandler\",\"finished\",\"addToTrace\",\"inlineHit\",\"addRelease\"],l=\"api-\",p=l+\"ixn-\";a(d,function(t,e){u[e]=o(l+e,!0,\"api\")}),u.addPageAction=o(l+\"addPageAction\",!0),u.setCurrentRouteName=o(l+\"routeName\",!0),e.exports=newrelic,u.interaction=function(){return(new r).get()};var h=r.prototype={createTracer:function(t,e){var n={},r=this,o=\"function\"==typeof e;return i(p+\"tracer\",[f.now(),t,n],r),function(){if(s.emit((o?\"\":\"no-\")+\"fn-start\",[f.now(),r,o],n),o)try{return e.apply(this,arguments)}finally{s.emit(\"fn-end\",[f.now()],n)}}}};a(\"setName,setAttribute,save,ignore,onEnd,getContext,end,get\".split(\",\"),function(t,e){h[e]=o(p+e)}),newrelic.noticeError=function(t){\"string\"==typeof t&&(t=new Error(t)),i(\"err\",[t,f.now()])}},{}],10:[function(t,e,n){e.exports=function(t){if(\"string\"==typeof t&&t.length)return t.length;if(\"object\"==typeof t){if(\"undefined\"!=typeof ArrayBuffer&&t instanceof ArrayBuffer&&t.byteLength)return t.byteLength;if(\"undefined\"!=typeof Blob&&t instanceof Blob&&t.size)return t.size;if(!(\"undefined\"!=typeof FormData&&t instanceof FormData))try{return JSON.stringify(t).length}catch(e){return}}}},{}],11:[function(t,e,n){var r=0,o=navigator.userAgent.match(/Firefox[\\\\/\\\\s](\\\\d+\\\\.\\\\d+)/);o&&(r=+o[1]),e.exports=r},{}],12:[function(t,e,n){function r(t,e){var n=[],r=\"\",i=0;for(r in t)o.call(t,r)&&(n[i]=e(r,t[r]),i+=1);return n}var o=Object.prototype.hasOwnProperty;e.exports=r},{}],13:[function(t,e,n){function r(t,e,n){e||(e=0),\"undefined\"==typeof n&&(n=t?t.length:0);for(var r=-1,o=n-e||0,i=Array(o<0?0:o);++r<o;)i[r]=t[e+r];return i}e.exports=r},{}],14:[function(t,e,n){e.exports={exists:\"undefined\"!=typeof window.performance&&window.performance.timing&&\"undefined\"!=typeof window.performance.timing.navigationStart}},{}],15:[function(t,e,n){function r(t){return!(t&&t instanceof Function&&t.apply&&!t[a])}var o=t(\"ee\"),i=t(13),a=\"nr@original\",c=Object.prototype.hasOwnProperty,s=!1;e.exports=function(t,e){function n(t,e,n,o){function nrWrapper(){var r,a,c,s;try{a=this,r=i(arguments),c=\"function\"==typeof n?n(r,a):n||{}}catch(f){l([f,\"\",[r,a,o],c])}u(e+\"start\",[r,a,o],c);try{return s=t.apply(a,r)}catch(d){throw u(e+\"err\",[r,a,d],c),d}finally{u(e+\"end\",[r,a,s],c)}}return r(t)?t:(e||(e=\"\"),nrWrapper[a]=t,d(t,nrWrapper),nrWrapper)}function f(t,e,o,i){o||(o=\"\");var a,c,s,f=\"-\"===o.charAt(0);for(s=0;s<e.length;s++)c=e[s],a=t[c],r(a)||(t[c]=n(a,f?c+o:o,i,c))}function u(n,r,o){if(!s||e){var i=s;s=!0;try{t.emit(n,r,o,e)}catch(a){l([a,n,r,o])}s=i}}function d(t,e){if(Object.defineProperty&&Object.keys)try{var n=Object.keys(t);return n.forEach(function(n){Object.defineProperty(e,n,{get:function(){return t[n]},set:function(e){return t[n]=e,e}})}),e}catch(r){l([r])}for(var o in t)c.call(t,o)&&(e[o]=t[o]);return e}function l(e){try{t.emit(\"internal-error\",e)}catch(n){}}return t||(t=o),n.inPlace=f,n.flag=a,n}},{}],ee:[function(t,e,n){function r(){}function o(t){function e(t){return t&&t instanceof r?t:t?s(t,c,i):i()}function n(n,r,o,i){if(!l.aborted||i){t&&t(n,r,o);for(var a=e(o),c=h(n),s=c.length,f=0;f<s;f++)c[f].apply(a,r);var d=u[w[n]];return d&&d.push([g,n,r,a]),a}}function p(t,e){y[t]=h(t).concat(e)}function h(t){return y[t]||[]}function m(t){return d[t]=d[t]||o(n)}function v(t,e){f(t,function(t,n){e=e||\"feature\",w[n]=e,e in u||(u[e]=[])})}var y={},w={},g={on:p,emit:n,get:m,listeners:h,context:e,buffer:v,abort:a,aborted:!1};return g}function i(){return new r}function a(){(u.api||u.feature)&&(l.aborted=!0,u=l.backlog={})}var c=\"nr@context\",s=t(\"gos\"),f=t(12),u={},d={},l=e.exports=o();l.backlog=u},{}],gos:[function(t,e,n){function r(t,e,n){if(o.call(t,e))return t[e];var r=n();if(Object.defineProperty&&Object.keys)try{return Object.defineProperty(t,e,{value:r,writable:!0,enumerable:!1}),r}catch(i){}return t[e]=r,r}var o=Object.prototype.hasOwnProperty;e.exports=r},{}],handle:[function(t,e,n){function r(t,e,n,r){o.buffer([t],r),o.emit(t,e,n)}var o=t(\"ee\").get(\"handle\");e.exports=r,r.ee=o},{}],id:[function(t,e,n){function r(t){var e=typeof t;return!t||\"object\"!==e&&\"function\"!==e?-1:t===window?0:a(t,i,function(){return o++})}var o=1,i=\"nr@id\",a=t(\"gos\");e.exports=r},{}],loader:[function(t,e,n){function r(){if(!b++){var t=x.info=NREUM.info,e=l.getElementsByTagName(\"script\")[0];if(setTimeout(u.abort,3e4),!(t&&t.licenseKey&&t.applicationID&&e))return u.abort();f(w,function(e,n){t[e]||(t[e]=n)}),s(\"mark\",[\"onload\",a()+x.offset],null,\"api\");var n=l.createElement(\"script\");n.src=\"https://\"+t.agent,e.parentNode.insertBefore(n,e)}}function o(){\"complete\"===l.readyState&&i()}function i(){s(\"mark\",[\"domContent\",a()+x.offset],null,\"api\")}function a(){return E.exists&&performance.now?Math.round(performance.now()):(c=Math.max((new Date).getTime(),c))-x.offset}var c=(new Date).getTime(),s=t(\"handle\"),f=t(12),u=t(\"ee\"),d=window,l=d.document,p=\"addEventListener\",h=\"attachEvent\",m=d.XMLHttpRequest,v=m&&m.prototype;NREUM.o={ST:setTimeout,CT:clearTimeout,XHR:m,REQ:d.Request,EV:d.Event,PR:d.Promise,MO:d.MutationObserver};var y=\"\"+location,w={beacon:\"bam.nr-data.net\",errorBeacon:\"bam.nr-data.net\",agent:\"js-agent.newrelic.com/nr-1026.min.js\"},g=m&&v&&v[p]&&!/CriOS/.test(navigator.userAgent),x=e.exports={offset:c,now:a,origin:y,features:{},xhrWrappable:g};t(9),l[p]?(l[p](\"DOMContentLoaded\",i,!1),d[p](\"load\",r,!1)):(l[h](\"onreadystatechange\",o),d[h](\"onload\",r)),s(\"mark\",[\"firstbyte\",c],null,\"api\");var b=0,E=t(14)},{}]},{},[\"loader\",2,7]);</script><link href=\"https://lenta.ru/rubrics/world/2017/01/11/\" rel=\"canonical\" /><link href=\"/manifest.json\" rel=\"manifest\" /><link href=\"https://m.lenta.ru/rubrics/world/2017/01/11/\" media=\"only screen and (max-width: 640px)\" rel=\"alternate\" /><link rel=\"shortcut icon\" type=\"image/x-icon\" href=\"https://icdn.lenta.ru/favicon.ico\" /><link rel=\"apple-touch-icon\" type=\"image/png\" href=\"https://icdn.lenta.ru/lenta_touch.png\" /><link rel=\"stylesheet\" media=\"all\" href=\"https://icdn.lenta.ru/assets/webpack/e6bb1e5796049ab67ecb.desktop.css\" /><script>\\n//<![CDATA[\\n!function(e){function n(t){if(o[t])return o[t].exports;var s=o[t]={exports:{},id:t,loaded:!1};return e[t].call(s.exports,s,s.exports,n),s.loaded=!0,s.exports}var t=window.webpackJsonp;window.webpackJsonp=function(i,c){for(var d,r,a=0,w=[];a<i.length;a++)r=i[a],s[r]&&w.push.apply(w,s[r]),s[r]=0;for(d in c)e[d]=c[d];for(t&&t(i,c);w.length;)w.shift().call(null,n);return c[0]?(o[0]=0,n(0)):void 0};var o={},s={0:0};return n.e=function(e,t){if(0===s[e])return t.call(null,n);if(void 0!==s[e])s[e].push(t);else{s[e]=[t];var o=document.getElementsByTagName(\"head\")[0],i=document.createElement(\"script\");i.type=\"text/javascript\",i.charset=\"utf-8\",i.async=!0,i.src=n.p+\"\"+{1:\"e6bb1e5796049ab67ecb\",2:\"d9c1cc9fc68c28ec0472\",3:\"7906a6b4ec26d13793df\",4:\"7f7f6a6d38e18c85b45d\",5:\"b041efc5adc650430645\"}[e]+\".\"+e+\".js\",o.appendChild(i)}},n.m=e,n.c=o,n.p=\"/assets/webpack/\",n(0)}({0:function(e,n,t){\"use strict\";window._settings=window._settings||{},window._settings.events=window._settings.events||{},window._settings.components=window._settings.components||{},window._settings.modules=window._settings.modules||{},window._errors=[],window.onerror=function(e){window._errors.push(e)},t(244)},244:function(e,n){\"use strict\";if(\"#action-fade\"===window.location.hash){var t=window._settings.modules.fade.selectors,o=document.createElement(\"style\");o.innerHTML=t.join(\",\")+\" {opacity: 0;}\",document.head.appendChild(o)}}});\\n//# sourceMappingURL=778ad3dce90e9e89c274.inject.js.map\\n//]]>\\n</script><script src=\"https://icdn.lenta.ru/assets/webpack/778ad3dce90e9e89c274.common.js\" defer=\"defer\"></script><script src=\"https://icdn.lenta.ru/assets/webpack/e6bb1e5796049ab67ecb.desktop.js\" defer=\"defer\"></script></head><body class=\"page-archive\"><div class=\"g-sprite\"><svg xmlns=\"http://www.w3.org/2000/svg\"><symbol viewBox=\"0 0 30 20\" id=\"ui-age-limit\"><g fill=\"none\" fill-rule=\"evenodd\"><rect fill=\"#353535\" width=\"30\" height=\"20\" rx=\"2\"></rect><path d=\"M6.313 13.57H8.12V8.435l.195-.884-.624.77-1.155.792-.715-.974 2.963-2.392h.95v7.826H11.5V15H6.313v-1.43zm6.85-.793c0-.303.04-.574.118-.813a2.3 2.3 0 0 1 .334-.65c.143-.195.31-.37.507-.526.196-.156.406-.3.63-.43a3.406 3.406 0 0 1-1-.928c-.243-.352-.364-.787-.364-1.307 0-.338.063-.654.188-.95.126-.294.308-.55.546-.766a2.53 2.53 0 0 1 .864-.507 3.37 3.37 0 0 1 1.144-.182c.39 0 .745.052 1.066.156.32.104.596.25.826.442.23.19.407.422.532.696.126.273.19.574.19.903 0 .51-.116.945-.346 1.3-.23.355-.565.68-1.007.975.52.303.91.637 1.174 1 .265.365.397.833.397 1.405 0 .39-.07.743-.214 1.06a2.335 2.335 0 0 1-.604.812c-.26.225-.572.4-.936.526-.364.126-.763.19-1.196.19-.432 0-.824-.06-1.176-.176a2.7 2.7 0 0 1-.896-.488 2.127 2.127 0 0 1-.572-.756 2.355 2.355 0 0 1-.202-.988zm4.187-.17c0-.198-.048-.38-.143-.545a1.81 1.81 0 0 0-.37-.448 3.47 3.47 0 0 0-.508-.37 14.66 14.66 0 0 0-.567-.326c-.407.234-.687.487-.838.76a1.663 1.663 0 0 0-.228.813c0 .35.12.645.357.893.24.247.57.37.995.37.39 0 .703-.095.94-.286.24-.19.36-.477.36-.858zM25 9V7h-2v2h-2v2h2v2h2v-2h2V9h-2zm-10.003-.85a1.206 1.206 0 0 0 .435.954c.135.118.286.226.455.326.17.1.345.192.527.28.52-.443.78-.928.78-1.457 0-.364-.106-.64-.32-.825a1.132 1.132 0 0 0-.772-.28c-.38 0-.66.1-.838.3a1.02 1.02 0 0 0-.267.7z\" fill=\"#FFF\"></path><path d=\"M2 2h2v2H2V2zm24 0h2v2h-2V2zm0 14h2v2h-2v-2zM2 16h2v2H2v-2z\" fill=\"#5B5B5B\"></path></g></symbol><symbol viewBox=\"0 0 5 10\" id=\"ui-arrow_up\"><g fill-rule=\"evenodd\"><path d=\"M2 2h1v8H2z\"></path><path d=\"M2.5 0L5 4H0z\"></path></g></symbol><symbol viewBox=\"0 0 6 8\" id=\"ui-arrow-right\"><path d=\"M.834 6.334l1.414 1.414L5.956 4.04 2.166.253.752 1.666 3.127 4.04z\" fill=\"#FFF\" fill-rule=\"evenodd\"></path></symbol><symbol viewBox=\"0 0 11 9\" id=\"ui-checkmark\"><path d=\"M1.707 3.293L.293 4.707 4 8.414l6.79-6.79L9.376.21 4 5.586z\" fill=\"#EB0029\" fill-rule=\"evenodd\"></path></symbol><symbol viewBox=\"0 0 26 26\" id=\"ui-currency-eur_circled\"><g fill-rule=\"evenodd\"><path d=\"M13 25.75c7.042 0 12.75-5.708 12.75-12.75S20.042.25 13 .25.25 5.958.25 13 5.958 25.75 13 25.75zm0-1.5C6.787 24.25 1.75 19.213 1.75 13S6.787 1.75 13 1.75 24.25 6.787 24.25 13 19.213 24.25 13 24.25z\"></path><path d=\"M16.436 16.74v1.175l-.465.13c-.76.205-1.45.308-2.07.308-1.262 0-2.27-.327-3.02-.98-.747-.655-1.24-1.636-1.47-2.944H8.033l.35-.843h.908a11.98 11.98 0 0 1-.014-.512c0-.178.014-.456.04-.834H8.035l.35-.847h1.072c.283-1.217.812-2.13 1.59-2.738.776-.608 1.803-.912 3.08-.912.664 0 1.43.1 2.296.3v1.244c-.834-.323-1.595-.485-2.283-.485-.817 0-1.5.217-2.05.65-.548.432-.96 1.08-1.24 1.94h4.697l-.35.85h-4.53c-.028.368-.042.643-.042.826 0 .117.005.29.014.518h3.997l-.35.84h-3.5c.256.935.654 1.636 1.194 2.103.54.467 1.226.7 2.055.7.68 0 1.48-.163 2.4-.49z\"></path></g></symbol><symbol viewBox=\"0 0 26 26\" id=\"ui-currency-usd_circled\"><g fill-rule=\"evenodd\"><path d=\"M13 25.75c7.042 0 12.75-5.708 12.75-12.75S20.042.25 13 .25.25 5.958.25 13 5.958 25.75 13 25.75zm0-1.5C6.787 24.25 1.75 19.213 1.75 13S6.787 1.75 13 1.75 24.25 6.787 24.25 13 19.213 24.25 13 24.25z\"></path><path d=\"M12.773 19.96V19c-.916 0-1.945-.216-3.085-.648v-1.33c1.177.548 2.205.822 3.085.822v-4.15c-1.057-.645-1.78-1.215-2.168-1.71-.388-.494-.582-1.086-.582-1.773 0-.77.252-1.41.754-1.916.503-.508 1.168-.793 1.996-.855v-.97h.766v.97c.76 0 1.594.173 2.506.522v1.26c-1-.434-1.836-.676-2.508-.728v4.117c.28.17.49.3.632.383.797.485 1.34.922 1.633 1.313.29.39.437.875.437 1.453 0 .822-.242 1.524-.726 2.104-.485.58-1.144.96-1.977 1.137v.96h-.767zm.766-2.21c.9-.323 1.35-.91 1.35-1.758 0-.37-.086-.673-.258-.91s-.537-.548-1.094-.934v3.602zm-.768-5.648V8.54c-.932.29-1.398.838-1.398 1.64 0 .396.096.728.29.996.192.268.562.577 1.108.926z\"></path></g></symbol><symbol viewBox=\"0 0 179 185\" id=\"ui-lipton-logo\"><g fill=\"none\" fill-rule=\"evenodd\"><circle fill=\"#fed732\" cx=\"104.1\" cy=\"105.4\" r=\"56.4\"></circle><path d=\"M39.3 112.2c0-38 30.5-68.7 68.1-68.7 23 0 43.4 11.5 55.7 29.2-12-20.9-34.4-35-60.1-35-38.4 0-69.4 31.4-69.4 70.1 0 26 14 48.7 34.9 60.8-17.7-12.5-29.2-33.1-29.2-56.4z\" fill=\"#FFF\" opacity=\".7\"></path><path d=\"M150.7 147.5c0-5.2-4.2-9.5-9.5-9.5-5.2 0-9.5 4.2-9.5 9.5 0 5.2 4.2 9.5 9.5 9.5s9.5-4.3 9.5-9.5z\" fill=\"#FFF\" opacity=\".4\"></path><path d=\"M178.3 163.6c0-11.8-9.6-21.4-21.4-21.4-11.8 0-21.4 9.6-21.4 21.4 0 11.8 9.6 21.4 21.4 21.4 11.8 0 21.4-9.6 21.4-21.4z\" fill=\"#FFF\" opacity=\".4\"></path><path d=\"M59.8 71.9c0 3.4 2.7 6.1 6.1 6.1 3.4 0 6.1-2.7 6.1-6.1 0-3.4-2.7-6.1-6.1-6.1-3.4 0-6.1 2.7-6.1 6.1z\" fill=\"#FFF\" opacity=\".6\"></path><circle fill=\"#FFF\" opacity=\".6\" cx=\"55.7\" cy=\"61.8\" r=\"13.3\"></circle><path d=\"M116.9 135c0-19.6-15.9-35.6-35.5-35.6S45.8 115.3 45.8 135c0 19.6 15.9 35.5 35.6 35.5 19.6.1 35.5-15.8 35.5-35.5z\" fill=\"#FFF\" opacity=\".28\"></path><path d=\"M70.6 141c0-5.6-4.5-10.1-10.1-10.1s-10.1 4.5-10.1 10.1 4.5 10.1 10.1 10.1c5.5 0 10.1-4.5 10.1-10.1z\" fill=\"#FFF\" opacity=\".27\"></path><path d=\"M173.7 101.1c.1 1.2.1 2.5.1 3.7 0 36.7-34.6 71.7-70.7 71.7h-1.4c3.5.6 6.6.7 10.3.7 32.2 0 63-29.9 63-63.2.1-4.5-.4-8.8-1.3-12.9z\" fill=\"#FFF\" opacity=\".6\"></path><path d=\"M123.6 62.7C123.6 28.6 95.9.9 61.8.9 27.7.9 0 28.6 0 62.7c0 34.1 27.7 61.8 61.8 61.8 34.1 0 61.8-27.7 61.8-61.8z\" fill=\"#FFF\" opacity=\".25\"></path><path d=\"M104.3 72.5c-30.8 0-34.6 10.2-70.9 10.2v44.2c36.3 0 40.1 10.2 70.9 10.2 30.8 0 34.6-10.2 70.9-10.2V82.7c-36.3 0-40.1-10.2-70.9-10.2z\" fill=\"#FFF\"></path><path d=\"M104.3 77.9c-30.8 0-34.6 10.2-70.9 10.2v44.2c36.3 0 40.1 10.2 70.9 10.2 30.8 0 34.6-10.2 70.9-10.2V88.1c-36.3 0-40.1-10.2-70.9-10.2z\" fill=\"#FFF\"></path><path d=\"M104.3 75.2c-30.8 0-34.6 10.2-70.9 10.2v44.2c36.3 0 40.1 10.2 70.9 10.2 30.8 0 34.6-10.2 70.9-10.2V85.4c-36.3 0-40.1-10.2-70.9-10.2z\" fill=\"#EB0029\"></path><path d=\"M66.8 98.3H66s-.2 0 0 .2c.4.2.8.8.8 2.3v16.6c0 1.5-.5 2.1-.8 2.4-.2.2 0 .2 0 .2h7V98.4h-6.2m22.7-.7c-2.3 0-4.6 1-6.4 2.8l-.5.5v-2.7h-6.5s-.3 0 0 .2c.4.2.8.9.8 2.4v25.9s2.3.9 7 1.5c.1 0 .2 0 0-.2-.3-.2-.8-.8-.8-2v-8.5l.5.5c1.5 1.6 3.4 2.3 5.8 2.3 3.6 0 5.9-2 7.1-3.6 1.6-2.1 2.5-4.9 2.5-7.8 0-3.2-.9-6.1-2.7-8.2-1.6-1.9-4.1-3.1-6.8-3.1m1.4 16.4c-1.1 1.3-2.7 2.2-4.4 2.2-.8 0-2.1-.2-3.4-1.3l-.1-.1v-9.1s0-3.8 4.8-3.8c3 0 4.8 2.7 4.8 7.2.2 1.7-.5 3.5-1.7 4.9m37.2-16.4c-6.3 0-11.4 5.1-11.4 11.4 0 6.3 5.1 11.4 11.4 11.4 6.3 0 11.4-5.1 11.4-11.4 0-6.3-5.1-11.4-11.4-11.4m0 18.5c-3 0-5.5-3.2-5.5-7.2s2.5-7.2 5.5-7.2 5.5 3.2 5.5 7.2-2.5 7.2-5.5 7.2m-63.8-2.3s0-.3-.2 0-.8.8-2.2.8H54V92.3h-7.9s-.2 0 0 .2c.4.2.8.9.8 2.4v22.6c0 1.5-.5 2.1-.8 2.3-.2.2 0 .2 0 .2h15.8c1.6 0 2.4-1 2.4-2.8v-3.3m51.3.6c-.6.5-2.1 1.6-3.8 1.6-2.1 0-2.5-1.5-2.5-3.8v-9.9h2c3.9 0 3.8-4.2 3.8-4.2h-5.8v-6.1l-6.2 2.5v3.7h-2.3v4.1h2.4v10.3c0 4.7 2.7 7.7 7 7.7 5.3 0 5.9-4.6 5.9-5.9-.3-.1-.4-.1-.5 0m46.9 5.3c-.3-.2-.7-.7-.8-1.7v-12.6c0-2.6-.6-4.5-1.8-5.8-1.2-1.3-2.9-2-5.2-2-3.2 0-5.4 1.6-6.6 2.9l-.5.5v-2.8H141s-.2 0 0 .2c.4.2.8.9.8 2.4V120h7s.2 0 0-.2c-.3-.2-.7-.7-.8-1.7V109c0-3.9 2.6-6.5 5-6.5 1.7 0 2.4 1 2.4 3.6v13.8h6.9c.1 0 .4 0 .2-.1M69.8 89.9c-1.7 0-3.2 1.4-3.2 3.2 0 1.7 1.4 3.2 3.2 3.2 1.8 0 3.2-1.4 3.2-3.2 0-1.7-1.4-3.2-3.2-3.2\" fill=\"#FFF\"></path></g></symbol><symbol viewBox=\"0 0 252 42\" id=\"ui-logo\"><path d=\"M32.638 29.52c0-6.113 6.43-6.358 14.1-6.358h1.055v-6.55h-1.425c-7.608 0-12.434-.552-12.434-4.752 0-3.643 2.968-4.76 6.868-4.76 5.115 0 7.88 1.093 10.02 2.595V1.79C48.72.804 45.442 0 40.802 0 32.14 0 25.278 3.336 25.278 11.486c0 3.274 1.666 7.414 6.368 8.278-4.887.804-7.793 5.188-7.793 9.757 0 9.145 7.608 12.48 16.95 12.48 6.676 0 11.193-.925 14.16-2.967v-8.29C52.847 32.987 47.978 34.9 42.53 34.9c-4.363 0-9.892-1.363-9.892-5.38zM129.63.927H86.15V24.4L59.48 0h-.37v41.074h8.627v-22.61L94.4 42h.376V8.027h12.994v33.047h8.62V8.027h13.24v-7.1zM8.748 1.05H0v39.9h22.815v-7.673H8.748V1.05zm202.515 15.59c0-10.068-6.41-15.59-17.08-15.59H181.48v39.9h8.637v-8.715h4.066c1.174 0 2.343-.06 3.395-.25l7.953 8.965h10.175l-10.42-12.09c3.82-2.89 5.98-7.308 5.98-12.22zm-17.943 8.53h-3.203V8.107h3.266c6.17 0 9.25 3.133 9.25 8.532 0 4.79-3.204 8.53-9.312 8.53zm-21.663 7.378a4.674 4.674 0 0 0-4.694 4.695c0 2.634 2.1 4.755 4.694 4.755 2.54 0 4.64-2.12 4.64-4.755 0-2.622-2.1-4.695-4.64-4.695zm71.647-31.5V22.14c0 8.804-3.384 12.778-8.918 12.778-5.715 0-8.944-3.974-8.944-12.778V1.05h-8.7v19.18c0 13.364 4.783 21.77 17.644 21.77C247.252 42 252 33.41 252 20.23V1.05h-8.696zM142.47 0h-.37l-20.767 40.95h9.267l3.028-6.652h17.738l3.22 6.652h9.266L142.47 0zm-5.747 27.524l5.56-12.068 5.81 12.068h-11.37z\" fill-rule=\"evenodd\"></path></symbol><symbol viewBox=\"0 0 14 14\" id=\"ui-search\"><path d=\"M9.627 8.5H9.03l-.206-.206A4.852 4.852 0 0 0 10 5.124 4.875 4.875 0 1 0 5.125 10a4.86 4.86 0 0 0 3.17-1.175l.206.206v.596l3.75 3.743 1.118-1.12-3.74-3.75zm-4.502 0a3.374 3.374 0 1 1 0-6.75 3.374 3.374 0 0 1 0 6.75z\" fill-rule=\"evenodd\"></path></symbol><symbol viewBox=\"0 0 8 18\" id=\"ui-socials-fb-lipton\"><path d=\"M1.807 5.885H0V8.96h1.807V18h3.475V8.923h2.424l.26-3.038H5.28v-1.73c0-.718.138-1 .802-1h1.88V0H5.56C2.972 0 1.806 1.187 1.806 3.462v2.423\" fill-rule=\"evenodd\"></path></symbol><symbol viewBox=\"0 0 11 19\" id=\"ui-socials-ok-lipton\"><path d=\"M5.5 9.143c2.556 0 4.628-2.047 4.628-4.572C10.128 2.05 8.056 0 5.5 0S.872 2.047.872 4.57c0 2.526 2.072 4.573 4.628 4.573m0-6.82c1.258 0 2.277 1.006 2.277 2.248 0 1.244-1.02 2.25-2.277 2.25-1.258 0-2.277-1.006-2.277-2.25 0-1.24 1.02-2.247 2.277-2.247M10.835 9.7c-.26-.518-.985-.95-1.947-.2-1.3 1.01-3.388 1.01-3.388 1.01s-2.088 0-3.388-1.01C1.15 8.75.426 9.18.165 9.7c-.456.904.06 1.34 1.22 2.078.993.63 2.356.864 3.236.952l-.733.725L1.16 16.15a1.04 1.04 0 0 0 0 1.482l.124.123c.207.204.478.307.748.307h.004c.27 0 .542-.103.75-.307L5.51 15.06l2.728 2.695a1.07 1.07 0 0 0 1.5 0l.126-.124a1.04 1.04 0 0 0 0-1.48l-2.728-2.694-.737-.728c.88-.09 2.23-.326 3.213-.95 1.162-.736 1.677-1.173 1.22-2.077\" fill-rule=\"evenodd\"></path></symbol><symbol viewBox=\"0 0 18 15\" id=\"ui-socials-tw-lipton\"><path d=\"M17.994 1.704a1.157 1.157 0 0 1-.266.443l-.133.062v.125l-.664.57-.264.316c-.057.04-.448.226-.465.255v1.517h-.066V5.5h-.066v.315h-.065v.317h-.067v.252h-.068v.253h-.065c-.113.38-.222.76-.332 1.14h-.067v.125h-.067c-.023.107-.045.21-.065.317h-.067c-.045.124-.09.252-.133.38H15l-.132.376-.132.065-.068.253-.132.064v.124l-.132.065v.13h-.068c-.022.06-.043.124-.065.187l-.132.064v.125c-.067.044-.133.087-.2.128v.125l-.266.19v.126l-.663.57-.6.632h-.13l-.2.253-.2.064-.066.125h-.133l-.067.126-.198.065v.063h-.132l-.068.125-.397.13-.068.124c-.088.02-.176.042-.265.06v.065c-.133.04-.265.084-.398.127v.06H9.89v.065h-.13v.064h-.2v.062h-.13v.064h-.2v.06h-.2v.065l-.465.064v.064H8.3c-.75.236-1.638.314-2.656.314h-.997v-.062H4.05v-.065h-.332v-.065h-.332v-.064h-.332v-.06h-.2v-.065H2.59v-.06h-.2v-.065h-.2l.002-.063h-.2v-.065h-.198v-.062H1.66v-.064l-.33-.063v-.06a24.552 24.552 0 0 0-.4-.128v-.065H.797v-.062H.664v-.064H.53v-.064H.4l-.068-.127H.2v-.063c-.147-.085-.094.03-.2-.126h1.794v-.063c.33-.043.664-.083.995-.125V12.2h.197v-.062h.267v-.064h.132v-.064h.2v-.06h.132v-.066h.198v-.062l.266-.064v-.062l.265-.065.065-.123.266-.064c.024-.043.046-.083.066-.126h.133l.067-.126h.133c.04-.026.052-.083.132-.125v-.06c-1.148-.086-2.07-.58-2.59-1.268-.09-.062-.178-.126-.267-.19v-.124L2.32 9.36v-.127c-.13-.216-.3-.38-.333-.696.51.004 1.11.01 1.523-.064V8.41a1.727 1.727 0 0 1-.73-.19v-.06h-.134v-.065c-.09-.022-.177-.043-.266-.063l-.068-.125h-.13l-.134-.19h-.135c-.087-.106-.175-.21-.264-.316l-.134-.064V7.21l-.2-.13C.928 6.544.646 5.85.658 4.933h.068c.23.25 1.066.404 1.526.444v-.064c-.288-.126-.76-.578-.93-.823v-.13l-.132-.064a18.77 18.77 0 0 1-.133-.38h-.07V3.79H.926a63.16 63.16 0 0 1-.133-.63C.724 2.955.56 2.41.66 2.08h.067v-.44h.065v-.19H.86v-.19h.064v-.19H.99c.046-.125.09-.25.133-.38h.133v.065c.135.104.266.21.4.316v.13l.132.062c.09.105.176.21.265.316l.198.064.4.443h.133l.2.253h.132l.068.125h.13l.134.19h.133l.066.127.264.064.068.127.4.13.068.125.596.19v.064h.133v.06l.266.065v.064c.134.02.267.042.4.06v.066h.2v.063h.2v.063h.197v.062h.266v.064l.53.06v.064l1.595.192v-.254c-.113-.12-.066-.474-.064-.697 0-.613.168-1.06.398-1.454v-.13l.134-.063.067-.252.2-.126v-.13c.157-.126.31-.253.465-.38l.067-.126h.132l.135-.19.263-.064.068-.125h.133v-.06h.13V.253h.198V.19h.2V.125h.2V.062h.332V0h1.196v.062h.33v.064h.2V.19h.2v.063h.2v.062h.132V.38h.133l.067.125c.09.02.178.04.266.062.045.064.09.126.133.19h.13l.07.125c.16.142.216.174.53.19.153-.128.318-.053.53-.126V.882h.2V.82h.2V.755l.265-.062V.63h.2l.663-.378V.44h-.065l-.067.316h-.066v.126h-.068v.126l-.132.065V1.2l-.2.125v.126l-.13.066-.4.44h-.13l-.2.254h.067c.145-.12.45-.058.663-.126L18 1.706l-.003-.002z\" fill-rule=\"evenodd\"></path></symbol><symbol viewBox=\"0 0 21 12\" id=\"ui-socials-vk-lipton\"><path d=\"M11.517 11.995c.532 0 .75-.355.744-.8-.025-1.673.627-2.573 1.803-1.4 1.303 1.3 1.572 2.2 3.153 2.2h2.8c2.203 0 .24-2.206-1.312-3.643-1.476-1.366-1.545-1.398-.274-3.043C20.005 3.266 22.067.64 20.243.64H16.76c-.676 0-.725.393-.965.958-.87 2.048-2.525 4.702-3.153 4.297-.658-.424-.357-1.862-.306-4.354.013-.656.01-1.11-1-1.34C8.586-.44 6.2.813 7.174.994c1.375.256 1.243 2.985.922 4.266-.558 2.23-2.656-1.765-3.53-3.756-.21-.48-.275-.864-1.03-.864H.69c-.55 0-.818.25-.626.758.19.51 2.395 5.427 5 8.233 2.412 2.6 4.796 2.366 6.455 2.366\" fill-rule=\"evenodd\"></path></symbol><symbol viewBox=\"-1 0 20 18\" id=\"ui-user-classic\"><path d=\"M7.974 9.028C5.316 9.028 0 10.39 0 13.09 0 14.69 1.265 16 2.865 16h10.27C14.71 16 16 14.716 16 13.09c-.052-2.7-5.368-4.062-8.026-4.062zM7.458 6.93c2.323.342 4.258-1.65 3.897-4.01C11.123 1.454 9.96.275 8.515.04 6.195-.3 4.232 1.69 4.62 4.05c.205 1.494 1.392 2.674 2.837 2.883z\" stroke=\"#151515\" fill=\"none\"></path></symbol><symbol viewBox=\"0 0 14 13\" id=\"ui-user\"><path d=\"M6.875 7.222C4.583 7.222 0 8.312 0 10.472c0 1.28 1.09 2.328 2.47 2.328h8.854c1.357 0 2.47-1.028 2.47-2.328-.045-2.16-4.628-3.25-6.92-3.25zM6.43 5.545c2.002.273 3.67-1.32 3.36-3.208C9.59 1.163 8.587.22 7.34.03c-2-.27-3.69 1.32-3.358 3.21.178 1.193 1.202 2.136 2.448 2.304z\" fill-rule=\"evenodd\"></path></symbol></svg></div><div class=\"g-application js-root\" id=\"root\"><nav class=\"b-sidebar-menu js-sidebar\" id=\"sidebar\"><div class=\"b-sidebar-menu_mini js-sidebar__toggle\" data-class-toggled-body=\"toggled-sidebar\"><div class=\"b-sidebar-menu_mini__switcher\"><svg class=\"b-sidebar-menu_mini__switcher-icon\"><use xlink:href=\"#ui-arrow-plain_up\"></use></svg></div></div><div class=\"b-sidebar-menu_origin b-menu-decorator js-menu\" id=\"sidebar-menu\"><div class=\"b-sidebar-menu__auth\" data-class-active=\"b-sidebar-menu__auth_active\" data-class-loaded=\"b-sidebar-menu__auth_loaded\" data-class-logged=\"b-sidebar-menu__auth_logged\" id=\"js-sidebar__menu-auth\"><a class=\"b-sidebar-menu__auth-link\" href=\"/auth/signin/\"><div class=\"b-sidebar-menu__auth-avatar\"><svg class=\"svg-icons__user b-sidebar-menu__auth-avatar-icon\"><use xlink:href=\"#ui-user\"></use></svg></div></a></div><div class=\"b-sidebar-menu__wrap\"><ul class=\"b-sidebar-menu__list\"><li class=\"b-sidebar-menu__list-item\"><a style=\"color: #ffffff\" href=\"/\">\\xd0\\x93\\xd0\\xbb\\xd0\\xb0\\xd0\\xb2\\xd0\\xbd\\xd0\\xbe\\xd0\\xb5</a></li><li class=\"b-sidebar-menu__list-item\"><a style=\"color: #ffffff\" href=\"/rubrics/russia/\">\\xd0\\xa0\\xd0\\xbe\\xd1\\x81\\xd1\\x81\\xd0\\xb8\\xd1\\x8f</a></li><li class=\"b-sidebar-menu__list-item\"><a style=\"color: #ffffff\" href=\"/rubrics/world/\">\\xd0\\x9c\\xd0\\xb8\\xd1\\x80</a></li><li class=\"b-sidebar-menu__list-item\"><a style=\"color: #ffffff\" href=\"/rubrics/ussr/\">\\xd0\\x91\\xd1\\x8b\\xd0\\xb2\\xd1\\x88\\xd0\\xb8\\xd0\\xb9 \\xd0\\xa1\\xd0\\xa1\\xd0\\xa1\\xd0\\xa0</a></li><li class=\"b-sidebar-menu__list-item\"><a style=\"color: #ffffff\" href=\"/rubrics/economics/\">\\xd0\\xa4\\xd0\\xb8\\xd0\\xbd\\xd0\\xb0\\xd0\\xbd\\xd1\\x81\\xd1\\x8b</a></li><li class=\"b-sidebar-menu__list-item\"><a style=\"color: #ffffff\" href=\"/rubrics/business/\">\\xd0\\x91\\xd0\\xb8\\xd0\\xb7\\xd0\\xbd\\xd0\\xb5\\xd1\\x81</a></li><li class=\"b-sidebar-menu__list-item\"><a style=\"color: #ffffff\" href=\"/rubrics/forces/\">\\xd0\\xa1\\xd0\\xb8\\xd0\\xbb\\xd0\\xbe\\xd0\\xb2\\xd1\\x8b\\xd0\\xb5 \\xd1\\x81\\xd1\\x82\\xd1\\x80\\xd1\\x83\\xd0\\xba\\xd1\\x82\\xd1\\x83\\xd1\\x80\\xd1\\x8b</a></li><li class=\"b-sidebar-menu__list-item\"><a style=\"color: #ffffff\" href=\"/rubrics/science/\">\\xd0\\x9d\\xd0\\xb0\\xd1\\x83\\xd0\\xba\\xd0\\xb0 \\xd0\\xb8 \\xd1\\x82\\xd0\\xb5\\xd1\\x85\\xd0\\xbd\\xd0\\xb8\\xd0\\xba\\xd0\\xb0</a></li><li class=\"b-sidebar-menu__list-item\"><a style=\"color: #ffffff\" href=\"/rubrics/culture/\">\\xd0\\x9a\\xd1\\x83\\xd0\\xbb\\xd1\\x8c\\xd1\\x82\\xd1\\x83\\xd1\\x80\\xd0\\xb0</a></li><li class=\"b-sidebar-menu__list-item\"><a style=\"color: #ffffff\" href=\"/rubrics/sport/\">\\xd0\\xa1\\xd0\\xbf\\xd0\\xbe\\xd1\\x80\\xd1\\x82</a></li><li class=\"b-sidebar-menu__list-item\"><a style=\"color: #ffffff\" href=\"/rubrics/media/\">\\xd0\\x98\\xd0\\xbd\\xd1\\x82\\xd0\\xb5\\xd1\\x80\\xd0\\xbd\\xd0\\xb5\\xd1\\x82 \\xd0\\xb8 \\xd0\\xa1\\xd0\\x9c\\xd0\\x98</a></li><li class=\"b-sidebar-menu__list-item\"><a style=\"color: #ffffff\" href=\"/rubrics/style/\">\\xd0\\xa6\\xd0\\xb5\\xd0\\xbd\\xd0\\xbd\\xd0\\xbe\\xd1\\x81\\xd1\\x82\\xd0\\xb8 </a></li><li class=\"b-sidebar-menu__list-item\"><a style=\"color: #ffffff\" href=\"/rubrics/travel/\">\\xd0\\x9f\\xd1\\x83\\xd1\\x82\\xd0\\xb5\\xd1\\x88\\xd0\\xb5\\xd1\\x81\\xd1\\x82\\xd0\\xb2\\xd0\\xb8\\xd1\\x8f</a></li><li class=\"b-sidebar-menu__list-item\"><a style=\"color: #ffffff\" href=\"/rubrics/life/\">\\xd0\\x98\\xd0\\xb7 \\xd0\\xb6\\xd0\\xb8\\xd0\\xb7\\xd0\\xbd\\xd0\\xb8</a></li><li class=\"b-sidebar-menu__delimiter\"></li><li><a target=\"_blank\" style=\"color: #959595\" href=\"http://motor.ru/\">\\xd0\\x9c\\xd0\\xbe\\xd1\\x82\\xd0\\xbe\\xd1\\x80</a></li><li><a target=\"_blank\" style=\"color: #959595\" href=\"http://dom.lenta.ru/\">\\xd0\\x94\\xd0\\xbe\\xd0\\xbc</a></li><li class=\"b-sidebar-menu__delimiter\"></li><li><a style=\"color: #959595\" href=\"/parts/text/\">\\xd0\\xa1\\xd1\\x82\\xd0\\xb0\\xd1\\x82\\xd1\\x8c\\xd0\\xb8</a></li><li><a style=\"color: #959595\" href=\"/parts/photo/\">\\xd0\\x93\\xd0\\xb0\\xd0\\xbb\\xd0\\xb5\\xd1\\x80\\xd0\\xb5\\xd0\\xb8</a></li><li><a style=\"color: #959595\" href=\"/parts/video/\">\\xd0\\x92\\xd0\\xb8\\xd0\\xb4\\xd0\\xb5\\xd0\\xbe</a></li><li><a style=\"color: #959595\" href=\"/parts/opinions/\">\\xd0\\x9c\\xd0\\xbd\\xd0\\xb5\\xd0\\xbd\\xd0\\xb8\\xd1\\x8f</a></li><li><a style=\"color: #959595\" href=\"/specprojects/\">\\xd0\\xa1\\xd0\\xbf\\xd0\\xb5\\xd1\\x86\\xd0\\xbf\\xd1\\x80\\xd0\\xbe\\xd0\\xb5\\xd0\\xba\\xd1\\x82\\xd1\\x8b</a></li><li class=\"b-sidebar-menu__delimiter\"></li></ul><form action=\"/search\" class=\"b-sidebar-menu__search\" method=\"GET\"><input name=\"query\" placeholder=\"\\xd0\\x9f\\xd0\\xbe\\xd0\\xb8\\xd1\\x81\\xd0\\xba\" type=\"text\" /><a class=\"b-sidebar-menu__search-button\" onclick=\"$(this).closest(&#39;form&#39;).submit()\"><svg class=\"b-sidebar-menu__search-icon\"><use xlink:href=\"#ui-search\"></use></svg></a></form><div class=\"b-sidebar-menu__age-limit\"><svg class=\"b-sidebar-menu__age-limit-under-fuck\"><use xlink:href=\"#ui-under_fuck\"></use></svg><svg class=\"b-sidebar-menu__age-limit-limit\"><use xlink:href=\"#ui-age-limit\"></use></svg></div></div></div></nav><div class=\"b-up\" id=\"up\" title=\"\\xd0\\xbd\\xd0\\xb0\\xd0\\xb2\\xd0\\xb5\\xd1\\x80\\xd1\\x85\"><svg class=\"b-up__icon\"><use xlink:href=\"#ui-arrow-block_up\"></use></svg></div><section class=\"b-header b-header-inner js-header\"><div class=\"g-layout\"><div class=\"b-header-inner__wrap\"><a class=\"b-header-inner__logo\" href=\"/\"><svg class=\"b-header-inner__logo-icon\"><use xlink:href=\"#ui-logo\"></use></svg></a><div class=\"b-header-inner__info\"><div class=\"b-header-inner__block\">\\xd0\\x90\\xd1\\x80\\xd1\\x85\\xd0\\xb8\\xd0\\xb2</div><div class=\"date js-date-time\" id=\"date-time\"></div></div></div></div></section><section class=\"b-banner b-banner-top-decorator b-banner-top_observed js-advert js-advert-billboard\"><div id=\"ban_billboard\"></div></section><nav class=\"b-tags-list\"><div class=\"g-layout\"><div class=\"row\"><div class=\"span12\"><div class=\"items\"><select onchange=\"document.location.href = $(this).val();\" name=\"rubric[slug]\" id=\"rubric_slug\"><option value=\"/2017/01/11/\">\\xd0\\x92\\xd1\\x81\\xd0\\xb5 \\xd1\\x80\\xd1\\x83\\xd0\\xb1\\xd1\\x80\\xd0\\xb8\\xd0\\xba\\xd0\\xb8</option>\\n<option value=\"/rubrics/russia/2017/01/11/\">\\xd0\\xa0\\xd0\\xbe\\xd1\\x81\\xd1\\x81\\xd0\\xb8\\xd1\\x8f</option>\\n<option selected=\"selected\" value=\"/rubrics/world/2017/01/11/\">\\xd0\\x9c\\xd0\\xb8\\xd1\\x80</option>\\n<option value=\"/rubrics/ussr/2017/01/11/\">\\xd0\\x91\\xd1\\x8b\\xd0\\xb2\\xd1\\x88\\xd0\\xb8\\xd0\\xb9 \\xd0\\xa1\\xd0\\xa1\\xd0\\xa1\\xd0\\xa0</option>\\n<option value=\"/rubrics/economics/2017/01/11/\">\\xd0\\xa4\\xd0\\xb8\\xd0\\xbd\\xd0\\xb0\\xd0\\xbd\\xd1\\x81\\xd1\\x8b</option>\\n<option value=\"/rubrics/business/2017/01/11/\">\\xd0\\x91\\xd0\\xb8\\xd0\\xb7\\xd0\\xbd\\xd0\\xb5\\xd1\\x81</option>\\n<option value=\"/rubrics/forces/2017/01/11/\">\\xd0\\xa1\\xd0\\xb8\\xd0\\xbb\\xd0\\xbe\\xd0\\xb2\\xd1\\x8b\\xd0\\xb5 \\xd1\\x81\\xd1\\x82\\xd1\\x80\\xd1\\x83\\xd0\\xba\\xd1\\x82\\xd1\\x83\\xd1\\x80\\xd1\\x8b</option>\\n<option value=\"/rubrics/science/2017/01/11/\">\\xd0\\x9d\\xd0\\xb0\\xd1\\x83\\xd0\\xba\\xd0\\xb0 \\xd0\\xb8 \\xd1\\x82\\xd0\\xb5\\xd1\\x85\\xd0\\xbd\\xd0\\xb8\\xd0\\xba\\xd0\\xb0</option>\\n<option value=\"/rubrics/sport/2017/01/11/\">\\xd0\\xa1\\xd0\\xbf\\xd0\\xbe\\xd1\\x80\\xd1\\x82</option>\\n<option value=\"/rubrics/culture/2017/01/11/\">\\xd0\\x9a\\xd1\\x83\\xd0\\xbb\\xd1\\x8c\\xd1\\x82\\xd1\\x83\\xd1\\x80\\xd0\\xb0</option>\\n<option value=\"/rubrics/media/2017/01/11/\">\\xd0\\x98\\xd0\\xbd\\xd1\\x82\\xd0\\xb5\\xd1\\x80\\xd0\\xbd\\xd0\\xb5\\xd1\\x82 \\xd0\\xb8 \\xd0\\xa1\\xd0\\x9c\\xd0\\x98</option>\\n<option value=\"/rubrics/style/2017/01/11/\">\\xd0\\xa6\\xd0\\xb5\\xd0\\xbd\\xd0\\xbd\\xd0\\xbe\\xd1\\x81\\xd1\\x82\\xd0\\xb8</option>\\n<option value=\"/rubrics/travel/2017/01/11/\">\\xd0\\x9f\\xd1\\x83\\xd1\\x82\\xd0\\xb5\\xd1\\x88\\xd0\\xb5\\xd1\\x81\\xd1\\x82\\xd0\\xb2\\xd0\\xb8\\xd1\\x8f</option>\\n<option value=\"/rubrics/life/2017/01/11/\">\\xd0\\x98\\xd0\\xb7 \\xd0\\xb6\\xd0\\xb8\\xd0\\xb7\\xd0\\xbd\\xd0\\xb8</option>\\n<option value=\"/rubrics/motor/2017/01/11/\">\\xd0\\x9c\\xd0\\xbe\\xd1\\x82\\xd0\\xbe\\xd1\\x80</option>\\n<option value=\"/rubrics/realty/2017/01/11/\">\\xd0\\x9d\\xd0\\xb5\\xd0\\xb4\\xd0\\xb2\\xd0\\xb8\\xd0\\xb6\\xd0\\xb8\\xd0\\xbc\\xd0\\xbe\\xd1\\x81\\xd1\\x82\\xd1\\x8c</option></select>&nbsp;</div></div></div></div></nav><section class=\"b-layout js-layout b-layout_archive\"><div class=\"b-archive\"><div class=\"b-archive__header\"><div class=\"b-archive__header-rubric\"><h1><span class=\"rubrics\">\\xd0\\x9c\\xd0\\xb8\\xd1\\x80</span>.<span class=\"date\">11 \\xd1\\x8f\\xd0\\xbd\\xd0\\xb2\\xd0\\xb0\\xd1\\x80\\xd1\\x8f 2017</span></h1></div><div class=\"b-archive__header-date\"><a class=\"js-calendar\" href=\"/2017/01/11/\"><span class=\"b-archive__header-date-select\">\\xd0\\x92\\xd1\\x8b\\xd0\\xb1\\xd1\\x80\\xd0\\xb0\\xd1\\x82\\xd1\\x8c \\xd0\\xb4\\xd0\\xb0\\xd1\\x82\\xd1\\x83</span></a><div class=\"b-calendar__container js-calendar__container\"></div><a class=\"control_mini\" href=\"/rubrics/world/2017/01/10/\"><svg class=\"control_mini-icon control_mini-icon-prev\"><use xlink:href=\"#ui-arrow-block_up\"></use></svg></a><a class=\"control_mini\" href=\"/rubrics/world/2017/01/12/\"><svg class=\"control_mini-icon control_mini-icon-next\"><use xlink:href=\"#ui-arrow-block_up\"></use></svg></a></div></div></div><div class=\"g-layout\"><div class=\"row\"><div class=\"span4\"><section class=\"b-longgrid-column\"><div class=\"item article\"><div class=\"info g-date item__info\"><a class=\"rubric item__rubric\" href=\"/rubrics/world/\">\\xd0\\x9c\\xd0\\xb8\\xd1\\x80</a><div class=\"item__mdash\">&nbsp;&mdash;&nbsp;</div><span class=\"g-date item__date\"><span class=\"time\">00:12</span> 11 \\xd1\\x8f\\xd0\\xbd\\xd0\\xb2\\xd0\\xb0\\xd1\\x80\\xd1\\x8f 2017</span></div><div class=\"titles\"><h3><a href=\"/columns/2017/01/11/soares_obituary/\"><span>\\xd0\\xa7\\xd0\\xb5\\xd0\\xbb\\xd0\\xbe\\xd0\\xb2\\xd0\\xb5\\xd0\\xba \\xd0\\xbf\\xd0\\xb5\\xd1\\x80\\xd0\\xb5\\xd1\\x85\\xd0\\xbe\\xd0\\xb4\\xd0\\xb0</span></a></h3><div class=\"rightcol\">\\xd0\\x9e \\xd0\\xb3\\xd0\\xbb\\xd0\\xb0\\xd0\\xb2\\xd0\\xbd\\xd0\\xbe\\xd0\\xb9 \\xd0\\xb7\\xd0\\xb0\\xd1\\x81\\xd0\\xbb\\xd1\\x83\\xd0\\xb3\\xd0\\xb5 \\xd0\\x9c\\xd0\\xb0\\xd1\\x80\\xd0\\xb8\\xd0\\xbe \\xd0\\xa1\\xd0\\xbe\\xd0\\xb0\\xd1\\x80\\xd0\\xb5\\xd1\\x88\\xd0\\xb0</div></div></div><div class=\"item news b-tabloid__topic_news\"><div class=\"info g-date item__info\"><span class=\"g-date item__date\"><span class=\"time\">00:30</span> 11 \\xd1\\x8f\\xd0\\xbd\\xd0\\xb2\\xd0\\xb0\\xd1\\x80\\xd1\\x8f 2017</span></div><div class=\"titles\"><h3><a href=\"/news/2017/01/11/reactor_aes_belgia/\">\\xd0\\xa0\\xd0\\xb5\\xd0\\xb0\\xd0\\xba\\xd1\\x82\\xd0\\xbe\\xd1\\x80 \\xd0\\x90\\xd0\\xad\\xd0\\xa1 \\xd0\\xb2&nbsp;\\xd0\\x91\\xd0\\xb5\\xd0\\xbb\\xd1\\x8c\\xd0\\xb3\\xd0\\xb8\\xd0\\xb8 \\xd0\\xbe\\xd1\\x81\\xd1\\x82\\xd0\\xb0\\xd0\\xbd\\xd0\\xbe\\xd0\\xb2\\xd0\\xbb\\xd0\\xb5\\xd0\\xbd \\xd0\\xb8\\xd0\\xb7-\\xd0\\xb7\\xd0\\xb0 \\xd0\\xb0\\xd0\\xb2\\xd0\\xb0\\xd1\\x80\\xd0\\xb8\\xd0\\xb8</a></h3></div></div><div class=\"item news b-tabloid__topic_news\"><div class=\"info g-date item__info\"><span class=\"g-date item__date\"><span class=\"time\">01:54</span> 11 \\xd1\\x8f\\xd0\\xbd\\xd0\\xb2\\xd0\\xb0\\xd1\\x80\\xd1\\x8f 2017</span></div><div class=\"titles\"><h3><a href=\"/news/2017/01/11/dilan_ruf_smertnaya_kazn/\">\\xd0\\xa3\\xd0\\xb1\\xd0\\xb8\\xd0\\xb9\\xd1\\x86\\xd1\\x83 \\xd0\\xb4\\xd0\\xb5\\xd0\\xb2\\xd1\\x8f\\xd1\\x82\\xd0\\xb8 \\xd0\\xb0\\xd1\\x84\\xd1\\x80\\xd0\\xbe\\xd0\\xb0\\xd0\\xbc\\xd0\\xb5\\xd1\\x80\\xd0\\xb8\\xd0\\xba\\xd0\\xb0\\xd0\\xbd\\xd1\\x86\\xd0\\xb5\\xd0\\xb2 \\xd0\\xb2&nbsp;\\xd0\\xa1\\xd0\\xa8\\xd0\\x90 \\xd0\\xbf\\xd1\\x80\\xd0\\xb8\\xd0\\xb3\\xd0\\xbe\\xd0\\xb2\\xd0\\xbe\\xd1\\x80\\xd0\\xb8\\xd0\\xbb\\xd0\\xb8 \\xd0\\xba&nbsp;\\xd1\\x81\\xd0\\xbc\\xd0\\xb5\\xd1\\x80\\xd1\\x82\\xd0\\xbd\\xd0\\xbe\\xd0\\xb9 \\xd0\\xba\\xd0\\xb0\\xd0\\xb7\\xd0\\xbd\\xd0\\xb8</a></h3></div></div><div class=\"item news b-tabloid__topic_news\"><div class=\"info g-date item__info\"><span class=\"g-date item__date\"><span class=\"time\">01:55</span> 11 \\xd1\\x8f\\xd0\\xbd\\xd0\\xb2\\xd0\\xb0\\xd1\\x80\\xd1\\x8f 2017</span></div><div class=\"titles\"><h3><a href=\"/news/2017/01/11/synopsis/\">CNN \\xd1\\x83\\xd0\\xb7\\xd0\\xbd\\xd0\\xb0\\xd0\\xbb \\xd1\\x81\\xd0\\xbe\\xd0\\xb4\\xd0\\xb5\\xd1\\x80\\xd0\\xb6\\xd0\\xb0\\xd0\\xbd\\xd0\\xb8\\xd0\\xb5 \\xd1\\x81\\xd0\\xb5\\xd0\\xba\\xd1\\x80\\xd0\\xb5\\xd1\\x82\\xd0\\xbd\\xd0\\xbe\\xd0\\xb9 \\xd1\\x87\\xd0\\xb0\\xd1\\x81\\xd1\\x82\\xd0\\xb8 \\xd0\\xb4\\xd0\\xbe\\xd0\\xba\\xd0\\xbb\\xd0\\xb0\\xd0\\xb4\\xd0\\xb0 \\xd0\\xbe&nbsp;\\xd0\\xb2\\xd0\\xbb\\xd0\\xb8\\xd1\\x8f\\xd0\\xbd\\xd0\\xb8\\xd0\\xb8 \\xd0\\xa0\\xd0\\xbe\\xd1\\x81\\xd1\\x81\\xd0\\xb8\\xd0\\xb8 \\xd0\\xbd\\xd0\\xb0&nbsp;\\xd0\\xb2\\xd1\\x8b\\xd0\\xb1\\xd0\\xbe\\xd1\\x80\\xd1\\x8b \\xd0\\xb2&nbsp;\\xd0\\xa1\\xd0\\xa8\\xd0\\x90</a></h3></div></div><div class=\"item news b-tabloid__topic_news\"><div class=\"info g-date item__info\"><span class=\"g-date item__date\"><span class=\"time\">04:32</span> 11 \\xd1\\x8f\\xd0\\xbd\\xd0\\xb2\\xd0\\xb0\\xd1\\x80\\xd1\\x8f 2017</span></div><div class=\"titles\"><h3><a href=\"/news/2017/01/11/reports/\">\\xd0\\xa1\\xd0\\x9c\\xd0\\x98 \\xd0\\xbe\\xd0\\xbf\\xd1\\x83\\xd0\\xb1\\xd0\\xbb\\xd0\\xb8\\xd0\\xba\\xd0\\xbe\\xd0\\xb2\\xd0\\xb0\\xd0\\xbb\\xd0\\xb8 \\xd0\\xb8\\xd0\\xbd\\xd1\\x84\\xd0\\xbe\\xd1\\x80\\xd0\\xbc\\xd0\\xb0\\xd1\\x86\\xd0\\xb8\\xd1\\x8e \\xd0\\xbe&nbsp;\\xd0\\xbf\\xd1\\x8f\\xd1\\x82\\xd0\\xb8\\xd0\\xbb\\xd0\\xb5\\xd1\\x82\\xd0\\xbd\\xd0\\xb8\\xd1\\x85 \\xd1\\x81\\xd0\\xb2\\xd1\\x8f\\xd0\\xb7\\xd1\\x8f\\xd1\\x85 \\xd0\\xa2\\xd1\\x80\\xd0\\xb0\\xd0\\xbc\\xd0\\xbf\\xd0\\xb0 \\xd1\\x81&nbsp;\\xd0\\xa0\\xd0\\xbe\\xd1\\x81\\xd1\\x81\\xd0\\xb8\\xd0\\xb5\\xd0\\xb9</a></h3></div></div><div class=\"item news b-tabloid__topic_news\"><div class=\"info g-date item__info\"><span class=\"g-date item__date\"><span class=\"time\">05:08</span> 11 \\xd1\\x8f\\xd0\\xbd\\xd0\\xb2\\xd0\\xb0\\xd1\\x80\\xd1\\x8f 2017</span></div><div class=\"titles\"><h3><a href=\"/news/2017/01/11/trumpcomment/\">\\xd0\\xa2\\xd1\\x80\\xd0\\xb0\\xd0\\xbc\\xd0\\xbf \\xd0\\xbd\\xd0\\xb0\\xd0\\xb7\\xd0\\xb2\\xd0\\xb0\\xd0\\xbb \\xd1\\x81\\xd0\\xbe\\xd0\\xbe\\xd0\\xb1\\xd1\\x89\\xd0\\xb5\\xd0\\xbd\\xd0\\xb8\\xd1\\x8f \\xd0\\xbe&nbsp;\\xd0\\xba\\xd0\\xbe\\xd0\\xbd\\xd1\\x82\\xd0\\xb0\\xd0\\xba\\xd1\\x82\\xd0\\xb0\\xd1\\x85 \\xd1\\x81&nbsp;\\xd0\\x9c\\xd0\\xbe\\xd1\\x81\\xd0\\xba\\xd0\\xb2\\xd0\\xbe\\xd0\\xb9 \\xd0\\xbe\\xd1\\x85\\xd0\\xbe\\xd1\\x82\\xd0\\xbe\\xd0\\xb9 \\xd0\\xbd\\xd0\\xb0&nbsp;\\xd0\\xb2\\xd0\\xb5\\xd0\\xb4\\xd1\\x8c\\xd0\\xbc</a></h3></div></div><div class=\"item news b-tabloid__topic_news\"><div class=\"info g-date item__info\"><span class=\"g-date item__date\"><span class=\"time\">06:03</span> 11 \\xd1\\x8f\\xd0\\xbd\\xd0\\xb2\\xd0\\xb0\\xd1\\x80\\xd1\\x8f 2017</span></div><div class=\"titles\"><h3><a href=\"/news/2017/01/11/obama/\">\\xd0\\x9e\\xd0\\xb1\\xd0\\xb0\\xd0\\xbc\\xd0\\xb0 \\xd1\\x83\\xd1\\x81\\xd0\\xbe\\xd0\\xbc\\xd0\\xbd\\xd0\\xb8\\xd0\\xbb\\xd1\\x81\\xd1\\x8f \\xd0\\xb2&nbsp;\\xd1\\x88\\xd0\\xb0\\xd0\\xbd\\xd1\\x81\\xd0\\xb0\\xd1\\x85 \\xd0\\xa0\\xd0\\xbe\\xd1\\x81\\xd1\\x81\\xd0\\xb8\\xd0\\xb8 \\xd0\\xb8&nbsp;\\xd0\\x9a\\xd0\\xb8\\xd1\\x82\\xd0\\xb0\\xd1\\x8f \\xd1\\x81\\xd1\\x80\\xd0\\xb0\\xd0\\xb2\\xd0\\xbd\\xd1\\x8f\\xd1\\x82\\xd1\\x8c\\xd1\\x81\\xd1\\x8f \\xd0\\xbf\\xd0\\xbe&nbsp;\\xd0\\xb2\\xd0\\xbb\\xd0\\xb8\\xd1\\x8f\\xd0\\xbd\\xd0\\xb8\\xd1\\x8e \\xd1\\x81&nbsp;\\xd0\\xa1\\xd0\\xa8\\xd0\\x90</a></h3></div></div><div class=\"item news b-tabloid__topic_news\"><div class=\"info g-date item__info\"><span class=\"g-date item__date\"><span class=\"time\">07:07</span> 11 \\xd1\\x8f\\xd0\\xbd\\xd0\\xb2\\xd0\\xb0\\xd1\\x80\\xd1\\x8f 2017</span></div><div class=\"titles\"><h3><a href=\"/news/2017/01/11/tillerson_senate/\">\\xd0\\xa1\\xd0\\x9c\\xd0\\x98 \\xd1\\x83\\xd0\\xb7\\xd0\\xbd\\xd0\\xb0\\xd0\\xbb\\xd0\\xb8 \\xd0\\xbe&nbsp;\\xd0\\xbf\\xd0\\xbb\\xd0\\xb0\\xd0\\xbd\\xd0\\xb0\\xd1\\x85 \\xd0\\xa2\\xd0\\xb8\\xd0\\xbb\\xd0\\xbb\\xd0\\xb5\\xd1\\x80\\xd1\\x81\\xd0\\xbe\\xd0\\xbd\\xd0\\xb0 \\xd0\\xbe\\xd0\\xb1\\xd0\\xb2\\xd0\\xb8\\xd0\\xbd\\xd0\\xb8\\xd1\\x82\\xd1\\x8c \\xd0\\xa0\\xd0\\xbe\\xd1\\x81\\xd1\\x81\\xd0\\xb8\\xd1\\x8e \\xd0\\xb2&nbsp;\\xd0\\xb8\\xd0\\xb3\\xd0\\xbd\\xd0\\xbe\\xd1\\x80\\xd0\\xb8\\xd1\\x80\\xd0\\xbe\\xd0\\xb2\\xd0\\xb0\\xd0\\xbd\\xd0\\xb8\\xd0\\xb8 \\xd0\\xb8\\xd0\\xbd\\xd1\\x82\\xd0\\xb5\\xd1\\x80\\xd0\\xb5\\xd1\\x81\\xd0\\xbe\\xd0\\xb2 \\xd0\\xa1\\xd0\\xa8\\xd0\\x90</a></h3></div></div><div class=\"item news b-tabloid__topic_news\"><div class=\"info g-date item__info\"><span class=\"g-date item__date\"><span class=\"time\">07:30</span> 11 \\xd1\\x8f\\xd0\\xbd\\xd0\\xb2\\xd0\\xb0\\xd1\\x80\\xd1\\x8f 2017</span></div><div class=\"titles\"><h3><a href=\"/news/2017/01/11/zasterlil_vooruzh_grab_mableton/\">\\xd0\\x97\\xd0\\xb0\\xd1\\x81\\xd1\\x82\\xd1\\x80\\xd0\\xb5\\xd0\\xbb\\xd0\\xb8\\xd0\\xb2\\xd1\\x88\\xd0\\xb8\\xd0\\xb9 \\xd0\\xb3\\xd1\\x80\\xd0\\xb0\\xd0\\xb1\\xd0\\xb8\\xd1\\x82\\xd0\\xb5\\xd0\\xbb\\xd1\\x8f \\xd0\\xb2\\xd0\\xbb\\xd0\\xb0\\xd0\\xb4\\xd0\\xb5\\xd0\\xbb\\xd0\\xb5\\xd1\\x86 \\xd0\\xbe\\xd1\\x80\\xd1\\x83\\xd0\\xb6\\xd0\\xb5\\xd0\\xb9\\xd0\\xbd\\xd0\\xbe\\xd0\\xb3\\xd0\\xbe \\xd0\\xbc\\xd0\\xb0\\xd0\\xb3\\xd0\\xb0\\xd0\\xb7\\xd0\\xb8\\xd0\\xbd\\xd0\\xb0 \\xd0\\xbf\\xd0\\xbe\\xd0\\xbf\\xd0\\xb0\\xd0\\xbb \\xd0\\xbd\\xd0\\xb0&nbsp;\\xd0\\xba\\xd0\\xb0\\xd0\\xbc\\xd0\\xb5\\xd1\\x80\\xd1\\x83 \\xd0\\xbd\\xd0\\xb0\\xd0\\xb1\\xd0\\xbb\\xd1\\x8e\\xd0\\xb4\\xd0\\xb5\\xd0\\xbd\\xd0\\xb8\\xd1\\x8f</a></h3></div></div><div class=\"item news b-tabloid__topic_news\"><div class=\"info g-date item__info\"><span class=\"g-date item__date\"><span class=\"time\">09:33</span> 11 \\xd1\\x8f\\xd0\\xbd\\xd0\\xb2\\xd0\\xb0\\xd1\\x80\\xd1\\x8f 2017</span></div><div class=\"titles\"><h3><a href=\"/news/2017/01/11/no_credibility/\">WikiLeaks \\xd1\\x83\\xd1\\x81\\xd0\\xbe\\xd0\\xbc\\xd0\\xbd\\xd0\\xb8\\xd0\\xbb\\xd1\\x81\\xd1\\x8f \\xd0\\xb2&nbsp;\\xd0\\xb4\\xd0\\xbe\\xd1\\x81\\xd1\\x82\\xd0\\xbe\\xd0\\xb2\\xd0\\xb5\\xd1\\x80\\xd0\\xbd\\xd0\\xbe\\xd1\\x81\\xd1\\x82\\xd0\\xb8 \\xd0\\xb8\\xd0\\xbd\\xd1\\x84\\xd0\\xbe\\xd1\\x80\\xd0\\xbc\\xd0\\xb0\\xd1\\x86\\xd0\\xb8\\xd0\\xb8 \\xd0\\xbe&nbsp;\\xd1\\x81\\xd0\\xb2\\xd1\\x8f\\xd0\\xb7\\xd1\\x8f\\xd1\\x85 \\xd0\\xa2\\xd1\\x80\\xd0\\xb0\\xd0\\xbc\\xd0\\xbf\\xd0\\xb0 \\xd1\\x81&nbsp;\\xd0\\xa0\\xd0\\xbe\\xd1\\x81\\xd1\\x81\\xd0\\xb8\\xd0\\xb5\\xd0\\xb9</a></h3></div></div><div class=\"item news b-tabloid__topic_news\"><div class=\"info g-date item__info\"><span class=\"g-date item__date\"><span class=\"time\">10:44</span> 11 \\xd1\\x8f\\xd0\\xbd\\xd0\\xb2\\xd0\\xb0\\xd1\\x80\\xd1\\x8f 2017</span></div><div class=\"titles\"><h3><a href=\"/news/2017/01/11/ciafsbtalks/\">\\xd0\\x93\\xd0\\xbb\\xd0\\xb0\\xd0\\xb2\\xd0\\xb0 \\xd0\\xa6\\xd0\\xa0\\xd0\\xa3 \\xd1\\x80\\xd0\\xb0\\xd1\\x81\\xd1\\x81\\xd0\\xba\\xd0\\xb0\\xd0\\xb7\\xd0\\xb0\\xd0\\xbb \\xd0\\xbe&nbsp;\\xd1\\x80\\xd0\\xb0\\xd0\\xb7\\xd0\\xb3\\xd0\\xbe\\xd0\\xb2\\xd0\\xbe\\xd1\\x80\\xd0\\xb5 \\xd1\\x81&nbsp;\\xd1\\x80\\xd0\\xbe\\xd1\\x81\\xd1\\x81\\xd0\\xb8\\xd0\\xb9\\xd1\\x81\\xd0\\xba\\xd0\\xb8\\xd0\\xbc\\xd0\\xb8 \\xd0\\xba\\xd0\\xbe\\xd0\\xbb\\xd0\\xbb\\xd0\\xb5\\xd0\\xb3\\xd0\\xb0\\xd0\\xbc\\xd0\\xb8 \\xd0\\xbf\\xd0\\xbe&nbsp;\\xd0\\xbf\\xd0\\xbe\\xd0\\xb2\\xd0\\xbe\\xd0\\xb4\\xd1\\x83 \\xd0\\xba\\xd0\\xb8\\xd0\\xb1\\xd0\\xb5\\xd1\\x80\\xd0\\xb0\\xd1\\x82\\xd0\\xb0\\xd0\\xba</a></h3></div></div></section></div><div class=\"span4\"><section class=\"b-longgrid-column\"><div class=\"item news b-tabloid__topic_news\"><div class=\"info g-date item__info\"><span class=\"g-date item__date\"><span class=\"time\">10:44</span> 11 \\xd1\\x8f\\xd0\\xbd\\xd0\\xb2\\xd0\\xb0\\xd1\\x80\\xd1\\x8f 2017</span></div><div class=\"titles\"><h3><a href=\"/news/2017/01/11/ambassador_wounded/\">\\xd0\\x92 \\xd0\\x90\\xd1\\x84\\xd0\\xb3\\xd0\\xb0\\xd0\\xbd\\xd0\\xb8\\xd1\\x81\\xd1\\x82\\xd0\\xb0\\xd0\\xbd\\xd0\\xb5 \\xd0\\xbf\\xd1\\x80\\xd0\\xb8 \\xd1\\x82\\xd0\\xb5\\xd1\\x80\\xd0\\xb0\\xd0\\xba\\xd1\\x82\\xd0\\xb5 \\xd1\\x80\\xd0\\xb0\\xd0\\xbd\\xd0\\xb5\\xd0\\xbd \\xd0\\xbf\\xd0\\xbe\\xd1\\x81\\xd0\\xbe\\xd0\\xbb \\xd0\\x9e\\xd0\\x90\\xd0\\xad</a></h3></div></div><div class=\"item news b-tabloid__topic_news\"><div class=\"info g-date item__info\"><span class=\"g-date item__date\"><span class=\"time\">11:41</span> 11 \\xd1\\x8f\\xd0\\xbd\\xd0\\xb2\\xd0\\xb0\\xd1\\x80\\xd1\\x8f 2017</span></div><div class=\"titles\"><h3><a href=\"/news/2017/01/11/against_assad/\">\\xd0\\x90\\xd0\\xbc\\xd0\\xb5\\xd1\\x80\\xd0\\xb8\\xd0\\xba\\xd0\\xb0\\xd0\\xbd\\xd1\\x81\\xd0\\xba\\xd0\\xb8\\xd0\\xb5 \\xd0\\xa1\\xd0\\x9c\\xd0\\x98 \\xd1\\x80\\xd0\\xb0\\xd1\\x81\\xd1\\x81\\xd0\\xba\\xd0\\xb0\\xd0\\xb7\\xd0\\xb0\\xd0\\xbb\\xd0\\xb8 \\xd0\\xbe&nbsp;\\xd0\\xbf\\xd0\\xbb\\xd0\\xb0\\xd0\\xbd\\xd0\\xb0\\xd1\\x85 \\xd0\\xa1\\xd0\\xa8\\xd0\\x90 \\xd0\\xb8\\xd1\\x81\\xd0\\xbf\\xd0\\xbe\\xd0\\xbb\\xd1\\x8c\\xd0\\xb7\\xd0\\xbe\\xd0\\xb2\\xd0\\xb0\\xd1\\x82\\xd1\\x8c \\xd0\\x98\\xd0\\x93&nbsp;\\xd0\\xbf\\xd1\\x80\\xd0\\xbe\\xd1\\x82\\xd0\\xb8\\xd0\\xb2 \\xd0\\x90\\xd1\\x81\\xd0\\xb0\\xd0\\xb4\\xd0\\xb0</a></h3></div></div><div class=\"item news b-tabloid__topic_news\"><div class=\"info g-date item__info\"><span class=\"g-date item__date\"><span class=\"time\">12:32</span> 11 \\xd1\\x8f\\xd0\\xbd\\xd0\\xb2\\xd0\\xb0\\xd1\\x80\\xd1\\x8f 2017</span></div><div class=\"titles\"><h3><a href=\"/news/2017/01/11/migrants_quotas/\">\\xd0\\xa4\\xd0\\xb8\\xd0\\xb9\\xd0\\xbe\\xd0\\xbd \\xd0\\xbf\\xd0\\xbe\\xd0\\xbe\\xd0\\xb1\\xd0\\xb5\\xd1\\x89\\xd0\\xb0\\xd0\\xbb \\xd0\\xb2\\xd0\\xb2\\xd0\\xb5\\xd1\\x81\\xd1\\x82\\xd0\\xb8 \\xd0\\xba\\xd0\\xb2\\xd0\\xbe\\xd1\\x82\\xd1\\x8b \\xd0\\xbd\\xd0\\xb0&nbsp;\\xd0\\xbc\\xd0\\xb8\\xd0\\xb3\\xd1\\x80\\xd0\\xb0\\xd0\\xbd\\xd1\\x82\\xd0\\xbe\\xd0\\xb2</a></h3></div></div><div class=\"item news b-tabloid__topic_news\"><div class=\"info g-date item__info\"><span class=\"g-date item__date\"><span class=\"time\">12:44</span> 11 \\xd1\\x8f\\xd0\\xbd\\xd0\\xb2\\xd0\\xb0\\xd1\\x80\\xd1\\x8f 2017</span></div><div class=\"titles\"><h3><a href=\"/news/2017/01/11/francepoliceradicalisation/\">\\xd0\\x92 \\xd0\\xbf\\xd0\\xbe\\xd0\\xbb\\xd0\\xb8\\xd1\\x86\\xd0\\xb8\\xd0\\xb8 \\xd0\\x9f\\xd0\\xb0\\xd1\\x80\\xd0\\xb8\\xd0\\xb6\\xd0\\xb0 \\xd0\\xbe\\xd1\\x82\\xd0\\xbc\\xd0\\xb5\\xd1\\x87\\xd0\\xb5\\xd0\\xbd\\xd1\\x8b \\xd1\\x81\\xd0\\xbb\\xd1\\x83\\xd1\\x87\\xd0\\xb0\\xd0\\xb8 \\xd1\\x80\\xd0\\xb0\\xd0\\xb4\\xd0\\xb8\\xd0\\xba\\xd0\\xb0\\xd0\\xbb\\xd0\\xb8\\xd0\\xb7\\xd0\\xb0\\xd1\\x86\\xd0\\xb8\\xd0\\xb8 \\xd1\\x81\\xd0\\xbe\\xd1\\x82\\xd1\\x80\\xd1\\x83\\xd0\\xb4\\xd0\\xbd\\xd0\\xb8\\xd0\\xba\\xd0\\xbe\\xd0\\xb2</a></h3></div></div><div class=\"item news b-tabloid__topic_news\"><div class=\"info g-date item__info\"><span class=\"g-date item__date\"><span class=\"time\">13:10</span> 11 \\xd1\\x8f\\xd0\\xbd\\xd0\\xb2\\xd0\\xb0\\xd1\\x80\\xd1\\x8f 2017</span></div><div class=\"titles\"><h3><a href=\"/news/2017/01/11/samsung_suspected/\">\\xd0\\x97\\xd0\\xb0\\xd0\\xbc\\xd0\\xbf\\xd1\\x80\\xd0\\xb5\\xd0\\xb4\\xd1\\x81\\xd0\\xb5\\xd0\\xb4\\xd0\\xb0\\xd1\\x82\\xd0\\xb5\\xd0\\xbb\\xd1\\x8f \\xd0\\xba\\xd0\\xbe\\xd1\\x80\\xd0\\xbf\\xd0\\xbe\\xd1\\x80\\xd0\\xb0\\xd1\\x86\\xd0\\xb8\\xd0\\xb8 Samsung \\xd0\\xb4\\xd0\\xbe\\xd0\\xbf\\xd1\\x80\\xd0\\xbe\\xd1\\x81\\xd1\\x8f\\xd1\\x82 \\xd0\\xbf\\xd0\\xbe&nbsp;\\xd0\\xbf\\xd0\\xbe\\xd0\\xb4\\xd0\\xbe\\xd0\\xb7\\xd1\\x80\\xd0\\xb5\\xd0\\xbd\\xd0\\xb8\\xd1\\x8e \\xd0\\xb2&nbsp;\\xd0\\xba\\xd0\\xbe\\xd1\\x80\\xd1\\x80\\xd1\\x83\\xd0\\xbf\\xd1\\x86\\xd0\\xb8\\xd0\\xb8</a></h3></div></div><div class=\"item news b-tabloid__topic_news\"><div class=\"info g-date item__info\"><span class=\"g-date item__date\"><span class=\"time\">13:38</span> 11 \\xd1\\x8f\\xd0\\xbd\\xd0\\xb2\\xd0\\xb0\\xd1\\x80\\xd1\\x8f 2017</span></div><div class=\"titles\"><h3><a href=\"/news/2017/01/11/italyimams/\">\\xd0\\x98\\xd0\\xbc\\xd0\\xb0\\xd0\\xbc\\xd0\\xbe\\xd0\\xb2 \\xd0\\xb2&nbsp;\\xd0\\x98\\xd1\\x82\\xd0\\xb0\\xd0\\xbb\\xd0\\xb8\\xd0\\xb8 \\xd0\\xbe\\xd0\\xb7\\xd0\\xbd\\xd0\\xb0\\xd0\\xba\\xd0\\xbe\\xd0\\xbc\\xd1\\x8f\\xd1\\x82 \\xd1\\x81&nbsp;\\xd0\\xbf\\xd1\\x80\\xd0\\xb8\\xd0\\xbd\\xd1\\x86\\xd0\\xb8\\xd0\\xbf\\xd0\\xb0\\xd0\\xbc\\xd0\\xb8 \\xd0\\xba\\xd0\\xbe\\xd0\\xbd\\xd1\\x81\\xd1\\x82\\xd0\\xb8\\xd1\\x82\\xd1\\x83\\xd1\\x86\\xd0\\xb8\\xd0\\xb8 \\xd1\\x81\\xd1\\x82\\xd1\\x80\\xd0\\xb0\\xd0\\xbd\\xd1\\x8b</a></h3></div></div><div class=\"item news b-tabloid__topic_news\"><div class=\"info g-date item__info\"><span class=\"g-date item__date\"><span class=\"time\">14:02</span> 11 \\xd1\\x8f\\xd0\\xbd\\xd0\\xb2\\xd0\\xb0\\xd1\\x80\\xd1\\x8f 2017</span></div><div class=\"titles\"><h3><a href=\"/news/2017/01/11/trump_rating/\">\\xd0\\xa0\\xd0\\xb5\\xd0\\xb9\\xd1\\x82\\xd0\\xb8\\xd0\\xbd\\xd0\\xb3 \\xd0\\xa2\\xd1\\x80\\xd0\\xb0\\xd0\\xbc\\xd0\\xbf\\xd0\\xb0 \\xd1\\x83\\xd0\\xbf\\xd0\\xb0\\xd0\\xbb \\xd0\\xb4\\xd0\\xbe&nbsp;\\xd0\\xbc\\xd0\\xb8\\xd0\\xbd\\xd0\\xb8\\xd0\\xbc\\xd0\\xb0\\xd0\\xbb\\xd1\\x8c\\xd0\\xbd\\xd0\\xbe\\xd0\\xb3\\xd0\\xbe \\xd0\\xbf\\xd0\\xbe\\xd1\\x81\\xd0\\xbb\\xd0\\xb5 \\xd0\\xb2\\xd1\\x8b\\xd0\\xb1\\xd0\\xbe\\xd1\\x80\\xd0\\xbe\\xd0\\xb2 \\xd0\\xb7\\xd0\\xbd\\xd0\\xb0\\xd1\\x87\\xd0\\xb5\\xd0\\xbd\\xd0\\xb8\\xd1\\x8f</a></h3></div></div><div class=\"item news b-tabloid__topic_news\"><div class=\"info g-date item__info\"><span class=\"g-date item__date\"><span class=\"time\">15:08</span> 11 \\xd1\\x8f\\xd0\\xbd\\xd0\\xb2\\xd0\\xb0\\xd1\\x80\\xd1\\x8f 2017</span></div><div class=\"titles\"><h3><a href=\"/news/2017/01/11/unicefstatistics/\">\\xd0\\x9f\\xd0\\xbe\\xd0\\xbb\\xd1\\x82\\xd0\\xbe\\xd1\\x80\\xd1\\x8b \\xd1\\x82\\xd1\\x8b\\xd1\\x81\\xd1\\x8f\\xd1\\x87\\xd0\\xb8 \\xd0\\xb4\\xd0\\xb5\\xd1\\x82\\xd0\\xb5\\xd0\\xb9 \\xd0\\xbf\\xd0\\xbe\\xd0\\xb3\\xd0\\xb8\\xd0\\xb1\\xd0\\xbb\\xd0\\xb8 \\xd0\\xb2&nbsp;\\xd0\\x99\\xd0\\xb5\\xd0\\xbc\\xd0\\xb5\\xd0\\xbd\\xd0\\xb5 \\xd0\\xbf\\xd0\\xbe\\xd1\\x81\\xd0\\xbb\\xd0\\xb5 \\xd0\\xb2\\xd0\\xbc\\xd0\\xb5\\xd1\\x88\\xd0\\xb0\\xd1\\x82\\xd0\\xb5\\xd0\\xbb\\xd1\\x8c\\xd1\\x81\\xd1\\x82\\xd0\\xb2\\xd0\\xb0 \\xd0\\xa1\\xd0\\xb0\\xd1\\x83\\xd0\\xb4\\xd0\\xbe\\xd0\\xb2\\xd1\\x81\\xd0\\xba\\xd0\\xbe\\xd0\\xb9 \\xd0\\x90\\xd1\\x80\\xd0\\xb0\\xd0\\xb2\\xd0\\xb8\\xd0\\xb8</a></h3></div></div><div class=\"item news b-tabloid__topic_news\"><div class=\"info g-date item__info\"><span class=\"g-date item__date\"><span class=\"time\">15:45</span> 11 \\xd1\\x8f\\xd0\\xbd\\xd0\\xb2\\xd0\\xb0\\xd1\\x80\\xd1\\x8f 2017</span></div><div class=\"titles\"><h3><a href=\"/news/2017/01/11/canadamidchef/\">\\xd0\\x93\\xd0\\xbb\\xd0\\xb0\\xd0\\xb2\\xd0\\xb0 \\xd0\\x9c\\xd0\\x98\\xd0\\x94 \\xd0\\x9a\\xd0\\xb0\\xd0\\xbd\\xd0\\xb0\\xd0\\xb4\\xd1\\x8b \\xd0\\xbe\\xd0\\xba\\xd0\\xb0\\xd0\\xb7\\xd0\\xb0\\xd0\\xbb\\xd0\\xb0\\xd1\\x81\\xd1\\x8c \\xd0\\xbf\\xd0\\xbe\\xd0\\xb4 \\xd1\\x80\\xd0\\xbe\\xd1\\x81\\xd1\\x81\\xd0\\xb8\\xd0\\xb9\\xd1\\x81\\xd0\\xba\\xd0\\xb8\\xd0\\xbc\\xd0\\xb8 \\xd1\\x81\\xd0\\xb0\\xd0\\xbd\\xd0\\xba\\xd1\\x86\\xd0\\xb8\\xd1\\x8f\\xd0\\xbc\\xd0\\xb8</a></h3></div></div><div class=\"item news b-tabloid__topic_news\"><div class=\"info g-date item__info\"><span class=\"g-date item__date\"><span class=\"time\">16:20</span> 11 \\xd1\\x8f\\xd0\\xbd\\xd0\\xb2\\xd0\\xb0\\xd1\\x80\\xd1\\x8f 2017</span></div><div class=\"titles\"><h3><a href=\"/news/2017/01/11/no_nothing/\">\\xd0\\xa2\\xd1\\x80\\xd0\\xb0\\xd0\\xbc\\xd0\\xbf \\xd0\\xbe\\xd1\\x82\\xd0\\xb2\\xd0\\xb5\\xd1\\x80\\xd0\\xb3 \\xd0\\xbd\\xd0\\xb0\\xd0\\xbb\\xd0\\xb8\\xd1\\x87\\xd0\\xb8\\xd0\\xb5 \\xd0\\xbb\\xd1\\x8e\\xd0\\xb1\\xd1\\x8b\\xd1\\x85 \\xd1\\x81\\xd0\\xb2\\xd1\\x8f\\xd0\\xb7\\xd0\\xb5\\xd0\\xb9 \\xd1\\x81&nbsp;\\xd0\\xa0\\xd0\\xbe\\xd1\\x81\\xd1\\x81\\xd0\\xb8\\xd0\\xb5\\xd0\\xb9</a></h3></div></div><div class=\"item news b-tabloid__topic_news\"><div class=\"info g-date item__info\"><span class=\"g-date item__date\"><span class=\"time\">16:33</span> 11 \\xd1\\x8f\\xd0\\xbd\\xd0\\xb2\\xd0\\xb0\\xd1\\x80\\xd1\\x8f 2017</span></div><div class=\"titles\"><h3><a href=\"/news/2017/01/11/trump_nazi/\">\\xd0\\xa2\\xd1\\x80\\xd0\\xb0\\xd0\\xbc\\xd0\\xbf \\xd1\\x81\\xd1\\x80\\xd0\\xb0\\xd0\\xb2\\xd0\\xbd\\xd0\\xb8\\xd0\\xbb \\xd1\\x84\\xd0\\xb0\\xd0\\xbb\\xd1\\x8c\\xd1\\x88\\xd0\\xb8\\xd0\\xb2\\xd0\\xba\\xd1\\x83 \\xd0\\xb0\\xd0\\xbc\\xd0\\xb5\\xd1\\x80\\xd0\\xb8\\xd0\\xba\\xd0\\xb0\\xd0\\xbd\\xd1\\x81\\xd0\\xba\\xd0\\xbe\\xd0\\xb9 \\xd1\\x80\\xd0\\xb0\\xd0\\xb7\\xd0\\xb2\\xd0\\xb5\\xd0\\xb4\\xd0\\xba\\xd0\\xb8 \\xd1\\x81&nbsp;\\xd0\\xb4\\xd0\\xb5\\xd1\\x8f\\xd1\\x82\\xd0\\xb5\\xd0\\xbb\\xd1\\x8c\\xd0\\xbd\\xd0\\xbe\\xd1\\x81\\xd1\\x82\\xd1\\x8c\\xd1\\x8e \\xd0\\xbd\\xd0\\xb0\\xd1\\x86\\xd0\\xb8\\xd1\\x81\\xd1\\x82\\xd0\\xbe\\xd0\\xb2</a></h3></div></div></section></div><div class=\"span4\"><section class=\"b-longgrid-column\"><div class=\"item news b-tabloid__topic_news\"><div class=\"info g-date item__info\"><span class=\"g-date item__date\"><span class=\"time\">16:37</span> 11 \\xd1\\x8f\\xd0\\xbd\\xd0\\xb2\\xd0\\xb0\\xd1\\x80\\xd1\\x8f 2017</span></div><div class=\"titles\"><h3><a href=\"/news/2017/01/11/germanyrefugees/\">\\xd0\\x93\\xd0\\xb5\\xd1\\x80\\xd0\\xbc\\xd0\\xb0\\xd0\\xbd\\xd0\\xb8\\xd1\\x8f \\xd0\\xb7\\xd0\\xb0\\xd1\\x8f\\xd0\\xb2\\xd0\\xb8\\xd0\\xbb\\xd0\\xb0 \\xd0\\xbe&nbsp;\\xd1\\x81\\xd0\\xbd\\xd0\\xb8\\xd0\\xb6\\xd0\\xb5\\xd0\\xbd\\xd0\\xb8\\xd0\\xb8 \\xd1\\x87\\xd0\\xb8\\xd1\\x81\\xd0\\xbb\\xd0\\xb0 \\xd0\\xb1\\xd0\\xb5\\xd0\\xb6\\xd0\\xb5\\xd0\\xbd\\xd1\\x86\\xd0\\xb5\\xd0\\xb2 \\xd0\\xb2&nbsp;\\xd1\\x82\\xd1\\x80\\xd0\\xb8 \\xd1\\x80\\xd0\\xb0\\xd0\\xb7\\xd0\\xb0 \\xd0\\xb7\\xd0\\xb0&nbsp;\\xd0\\xbf\\xd1\\x80\\xd0\\xbe\\xd1\\x88\\xd0\\xbb\\xd1\\x8b\\xd0\\xb9 \\xd0\\xb3\\xd0\\xbe\\xd0\\xb4</a></h3></div></div><div class=\"item news b-tabloid__topic_news\"><div class=\"info g-date item__info\"><span class=\"g-date item__date\"><span class=\"time\">17:56</span> 11 \\xd1\\x8f\\xd0\\xbd\\xd0\\xb2\\xd0\\xb0\\xd1\\x80\\xd1\\x8f 2017</span></div><div class=\"titles\"><h3><a href=\"/news/2017/01/11/spainparentsfraud/\">\\xd0\\x98\\xd1\\x81\\xd0\\xbf\\xd0\\xb0\\xd0\\xbd\\xd1\\x81\\xd0\\xba\\xd0\\xb8\\xd1\\x85 \\xd1\\x80\\xd0\\xbe\\xd0\\xb4\\xd0\\xb8\\xd1\\x82\\xd0\\xb5\\xd0\\xbb\\xd0\\xb5\\xd0\\xb9-\\xd0\\xbc\\xd0\\xbe\\xd1\\x88\\xd0\\xb5\\xd0\\xbd\\xd0\\xbd\\xd0\\xb8\\xd0\\xba\\xd0\\xbe\\xd0\\xb2 \\xd0\\xb7\\xd0\\xb0\\xd0\\xbf\\xd0\\xbe\\xd0\\xb4\\xd0\\xbe\\xd0\\xb7\\xd1\\x80\\xd0\\xb8\\xd0\\xbb\\xd0\\xb8 \\xd0\\xb2&nbsp;\\xd1\\x81\\xd0\\xb5\\xd0\\xba\\xd1\\x81\\xd1\\x83\\xd0\\xb0\\xd0\\xbb\\xd1\\x8c\\xd0\\xbd\\xd0\\xbe\\xd0\\xb9 \\xd1\\x8d\\xd0\\xba\\xd1\\x81\\xd0\\xbf\\xd0\\xbb\\xd1\\x83\\xd0\\xb0\\xd1\\x82\\xd0\\xb0\\xd1\\x86\\xd0\\xb8\\xd0\\xb8 \\xd0\\xb4\\xd0\\xbe\\xd1\\x87\\xd0\\xb5\\xd1\\x80\\xd0\\xb8</a></h3></div></div><div class=\"item news b-tabloid__topic_news\"><div class=\"info g-date item__info\"><span class=\"g-date item__date\"><span class=\"time\">18:15</span> 11 \\xd1\\x8f\\xd0\\xbd\\xd0\\xb2\\xd0\\xb0\\xd1\\x80\\xd1\\x8f 2017</span></div><div class=\"titles\"><h3><a href=\"/news/2017/01/11/breivik_half_million/\">\\xd0\\x92 \\xd0\\x9d\\xd0\\xbe\\xd1\\x80\\xd0\\xb2\\xd0\\xb5\\xd0\\xb3\\xd0\\xb8\\xd0\\xb8 \\xd0\\xbf\\xd0\\xbe\\xd0\\xb4\\xd1\\x81\\xd1\\x87\\xd0\\xb8\\xd1\\x82\\xd0\\xb0\\xd0\\xbb\\xd0\\xb8 \\xd0\\xbf\\xd1\\x80\\xd0\\xb8\\xd0\\xbc\\xd0\\xb5\\xd1\\x80\\xd0\\xbd\\xd1\\x83\\xd1\\x8e \\xd1\\x81\\xd1\\x82\\xd0\\xbe\\xd0\\xb8\\xd0\\xbc\\xd0\\xbe\\xd1\\x81\\xd1\\x82\\xd1\\x8c \\xd0\\xbe\\xd1\\x85\\xd1\\x80\\xd0\\xb0\\xd0\\xbd\\xd1\\x8b \\xd0\\x91\\xd1\\x80\\xd0\\xb5\\xd0\\xb9\\xd0\\xb2\\xd0\\xb8\\xd0\\xba\\xd0\\xb0 \\xd0\\xb2&nbsp;\\xd1\\x82\\xd1\\x8e\\xd1\\x80\\xd1\\x8c\\xd0\\xbc\\xd0\\xb5</a></h3></div></div><div class=\"item news b-tabloid__topic_news\"><div class=\"info g-date item__info\"><span class=\"g-date item__date\"><span class=\"time\">19:01</span> 11 \\xd1\\x8f\\xd0\\xbd\\xd0\\xb2\\xd0\\xb0\\xd1\\x80\\xd1\\x8f 2017</span></div><div class=\"titles\"><h3><a href=\"/news/2017/01/11/njet_molotoff/\">\\xd0\\x9a\\xd0\\xb0\\xd0\\xbd\\xd0\\xb4\\xd0\\xb8\\xd0\\xb4\\xd0\\xb0\\xd1\\x82 \\xd0\\xb2&nbsp;\\xd0\\xb3\\xd0\\xbe\\xd1\\x81\\xd1\\x81\\xd0\\xb5\\xd0\\xba\\xd1\\x80\\xd0\\xb5\\xd1\\x82\\xd0\\xb0\\xd1\\x80\\xd0\\xb8 \\xd0\\xa1\\xd0\\xa8\\xd0\\x90 \\xd0\\xbf\\xd0\\xbe\\xd0\\xbe\\xd0\\xb1\\xd0\\xb5\\xd1\\x89\\xd0\\xb0\\xd0\\xbb \\xd0\\xbd\\xd0\\xb5&nbsp;\\xd0\\xbf\\xd1\\x80\\xd0\\xb8\\xd0\\xb7\\xd0\\xbd\\xd0\\xb0\\xd0\\xb2\\xd0\\xb0\\xd1\\x82\\xd1\\x8c \\xd0\\x9a\\xd1\\x80\\xd1\\x8b\\xd0\\xbc \\xd1\\x80\\xd0\\xbe\\xd1\\x81\\xd1\\x81\\xd0\\xb8\\xd0\\xb9\\xd1\\x81\\xd0\\xba\\xd0\\xb8\\xd0\\xbc</a></h3></div></div><div class=\"item news b-tabloid__topic_news\"><div class=\"info g-date item__info\"><span class=\"g-date item__date\"><span class=\"time\">19:15</span> 11 \\xd1\\x8f\\xd0\\xbd\\xd0\\xb2\\xd0\\xb0\\xd1\\x80\\xd1\\x8f 2017</span></div><div class=\"titles\"><h3><a href=\"/news/2017/01/11/robbers_china/\">\\xd0\\x92 \\xd0\\x9f\\xd0\\xb5\\xd0\\xba\\xd0\\xb8\\xd0\\xbd\\xd0\\xb5 \\xd0\\xb7\\xd0\\xb0\\xd0\\xb4\\xd0\\xb5\\xd1\\x80\\xd0\\xb6\\xd0\\xb0\\xd0\\xbb\\xd0\\xb8 \\xd0\\xb1\\xd0\\xb0\\xd0\\xbd\\xd0\\xb4\\xd1\\x83 \\xd0\\xb3\\xd1\\x80\\xd0\\xb0\\xd0\\xb1\\xd0\\xb8\\xd0\\xb2\\xd1\\x88\\xd0\\xb8\\xd1\\x85 \\xd0\\xb8\\xd0\\xbd\\xd0\\xbe\\xd1\\x81\\xd1\\x82\\xd1\\x80\\xd0\\xb0\\xd0\\xbd\\xd1\\x86\\xd0\\xb5\\xd0\\xb2 \\xd0\\xbf\\xd0\\xbe\\xd0\\xb4\\xd1\\x80\\xd0\\xbe\\xd1\\x81\\xd1\\x82\\xd0\\xba\\xd0\\xbe\\xd0\\xb2</a></h3></div></div><div class=\"item news b-tabloid__topic_news\"><div class=\"info g-date item__info\"><span class=\"g-date item__date\"><span class=\"time\">19:46</span> 11 \\xd1\\x8f\\xd0\\xbd\\xd0\\xb2\\xd0\\xb0\\xd1\\x80\\xd1\\x8f 2017</span></div><div class=\"titles\"><h3><a href=\"/news/2017/01/11/trump_putin/\">\\xd0\\xa2\\xd1\\x80\\xd0\\xb0\\xd0\\xbc\\xd0\\xbf \\xd1\\x80\\xd0\\xb0\\xd1\\x81\\xd1\\x81\\xd0\\xba\\xd0\\xb0\\xd0\\xb7\\xd0\\xb0\\xd0\\xbb \\xd0\\xbe&nbsp;\\xd0\\xbf\\xd0\\xbe\\xd0\\xbb\\xd1\\x8c\\xd0\\xb7\\xd0\\xb5 \\xd1\\x85\\xd0\\xbe\\xd1\\x80\\xd0\\xbe\\xd1\\x88\\xd0\\xb8\\xd1\\x85 \\xd0\\xbe\\xd1\\x82\\xd0\\xbd\\xd0\\xbe\\xd1\\x88\\xd0\\xb5\\xd0\\xbd\\xd0\\xb8\\xd0\\xb9 \\xd1\\x81&nbsp;\\xd0\\x9f\\xd1\\x83\\xd1\\x82\\xd0\\xb8\\xd0\\xbd\\xd1\\x8b\\xd0\\xbc</a></h3></div></div><div class=\"item news b-tabloid__topic_news\"><div class=\"info g-date item__info\"><span class=\"g-date item__date\"><span class=\"time\">20:13</span> 11 \\xd1\\x8f\\xd0\\xbd\\xd0\\xb2\\xd0\\xb0\\xd1\\x80\\xd1\\x8f 2017</span></div><div class=\"titles\"><h3><a href=\"/news/2017/01/11/clapper/\">\\xd0\\xa0\\xd0\\xb0\\xd0\\xb7\\xd0\\xb2\\xd0\\xb5\\xd0\\xb4\\xd0\\xba\\xd0\\xb0 \\xd0\\xa1\\xd0\\xa8\\xd0\\x90 \\xd0\\xb4\\xd0\\xbe\\xd0\\xbf\\xd1\\x83\\xd1\\x81\\xd1\\x82\\xd0\\xb8\\xd0\\xbb\\xd0\\xb0 \\xd1\\x80\\xd0\\xb0\\xd1\\x81\\xd0\\xbf\\xd1\\x80\\xd0\\xbe\\xd1\\x81\\xd1\\x82\\xd1\\x80\\xd0\\xb0\\xd0\\xbd\\xd0\\xb5\\xd0\\xbd\\xd0\\xb8\\xd0\\xb5 \\xd0\\xb4\\xd0\\xb5\\xd1\\x82\\xd1\\x81\\xd0\\xba\\xd0\\xbe\\xd0\\xb3\\xd0\\xbe \\xd0\\xbf\\xd0\\xbe\\xd1\\x80\\xd0\\xbd\\xd0\\xbe \\xd0\\xb8\\xd0\\xb7-\\xd0\\xb7\\xd0\\xb0 \\xd1\\x80\\xd1\\x83\\xd1\\x81\\xd1\\x81\\xd0\\xba\\xd0\\xb8\\xd1\\x85 \\xd1\\x85\\xd0\\xb0\\xd0\\xba\\xd0\\xb5\\xd1\\x80\\xd0\\xbe\\xd0\\xb2</a></h3></div></div><div class=\"item news b-tabloid__topic_news\"><div class=\"info g-date item__info\"><span class=\"g-date item__date\"><span class=\"time\">20:51</span> 11 \\xd1\\x8f\\xd0\\xbd\\xd0\\xb2\\xd0\\xb0\\xd1\\x80\\xd1\\x8f 2017</span></div><div class=\"titles\"><h3><a href=\"/news/2017/01/11/no_reset_thanks/\">\\xd0\\xa2\\xd1\\x80\\xd0\\xb0\\xd0\\xbc\\xd0\\xbf \\xd0\\xbe\\xd1\\x82\\xd0\\xba\\xd0\\xb0\\xd0\\xb7\\xd0\\xb0\\xd0\\xbb\\xd1\\x81\\xd1\\x8f \\xd0\\xbe\\xd1\\x82&nbsp;\\xd0\\xb8\\xd0\\xb4\\xd0\\xb5\\xd0\\xb8 \\xd0\\xbf\\xd0\\xb5\\xd1\\x80\\xd0\\xb5\\xd0\\xb7\\xd0\\xb0\\xd0\\xb3\\xd1\\x80\\xd1\\x83\\xd0\\xb7\\xd0\\xba\\xd0\\xb8 \\xd0\\xbe\\xd1\\x82\\xd0\\xbd\\xd0\\xbe\\xd1\\x88\\xd0\\xb5\\xd0\\xbd\\xd0\\xb8\\xd0\\xb9 \\xd1\\x81&nbsp;\\xd0\\xa0\\xd0\\xbe\\xd1\\x81\\xd1\\x81\\xd0\\xb8\\xd0\\xb5\\xd0\\xb9</a></h3></div></div><div class=\"item news b-tabloid__topic_news\"><div class=\"info g-date item__info\"><span class=\"g-date item__date\"><span class=\"time\">22:09</span> 11 \\xd1\\x8f\\xd0\\xbd\\xd0\\xb2\\xd0\\xb0\\xd1\\x80\\xd1\\x8f 2017</span></div><div class=\"titles\"><h3><a href=\"/news/2017/01/11/tillerson_/\">\\xd0\\x9a\\xd0\\xb0\\xd0\\xbd\\xd0\\xb4\\xd0\\xb8\\xd0\\xb4\\xd0\\xb0\\xd1\\x82 \\xd0\\xb2&nbsp;\\xd0\\xb3\\xd0\\xbe\\xd1\\x81\\xd1\\x81\\xd0\\xb5\\xd0\\xba\\xd1\\x80\\xd0\\xb5\\xd1\\x82\\xd0\\xb0\\xd1\\x80\\xd0\\xb8 \\xd0\\xa1\\xd0\\xa8\\xd0\\x90 \\xd1\\x83\\xd1\\x82\\xd0\\xbe\\xd1\\x87\\xd0\\xbd\\xd0\\xb8\\xd0\\xbb \\xd1\\x83\\xd1\\x81\\xd0\\xbb\\xd0\\xbe\\xd0\\xb2\\xd0\\xb8\\xd0\\xb5 \\xd0\\xbf\\xd1\\x80\\xd0\\xb8\\xd0\\xb7\\xd0\\xbd\\xd0\\xb0\\xd0\\xbd\\xd0\\xb8\\xd1\\x8f \\xd0\\x9a\\xd1\\x80\\xd1\\x8b\\xd0\\xbc\\xd0\\xb0 \\xd1\\x80\\xd0\\xbe\\xd1\\x81\\xd1\\x81\\xd0\\xb8\\xd0\\xb9\\xd1\\x81\\xd0\\xba\\xd0\\xb8\\xd0\\xbc</a></h3></div></div><div class=\"item news b-tabloid__topic_news\"><div class=\"info g-date item__info\"><span class=\"g-date item__date\"><span class=\"time\">22:50</span> 11 \\xd1\\x8f\\xd0\\xbd\\xd0\\xb2\\xd0\\xb0\\xd1\\x80\\xd1\\x8f 2017</span></div><div class=\"titles\"><h3><a href=\"/news/2017/01/11/ernest/\">\\xd0\\x91\\xd0\\xb5\\xd0\\xbb\\xd1\\x8b\\xd0\\xb9 \\xd0\\xb4\\xd0\\xbe\\xd0\\xbc \\xd0\\xb7\\xd0\\xb0\\xd1\\x8f\\xd0\\xb2\\xd0\\xb8\\xd0\\xbb \\xd0\\xbe\\xd0\\xb1&nbsp;\\xd1\\x83\\xd1\\x82\\xd0\\xb0\\xd0\\xb8\\xd0\\xb2\\xd0\\xb0\\xd0\\xbd\\xd0\\xb8\\xd0\\xb8 \\xd0\\xa2\\xd1\\x80\\xd0\\xb0\\xd0\\xbc\\xd0\\xbf\\xd0\\xbe\\xd0\\xbc \\xd1\\x84\\xd0\\xb8\\xd0\\xbd\\xd0\\xb0\\xd0\\xbd\\xd1\\x81\\xd0\\xbe\\xd0\\xb2\\xd1\\x8b\\xd1\\x85 \\xd1\\x81\\xd0\\xb2\\xd1\\x8f\\xd0\\xb7\\xd0\\xb5\\xd0\\xb9 \\xd1\\x81&nbsp;\\xd0\\xa0\\xd0\\xbe\\xd1\\x81\\xd1\\x81\\xd0\\xb8\\xd0\\xb5\\xd0\\xb9</a></h3></div></div></section></div></div></div></section><section class=\"b-tabloid js-tabloid\"><div class=\"g-layout\"><div class=\"b-tabloid__row row\"><div class=\"span4\"><div class=\"b-tabloid__item\"><div class=\"bordered-title\"><a href=\"/rubrics/russia/\">\\xd0\\xa0\\xd0\\xbe\\xd1\\x81\\xd1\\x81\\xd0\\xb8\\xd1\\x8f</a></div><div class=\"b-tabloid__topic article\" data-partslug=\"text\"><a class=\"js-dh\" href=\"/articles/2017/06/01/pedofil/\"><img alt=\"\" class=\"g-picture\" style=\"max-width: 96px; width: 96px; height: 64px;\" src=\"https://icdn.lenta.ru/images/2017/05/31/14/20170531141548948/tabloid_ef2e9b8ffe9dd94501b1f5df96241d2e.jpg\" width=\"96\" height=\"64\" /></a><a class=\"b-tabloid__headline js-dh\" href=\"/articles/2017/06/01/pedofil/\">\\xd0\\x91\\xd0\\xb5\\xd1\\x81\\xd1\\x81\\xd0\\xb8\\xd0\\xbb\\xd0\\xb8\\xd0\\xb5 \\xd1\\x8f\\xd0\\xb3\\xd0\\xbd\\xd1\\x8f\\xd1\\x82</a><div class=\"rightcol\">\\xd0\\x9a\\xd0\\xb0\\xd0\\xba \\xd0\\xbf\\xd0\\xb5\\xd0\\xb4\\xd0\\xbe\\xd1\\x84\\xd0\\xb8\\xd0\\xbb\\xd1\\x8b \\xd1\\x81\\xd0\\xba\\xd0\\xbb\\xd0\\xbe\\xd0\\xbd\\xd1\\x8f\\xd1\\x8e\\xd1\\x82 \\xd0\\xb4\\xd0\\xb5\\xd1\\x82\\xd0\\xb5\\xd0\\xb9 \\xd0\\xbd\\xd0\\xb0&nbsp;\\xd0\\xbe\\xd1\\x82\\xd0\\xba\\xd1\\x80\\xd0\\xbe\\xd0\\xb2\\xd0\\xb5\\xd0\\xbd\\xd0\\xbd\\xd1\\x8b\\xd0\\xb5 \\xd1\\x84\\xd0\\xbe\\xd1\\x82\\xd0\\xbe\\xd1\\x81\\xd0\\xb5\\xd1\\x81\\xd1\\x81\\xd0\\xb8\\xd0\\xb8</div></div><div class=\"b-tabloid__topic article\" data-partslug=\"text\"><a class=\"js-dh\" href=\"/articles/2017/06/01/urag/\"><img alt=\"\" class=\"g-picture\" style=\"max-width: 96px; width: 96px; height: 64px;\" src=\"https://icdn.lenta.ru/images/2017/05/31/17/20170531171534068/tabloid_6a34f6685805004bb0ed442cf600f562.jpg\" width=\"96\" height=\"64\" /></a><a class=\"b-tabloid__headline js-dh\" href=\"/articles/2017/06/01/urag/\">\\xd0\\x94\\xd0\\xb5\\xd0\\xb2\\xd1\\x8f\\xd1\\x82\\xd1\\x8b\\xd0\\xb9 \\xd1\\x88\\xd0\\xba\\xd0\\xb2\\xd0\\xb0\\xd0\\xbb</a><div class=\"rightcol\">\\xd0\\xa0\\xd0\\xb0\\xd1\\x81\\xd1\\x81\\xd0\\xbb\\xd0\\xb5\\xd0\\xb4\\xd0\\xbe\\xd0\\xb2\\xd0\\xb0\\xd0\\xbd\\xd0\\xb8\\xd0\\xb5: \\xd0\\xba\\xd0\\xb0\\xd0\\xba \\xd0\\xbc\\xd0\\xbd\\xd0\\xbe\\xd0\\xb3\\xd0\\xbe\\xd0\\xbc\\xd0\\xb8\\xd0\\xbb\\xd0\\xbb\\xd0\\xb8\\xd0\\xb0\\xd1\\x80\\xd0\\xb4\\xd0\\xbd\\xd0\\xb0\\xd1\\x8f \\xd1\\x81\\xd0\\xb8\\xd1\\x81\\xd1\\x82\\xd0\\xb5\\xd0\\xbc\\xd0\\xb0 \\xd0\\xbe\\xd0\\xbf\\xd0\\xbe\\xd0\\xb2\\xd0\\xb5\\xd1\\x89\\xd0\\xb5\\xd0\\xbd\\xd0\\xb8\\xd1\\x8f \\xd0\\x9c\\xd0\\xa7\\xd0\\xa1 \\xd0\\xbf\\xd1\\x80\\xd0\\xbe\\xd1\\x81\\xd0\\xbf\\xd0\\xb0\\xd0\\xbb\\xd0\\xb0 \\xd1\\x83\\xd1\\x80\\xd0\\xb0\\xd0\\xb3\\xd0\\xb0\\xd0\\xbd </div></div><div class=\"b-tabloid__topic article\" data-partslug=\"text\"><a class=\"js-dh\" href=\"/articles/2017/05/31/nektarius/\"><img alt=\"\\xd0\\x95\\xd0\\xbf\\xd0\\xb8\\xd1\\x81\\xd0\\xba\\xd0\\xbe\\xd0\\xbf \\xd0\\x9b\\xd0\\xb8\\xd0\\xb2\\xd0\\xb5\\xd0\\xbd\\xd1\\x81\\xd0\\xba\\xd0\\xb8\\xd0\\xb9 \\xd0\\x9d\\xd0\\xb5\\xd0\\xba\\xd1\\x82\\xd0\\xb0\\xd1\\x80\\xd0\\xb8\\xd0\\xb9 (\\xd1\\x81\\xd0\\xbb\\xd0\\xb5\\xd0\\xb2\\xd0\\xb0)\" class=\"g-picture\" style=\"max-width: 96px; width: 96px; height: 64px;\" src=\"https://icdn.lenta.ru/images/2017/05/30/19/20170530192254525/tabloid_c976cd282e9d6d827367dbc255c2ea84.jpg\" width=\"96\" height=\"64\" /></a><a class=\"b-tabloid__headline js-dh\" href=\"/articles/2017/05/31/nektarius/\">\\xc2\\xab\\xd0\\xa1\\xd0\\xb0\\xd0\\xbc \\xd0\\x98\\xd0\\xb8\\xd1\\x81\\xd1\\x83\\xd1\\x81 \\xd0\\xa5\\xd1\\x80\\xd0\\xb8\\xd1\\x81\\xd1\\x82\\xd0\\xbe\\xd1\\x81 \\xd0\\xbd\\xd0\\xbe\\xd1\\x81\\xd0\\xb8\\xd0\\xbb \\xd0\\xb4\\xd0\\xbe\\xd1\\x80\\xd0\\xbe\\xd0\\xb3\\xd0\\xb8\\xd0\\xb5 \\xd0\\xbe\\xd0\\xb4\\xd0\\xb5\\xd0\\xb6\\xd0\\xb4\\xd1\\x8b\\xc2\\xbb</a><div class=\"rightcol\">\\xd0\\x9a\\xd1\\x82\\xd0\\xbe \\xd0\\xb8&nbsp;\\xd0\\xb4\\xd0\\xbb\\xd1\\x8f \\xd1\\x87\\xd0\\xb5\\xd0\\xb3\\xd0\\xbe \\xd0\\xbf\\xd0\\xbe\\xd0\\xb4\\xd0\\xb0\\xd1\\x80\\xd0\\xb8\\xd0\\xbb \\xd0\\xbe\\xd1\\x80\\xd0\\xbb\\xd0\\xbe\\xd0\\xb2\\xd1\\x81\\xd0\\xba\\xd0\\xbe\\xd0\\xbc\\xd1\\x83 \\xd1\\x81\\xd0\\xb2\\xd1\\x8f\\xd1\\x89\\xd0\\xb5\\xd0\\xbd\\xd0\\xbd\\xd0\\xb8\\xd0\\xba\\xd1\\x83 \\xd0\\xb0\\xd0\\xb2\\xd1\\x82\\xd0\\xbe\\xd0\\xbc\\xd0\\xbe\\xd0\\xb1\\xd0\\xb8\\xd0\\xbb\\xd1\\x8c \\xd0\\xb7\\xd0\\xb0&nbsp;6&nbsp;\\xd0\\xbc\\xd0\\xb8\\xd0\\xbb\\xd0\\xbb\\xd0\\xb8\\xd0\\xbe\\xd0\\xbd\\xd0\\xbe\\xd0\\xb2 \\xd1\\x80\\xd1\\x83\\xd0\\xb1\\xd0\\xbb\\xd0\\xb5\\xd0\\xb9</div></div><div class=\"b-tabloid__topic news b-tabloid__topic_news\"><a href=\"/news/2017/05/31/senat/\">\\xd0\\x9c\\xd0\\xb0\\xd1\\x82\\xd0\\xb2\\xd0\\xb8\\xd0\\xb5\\xd0\\xbd\\xd0\\xba\\xd0\\xbe \\xd0\\xbf\\xd0\\xbe\\xd1\\x81\\xd0\\xbe\\xd0\\xb2\\xd0\\xb5\\xd1\\x82\\xd0\\xbe\\xd0\\xb2\\xd0\\xb0\\xd0\\xbb\\xd0\\xb0 \\xd1\\x81\\xd0\\xb5\\xd0\\xbd\\xd0\\xb0\\xd1\\x82\\xd0\\xbe\\xd1\\x80\\xd0\\xb0\\xd0\\xbc \\xd0\\xb8\\xd0\\xb7\\xd1\\x83\\xd1\\x87\\xd0\\xb8\\xd1\\x82\\xd1\\x8c \\xd0\\xb1\\xd0\\xb8\\xd0\\xbe\\xd0\\xb3\\xd1\\x80\\xd0\\xb0\\xd1\\x84\\xd0\\xb8\\xd1\\x8e \\xd0\\xa5\\xd1\\x80\\xd0\\xb8\\xd1\\x81\\xd1\\x82\\xd0\\xb0</a></div><div class=\"b-tabloid__topic news b-tabloid__topic_news\"><a href=\"/news/2017/05/31/tarifu/\">\\xd0\\x92 \\xd0\\x9f\\xd0\\xbe\\xd0\\xb4\\xd0\\xbc\\xd0\\xbe\\xd1\\x81\\xd0\\xba\\xd0\\xbe\\xd0\\xb2\\xd1\\x8c\\xd0\\xb5 \\xd0\\xbf\\xd0\\xbe\\xd0\\xb4\\xd0\\xbe\\xd1\\x80\\xd0\\xbe\\xd0\\xb6\\xd0\\xb0\\xd0\\xb5\\xd1\\x82 \\xd0\\xbf\\xd1\\x80\\xd0\\xbe\\xd0\\xb5\\xd0\\xb7\\xd0\\xb4 \\xd0\\xb2&nbsp;\\xd1\\x8d\\xd0\\xbb\\xd0\\xb5\\xd0\\xba\\xd1\\x82\\xd1\\x80\\xd0\\xb8\\xd1\\x87\\xd0\\xba\\xd0\\xb0\\xd1\\x85</a></div><div class=\"b-tabloid__topic article\" data-partslug=\"text\"><a class=\"js-dh\" target=\"_blank\" href=\"https://moslenta.ru/razvlecheniya/vremenaiepohi.htm?utm_source=from_lenta\"><img alt=\"\" class=\"g-picture\" style=\"max-width: 96px; width: 96px; height: 64px;\" src=\"https://icdn.lenta.ru/images/2017/05/31/12/20170531123033716/tabloid_b4b616bff8b58a9071311f1afb4d2cd4.jpg\" width=\"96\" height=\"64\" /></a><a class=\"b-tabloid__headline js-dh\" target=\"_blank\" href=\"https://moslenta.ru/razvlecheniya/vremenaiepohi.htm?utm_source=from_lenta\">\\xd0\\x9a\\xd0\\xb0\\xd1\\x80\\xd0\\xbd\\xd0\\xb0\\xd0\\xb2\\xd0\\xb0\\xd0\\xbb \\xd1\\x80\\xd0\\xb5\\xd0\\xba\\xd0\\xbe\\xd0\\xbd\\xd1\\x81\\xd1\\x82\\xd1\\x80\\xd1\\x83\\xd0\\xba\\xd1\\x82\\xd0\\xbe\\xd1\\x80\\xd0\\xbe\\xd0\\xb2</a><div class=\"rightcol\">\\xd0\\x9f\\xd0\\xbe\\xd1\\x87\\xd0\\xb5\\xd0\\xbc\\xd1\\x83 \\xd1\\x84\\xd0\\xb5\\xd1\\x81\\xd1\\x82\\xd0\\xb8\\xd0\\xb2\\xd0\\xb0\\xd0\\xbb\\xd1\\x8c \\xc2\\xab\\xd0\\x92\\xd1\\x80\\xd0\\xb5\\xd0\\xbc\\xd0\\xb5\\xd0\\xbd\\xd0\\xb0 \\xd0\\xb8&nbsp;\\xd1\\x8d\\xd0\\xbf\\xd0\\xbe\\xd1\\x85\\xd0\\xb8\\xc2\\xbb \\xd0\\xb1\\xd0\\xbe\\xd0\\xbb\\xd1\\x8c\\xd1\\x88\\xd0\\xb5 \\xd0\\xbd\\xd0\\xb5&nbsp;\\xd1\\x83\\xd0\\xbc\\xd0\\xb5\\xd1\\x89\\xd0\\xb0\\xd0\\xb5\\xd1\\x82\\xd1\\x81\\xd1\\x8f \\xd0\\xb2&nbsp;\\xd0\\x9a\\xd0\\xbe\\xd0\\xbb\\xd0\\xbe\\xd0\\xbc\\xd0\\xb5\\xd0\\xbd\\xd1\\x81\\xd0\\xba\\xd0\\xbe\\xd0\\xbc </div></div><div class=\"b-tabloid__topic article\" data-partslug=\"text\"><a class=\"js-dh\" href=\"/articles/2017/05/31/old_believers/\"><img alt=\"\\xd0\\x9c\\xd0\\xb8\\xd1\\x82\\xd1\\x80\\xd0\\xbe\\xd0\\xbf\\xd0\\xbe\\xd0\\xbb\\xd0\\xb8\\xd1\\x82 \\xd0\\x9a\\xd0\\xbe\\xd1\\x80\\xd0\\xbd\\xd0\\xb8\\xd0\\xbb\\xd0\\xb8\\xd0\\xb9 \\xd0\\xb8 \\xd0\\x92\\xd0\\xbb\\xd0\\xb0\\xd0\\xb4\\xd0\\xb8\\xd0\\xbc\\xd0\\xb8\\xd1\\x80 \\xd0\\x9f\\xd1\\x83\\xd1\\x82\\xd0\\xb8\\xd0\\xbd\" class=\"g-picture\" style=\"max-width: 96px; width: 96px; height: 64px;\" src=\"https://icdn.lenta.ru/images/2017/05/31/19/20170531191008480/tabloid_ffff02edb013207496ccf4055cc00c08.jpg\" width=\"96\" height=\"64\" /></a><a class=\"b-tabloid__headline js-dh\" href=\"/articles/2017/05/31/old_believers/\">\\xd0\\x92\\xd0\\xbf\\xd0\\xb5\\xd1\\x80\\xd0\\xb2\\xd1\\x8b\\xd0\\xb5 \\xd0\\xbf\\xd0\\xbe\\xd1\\x81\\xd0\\xbb\\xd0\\xb5 \\xd0\\xa0\\xd0\\xb0\\xd1\\x81\\xd0\\xba\\xd0\\xbe\\xd0\\xbb\\xd0\\xb0</a><div class=\"rightcol\">\\xd0\\x9f\\xd1\\x83\\xd1\\x82\\xd0\\xb8\\xd0\\xbd \\xd0\\xbf\\xd1\\x80\\xd0\\xb8\\xd0\\xb5\\xd1\\x85\\xd0\\xb0\\xd0\\xbb \\xd0\\xba&nbsp;\\xd1\\x81\\xd1\\x82\\xd0\\xb0\\xd1\\x80\\xd0\\xbe\\xd0\\xb2\\xd0\\xb5\\xd1\\x80\\xd0\\xb0\\xd0\\xbc \\xd0\\xb8&nbsp;\\xd1\\x83\\xd1\\x81\\xd0\\xbb\\xd1\\x8b\\xd1\\x88\\xd0\\xb0\\xd0\\xbb \\xd0\\xbe\\xd0\\xb1 \\xc2\\xab\\xd0\\xb8\\xd1\\x81\\xd1\\x82\\xd0\\xb8\\xd0\\xbd\\xd0\\xbd\\xd0\\xbe\\xd0\\xbc \\xd0\\xbf\\xd1\\x80\\xd0\\xb0\\xd0\\xb2\\xd0\\xbe\\xd1\\x81\\xd0\\xbb\\xd0\\xb0\\xd0\\xb2\\xd0\\xb8\\xd0\\xb8\\xc2\\xbb</div></div></div><div class=\"b-tabloid__more\"><a href=\"/rubrics/russia/\">\\xd0\\x92\\xd1\\x81\\xd0\\xb5 \\xd0\\xbc\\xd0\\xb0\\xd1\\x82\\xd0\\xb5\\xd1\\x80\\xd0\\xb8\\xd0\\xb0\\xd0\\xbb\\xd1\\x8b</a></div></div><div class=\"span4\"><div class=\"b-tabloid__item\"><div class=\"bordered-title\"><a href=\"/rubrics/world/\">\\xd0\\x9c\\xd0\\xb8\\xd1\\x80</a></div><div class=\"b-tabloid__topic article\" data-partslug=\"text\"><a class=\"js-dh\" href=\"/articles/2017/06/01/mexicovoina/\"><img alt=\"\" class=\"g-picture\" style=\"max-width: 96px; width: 96px; height: 64px;\" src=\"https://icdn.lenta.ru/images/2017/05/31/16/20170531164502803/tabloid_a16a687d85369442fc379a5dc78265ba.jpg\" width=\"96\" height=\"64\" /></a><a class=\"b-tabloid__headline js-dh\" href=\"/articles/2017/06/01/mexicovoina/\">\\xd0\\x9c\\xd0\\xb0\\xd1\\x87\\xd0\\xb5\\xd1\\x82\\xd0\\xb5 \\xd1\\x83\\xd0\\xb1\\xd0\\xb8\\xd0\\xb2\\xd0\\xb0\\xd0\\xb5\\xd1\\x82</a><div class=\"rightcol\">\\xd0\\x92 \\xd0\\x9c\\xd0\\xb5\\xd0\\xba\\xd1\\x81\\xd0\\xb8\\xd0\\xba\\xd0\\xb5 \\xd0\\xb7\\xd0\\xb0\\xd1\\x84\\xd0\\xb8\\xd0\\xba\\xd1\\x81\\xd0\\xb8\\xd1\\x80\\xd0\\xbe\\xd0\\xb2\\xd0\\xb0\\xd0\\xbd \\xd1\\x80\\xd0\\xb5\\xd0\\xba\\xd0\\xbe\\xd1\\x80\\xd0\\xb4\\xd0\\xbd\\xd1\\x8b\\xd0\\xb9 \\xd1\\x83\\xd1\\x80\\xd0\\xbe\\xd0\\xb2\\xd0\\xb5\\xd0\\xbd\\xd1\\x8c \\xd0\\xbd\\xd0\\xb0\\xd1\\x81\\xd0\\xb8\\xd0\\xbb\\xd1\\x8c\\xd1\\x81\\xd1\\x82\\xd0\\xb2\\xd0\\xb5\\xd0\\xbd\\xd0\\xbd\\xd1\\x8b\\xd1\\x85 \\xd1\\x81\\xd0\\xbc\\xd0\\xb5\\xd1\\x80\\xd1\\x82\\xd0\\xb5\\xd0\\xb9</div></div><div class=\"b-tabloid__topic article\" data-partslug=\"text\"><a class=\"js-dh\" href=\"/articles/2017/05/29/kennedys/\"><img alt=\"\\xd0\\x94\\xd0\\xb6\\xd0\\xbe\\xd0\\xbd \\xd0\\x9a\\xd0\\xb5\\xd0\\xbd\\xd0\\xbd\\xd0\\xb5\\xd0\\xb4\\xd0\\xb8 c \\xd0\\xb4\\xd0\\xbe\\xd1\\x87\\xd0\\xb5\\xd1\\x80\\xd1\\x8c\\xd1\\x8e\" class=\"g-picture\" style=\"max-width: 96px; width: 96px; height: 64px;\" src=\"https://icdn.lenta.ru/images/2017/05/26/17/20170526174421219/tabloid_cffc47ba1fdce0bbece296a0b360294e.jpg\" width=\"96\" height=\"64\" /></a><a class=\"b-tabloid__headline js-dh\" href=\"/articles/2017/05/29/kennedys/\">\\xd0\\x93\\xd0\\xbe\\xd1\\x81\\xd1\\x83\\xd0\\xb4\\xd0\\xb0\\xd1\\x80\\xd1\\x81\\xd1\\x82\\xd0\\xb2\\xd0\\xbe\\xd0\\xbe\\xd0\\xb1\\xd1\\x80\\xd0\\xb0\\xd0\\xb7\\xd1\\x83\\xd1\\x8e\\xd1\\x89\\xd0\\xb0\\xd1\\x8f \\xd1\\x81\\xd0\\xb5\\xd0\\xbc\\xd1\\x8c\\xd1\\x8f</a><div class=\"rightcol\">\\xd0\\x94\\xd0\\xb8\\xd0\\xbd\\xd0\\xb0\\xd1\\x81\\xd1\\x82\\xd0\\xb8\\xd1\\x8f \\xd0\\x9a\\xd0\\xb5\\xd0\\xbd\\xd0\\xbd\\xd0\\xb5\\xd0\\xb4\\xd0\\xb8 \\xd0\\xb2\\xd1\\x87\\xd0\\xb5\\xd1\\x80\\xd0\\xb0 \\xd0\\xb8&nbsp;\\xd1\\x81\\xd0\\xb5\\xd0\\xb3\\xd0\\xbe\\xd0\\xb4\\xd0\\xbd\\xd1\\x8f</div></div><div class=\"b-tabloid__topic article\" data-partslug=\"text\"><span class=\"author\"><a class=\"js-dh\" href=\"/columns/2017/05/31/whatfor/\">\\xd0\\xa4\\xd0\\xb5\\xd0\\xb4\\xd0\\xbe\\xd1\\x80 \\xd0\\x9b\\xd1\\x83\\xd0\\xba\\xd1\\x8c\\xd1\\x8f\\xd0\\xbd\\xd0\\xbe\\xd0\\xb2: </a></span><a class=\"b-tabloid__headline js-dh\" href=\"/columns/2017/05/31/whatfor/\">\\xd0\\x97\\xd0\\xb0\\xd1\\x87\\xd0\\xb5\\xd0\\xbc \\xd0\\xbd\\xd0\\xb0\\xd0\\xbc \\xd0\\x9c\\xd0\\xb0\\xd0\\xba\\xd1\\x80\\xd0\\xbe\\xd0\\xbd?</a><div class=\"rightcol\">\\xd0\\x9c\\xd0\\xbe\\xd1\\x81\\xd0\\xba\\xd0\\xb2\\xd0\\xb5 \\xd0\\xbd\\xd1\\x83\\xd0\\xb6\\xd0\\xbd\\xd0\\xbe \\xd0\\xb2\\xd0\\xbe\\xd1\\x81\\xd1\\x81\\xd1\\x82\\xd0\\xb0\\xd0\\xbd\\xd0\\xbe\\xd0\\xb2\\xd0\\xbb\\xd0\\xb5\\xd0\\xbd\\xd0\\xb8\\xd0\\xb5 \\xd1\\x84\\xd1\\x80\\xd0\\xb0\\xd0\\xbd\\xd0\\xba\\xd0\\xbe-\\xd0\\xb3\\xd0\\xb5\\xd1\\x80\\xd0\\xbc\\xd0\\xb0\\xd0\\xbd\\xd1\\x81\\xd0\\xba\\xd0\\xbe\\xd0\\xb9 \\xd0\\xbc\\xd0\\xbe\\xd0\\xb4\\xd0\\xb5\\xd0\\xbb\\xd0\\xb8 \\xd1\\x83\\xd0\\xbf\\xd1\\x80\\xd0\\xb0\\xd0\\xb2\\xd0\\xbb\\xd0\\xb5\\xd0\\xbd\\xd0\\xb8\\xd1\\x8f \\xd0\\x95\\xd0\\xb2\\xd1\\x80\\xd0\\xbe\\xd0\\xbf\\xd0\\xbe\\xd0\\xb9</div></div><div class=\"b-tabloid__topic news b-tabloid__topic_news\"><a href=\"/news/2017/06/01/philippines/\">\\xd0\\x92\\xd0\\x92\\xd0\\xa1 \\xd0\\xa4\\xd0\\xb8\\xd0\\xbb\\xd0\\xb8\\xd0\\xbf\\xd0\\xbf\\xd0\\xb8\\xd0\\xbd \\xd0\\xbf\\xd0\\xbe&nbsp;\\xd0\\xbe\\xd1\\x88\\xd0\\xb8\\xd0\\xb1\\xd0\\xba\\xd0\\xb5 \\xd0\\xbd\\xd0\\xb0\\xd0\\xbd\\xd0\\xb5\\xd1\\x81\\xd0\\xbb\\xd0\\xb8 \\xd1\\x83\\xd0\\xb4\\xd0\\xb0\\xd1\\x80 \\xd0\\xbf\\xd0\\xbe&nbsp;\\xd1\\x81\\xd0\\xb2\\xd0\\xbe\\xd0\\xb8\\xd0\\xbc \\xd0\\xb2\\xd0\\xbe\\xd0\\xb9\\xd1\\x81\\xd0\\xba\\xd0\\xb0\\xd0\\xbc</a></div><div class=\"b-tabloid__topic news b-tabloid__topic_news\"><a href=\"/news/2017/06/01/chechen_rebels/\">\\xd0\\x9d\\xd0\\xb0 \\xd0\\xa4\\xd0\\xb8\\xd0\\xbb\\xd0\\xb8\\xd0\\xbf\\xd0\\xbf\\xd0\\xb8\\xd0\\xbd\\xd0\\xb0\\xd1\\x85 \\xd1\\x80\\xd0\\xb0\\xd1\\x81\\xd1\\x81\\xd0\\xba\\xd0\\xb0\\xd0\\xb7\\xd0\\xb0\\xd0\\xbb\\xd0\\xb8 \\xd0\\xbe&nbsp;\\xd0\\xbb\\xd0\\xb8\\xd0\\xba\\xd0\\xb2\\xd0\\xb8\\xd0\\xb4\\xd0\\xb0\\xd1\\x86\\xd0\\xb8\\xd0\\xb8 \\xd0\\xb8\\xd1\\x81\\xd0\\xbb\\xd0\\xb0\\xd0\\xbc\\xd0\\xb8\\xd1\\x81\\xd1\\x82\\xd0\\xbe\\xd0\\xb2 \\xd0\\xb8\\xd0\\xb7&nbsp;\\xd0\\xa7\\xd0\\xb5\\xd1\\x87\\xd0\\xbd\\xd0\\xb8 \\xd0\\xbd\\xd0\\xb0&nbsp;\\xd1\\x8e\\xd0\\xb3\\xd0\\xb5 \\xd1\\x81\\xd1\\x82\\xd1\\x80\\xd0\\xb0\\xd0\\xbd\\xd1\\x8b</a></div><div class=\"b-tabloid__topic article\" data-partslug=\"text\"><a class=\"js-dh\" href=\"/articles/2017/05/30/lavrovegypt/\"><img alt=\"\" class=\"g-picture\" style=\"max-width: 96px; width: 96px; height: 64px;\" src=\"https://icdn.lenta.ru/images/2017/05/29/20/20170529204053614/tabloid_3de1e71563b96ea7babb8b81703a560d.jpg\" width=\"96\" height=\"64\" /></a><a class=\"b-tabloid__headline js-dh\" href=\"/articles/2017/05/30/lavrovegypt/\">\\xd0\\x94\\xd1\\x80\\xd1\\x83\\xd0\\xb7\\xd1\\x8c\\xd1\\x8f \\xd0\\xb8\\xd0\\xb7&nbsp;\\xd1\\x81\\xd1\\x82\\xd1\\x80\\xd0\\xb0\\xd0\\xbd\\xd1\\x8b \\xd0\\xbf\\xd0\\xb8\\xd1\\x80\\xd0\\xb0\\xd0\\xbc\\xd0\\xb8\\xd0\\xb4</a><div class=\"rightcol\">\\xd0\\x94\\xd0\\xbb\\xd1\\x8f \\xd1\\x87\\xd0\\xb5\\xd0\\xb3\\xd0\\xbe \\xd0\\x9b\\xd0\\xb0\\xd0\\xb2\\xd1\\x80\\xd0\\xbe\\xd0\\xb2 \\xd0\\xb8&nbsp;\\xd0\\xa8\\xd0\\xbe\\xd0\\xb9\\xd0\\xb3\\xd1\\x83 \\xd0\\xb5\\xd0\\xb7\\xd0\\xb4\\xd0\\xb8\\xd0\\xbb\\xd0\\xb8 \\xd0\\xb2&nbsp;\\xd0\\x95\\xd0\\xb3\\xd0\\xb8\\xd0\\xbf\\xd0\\xb5\\xd1\\x82</div></div><div class=\"b-tabloid__topic article\" data-partslug=\"text\"><a class=\"js-dh\" href=\"/articles/2017/05/27/bordachev_on_brzezinski/\"><img alt=\"\\xd0\\x97\\xd0\\xb1\\xd0\\xb8\\xd0\\xb3\\xd0\\xbd\\xd0\\xb5\\xd0\\xb2 \\xd0\\x91\\xd0\\xb6\\xd0\\xb5\\xd0\\xb7\\xd0\\xb8\\xd0\\xbd\\xd1\\x81\\xd0\\xba\\xd0\\xb8\\xd0\\xb9\" class=\"g-picture\" style=\"max-width: 96px; width: 96px; height: 64px;\" src=\"https://icdn.lenta.ru/images/2017/05/27/16/20170527163726731/tabloid_718c25474620719008a957cfc5663924.jpg\" width=\"96\" height=\"64\" /></a><a class=\"b-tabloid__headline js-dh\" href=\"/articles/2017/05/27/bordachev_on_brzezinski/\">\\xd0\\xa7\\xd0\\xb5\\xd0\\xbb\\xd0\\xbe\\xd0\\xb2\\xd0\\xb5\\xd0\\xba \\xd0\\xb2&nbsp;\\xd0\\xb8\\xd1\\x81\\xd1\\x82\\xd0\\xbe\\xd1\\x80\\xd0\\xb8\\xd0\\xb8</a><div class=\"rightcol\">\\xd0\\x92\\xd0\\xbe\\xd0\\xb9\\xd0\\xbd\\xd0\\xb0 \\xd0\\xb8&nbsp;\\xd0\\xbc\\xd0\\xb8\\xd1\\x80 \\xd0\\x97\\xd0\\xb1\\xd0\\xb8\\xd0\\xb3\\xd0\\xbd\\xd0\\xb5\\xd0\\xb2\\xd0\\xb0 \\xd0\\x91\\xd0\\xb6\\xd0\\xb5\\xd0\\xb7\\xd0\\xb8\\xd0\\xbd\\xd1\\x81\\xd0\\xba\\xd0\\xbe\\xd0\\xb3\\xd0\\xbe</div></div></div><div class=\"b-tabloid__more\"><a href=\"/rubrics/world/\">\\xd0\\x92\\xd1\\x81\\xd0\\xb5 \\xd0\\xbc\\xd0\\xb0\\xd1\\x82\\xd0\\xb5\\xd1\\x80\\xd0\\xb8\\xd0\\xb0\\xd0\\xbb\\xd1\\x8b</a></div></div><div class=\"span4\"><div class=\"b-tabloid__item\"><div class=\"bordered-title\"><a href=\"/rubrics/ussr/\">\\xd0\\x91\\xd1\\x8b\\xd0\\xb2\\xd1\\x88\\xd0\\xb8\\xd0\\xb9 \\xd0\\xa1\\xd0\\xa1\\xd0\\xa1\\xd0\\xa0</a></div><div class=\"b-tabloid__topic article\" data-partslug=\"text\"><a class=\"js-dh\" href=\"/articles/2017/06/01/kotsaba/\"><img alt=\"\\xd0\\xa0\\xd1\\x83\\xd1\\x81\\xd0\\xbb\\xd0\\xb0\\xd0\\xbd \\xd0\\x9a\\xd0\\xbe\\xd1\\x86\\xd0\\xb0\\xd0\\xb1\\xd0\\xb0\" class=\"g-picture\" style=\"max-width: 96px; width: 96px; height: 64px;\" src=\"https://icdn.lenta.ru/images/2017/05/31/16/20170531163831752/tabloid_2653e7e361ff16475bb3b4623ff150fd.jpg\" width=\"96\" height=\"64\" /></a><a class=\"b-tabloid__headline js-dh\" href=\"/articles/2017/06/01/kotsaba/\">\\xc2\\xab\\xd0\\xa1\\xd0\\xb2\\xd0\\xb8\\xd0\\xbd\\xd1\\x8c\\xd0\\xb8 \\xd1\\x83&nbsp;\\xd0\\xba\\xd0\\xbe\\xd1\\x80\\xd1\\x8b\\xd1\\x82\\xd0\\xb0 \\xe2\\x80\\x94 \\xd1\\x8d\\xd1\\x82\\xd0\\xbe \\xd0\\xbe\\xd0\\xbf\\xd0\\xb8\\xd1\\x81\\xd0\\xb0\\xd0\\xbd\\xd0\\xb8\\xd0\\xb5 \\xd1\\x83\\xd0\\xba\\xd1\\x80\\xd0\\xb0\\xd0\\xb8\\xd0\\xbd\\xd1\\x81\\xd0\\xba\\xd0\\xbe\\xd0\\xb9 \\xd0\\xb2\\xd0\\xbb\\xd0\\xb0\\xd1\\x81\\xd1\\x82\\xd0\\xb8\\xc2\\xbb</a><div class=\"rightcol\">\\xd0\\x96\\xd1\\x83\\xd1\\x80\\xd0\\xbd\\xd0\\xb0\\xd0\\xbb\\xd0\\xb8\\xd1\\x81\\xd1\\x82 \\xd0\\xa0\\xd1\\x83\\xd1\\x81\\xd0\\xbb\\xd0\\xb0\\xd0\\xbd \\xd0\\x9a\\xd0\\xbe\\xd1\\x86\\xd0\\xb0\\xd0\\xb1\\xd0\\xb0 \\xd0\\xb8\\xd0\\xb7&nbsp;\\xd0\\x98\\xd0\\xb2\\xd0\\xb0\\xd0\\xbd\\xd0\\xbe-\\xd0\\xa4\\xd1\\x80\\xd0\\xb0\\xd0\\xbd\\xd0\\xba\\xd0\\xbe\\xd0\\xb2\\xd1\\x81\\xd0\\xba\\xd0\\xb0 \\xe2\\x80\\x94 \\xd0\\xbe&nbsp;\\xd0\\xbd\\xd0\\xb5\\xd0\\xbd\\xd0\\xb0\\xd0\\xb2\\xd0\\xb8\\xd1\\x81\\xd1\\x82\\xd0\\xb8 \\xd0\\xbe\\xd0\\xb1\\xd1\\x89\\xd0\\xb5\\xd1\\x81\\xd1\\x82\\xd0\\xb2\\xd0\\xb0 \\xd0\\xba&nbsp;\\xd0\\xbf\\xd0\\xbe\\xd0\\xbb\\xd0\\xb8\\xd1\\x82\\xd0\\xb8\\xd0\\xba\\xd0\\xb0\\xd0\\xbc</div></div><div class=\"b-tabloid__topic article\" data-partslug=\"text\"><a class=\"js-dh\" href=\"/articles/2017/05/30/pensiya/\"><img alt=\"\" class=\"g-picture\" style=\"max-width: 96px; width: 96px; height: 64px;\" src=\"https://icdn.lenta.ru/images/2017/05/29/17/20170529173021337/tabloid_be2593c6e3cb17ba63e1d6aba7d1918b.jpg\" width=\"96\" height=\"64\" /></a><a class=\"b-tabloid__headline js-dh\" href=\"/articles/2017/05/30/pensiya/\">\\xd0\\xa1\\xd1\\x82\\xd0\\xb0\\xd1\\x80\\xd0\\xb8\\xd0\\xba\\xd0\\xb0\\xd0\\xbc \\xd0\\xb7\\xd0\\xb4\\xd0\\xb5\\xd1\\x81\\xd1\\x8c \\xd0\\xbd\\xd0\\xb5&nbsp;\\xd0\\xbc\\xd0\\xb5\\xd1\\x81\\xd1\\x82\\xd0\\xbe</a><div class=\"rightcol\">\\xd0\\x9f\\xd0\\xbe\\xd1\\x87\\xd0\\xb5\\xd0\\xbc\\xd1\\x83 \\xd0\\x9a\\xd0\\xb8\\xd0\\xb5\\xd0\\xb2 \\xd0\\xbf\\xd0\\xb5\\xd1\\x80\\xd0\\xb5\\xd1\\x81\\xd1\\x82\\xd0\\xb0\\xd0\\xbb \\xd0\\xb6\\xd0\\xb0\\xd0\\xbb\\xd0\\xb5\\xd1\\x82\\xd1\\x8c \\xd0\\xbf\\xd0\\xb5\\xd0\\xbd\\xd1\\x81\\xd0\\xb8\\xd0\\xbe\\xd0\\xbd\\xd0\\xb5\\xd1\\x80\\xd0\\xbe\\xd0\\xb2</div></div><div class=\"b-tabloid__topic article\"><a class=\"js-dh\" href=\"/articles/2017/05/31/diplomat/\"><img alt=\"\\xd0\\x98\\xd0\\xb3\\xd0\\xbe\\xd1\\x80\\xd1\\x8c \\xd0\\x94\\xd0\\xbe\\xd0\\xb4\\xd0\\xbe\\xd0\\xbd\" class=\"g-picture\" style=\"max-width: 96px; width: 96px; height: 64px;\" src=\"https://icdn.lenta.ru/images/2017/05/30/17/20170530175939254/tabloid_468a808f17e697d170c05a28dd99df95.jpg\" width=\"96\" height=\"64\" /></a><a class=\"b-tabloid__headline js-dh\" href=\"/articles/2017/05/31/diplomat/\">\\xd0\\x94\\xd0\\xb8\\xd0\\xbf\\xd0\\xbb\\xd0\\xbe\\xd0\\xbc\\xd0\\xb0\\xd1\\x82\\xd0\\xbe\\xd0\\xbc \\xd0\\xb2&nbsp;\\xd1\\x81\\xd0\\xbf\\xd0\\xb8\\xd0\\xbd\\xd1\\x83</a><div class=\"rightcol\">\\xd0\\x9f\\xd0\\xbe\\xd1\\x87\\xd0\\xb5\\xd0\\xbc\\xd1\\x83 \\xd0\\x9c\\xd0\\xbe\\xd0\\xbb\\xd0\\xb4\\xd0\\xb0\\xd0\\xb2\\xd0\\xb8\\xd1\\x8f \\xd1\\x80\\xd0\\xb5\\xd1\\x88\\xd0\\xb8\\xd0\\xbb\\xd0\\xb0 \\xd0\\xb2\\xd1\\x8b\\xd1\\x81\\xd0\\xbb\\xd0\\xb0\\xd1\\x82\\xd1\\x8c \\xd0\\xbf\\xd1\\x8f\\xd1\\x82\\xd1\\x8c \\xd1\\x81\\xd0\\xbe\\xd1\\x82\\xd1\\x80\\xd1\\x83\\xd0\\xb4\\xd0\\xbd\\xd0\\xb8\\xd0\\xba\\xd0\\xbe\\xd0\\xb2 \\xd0\\xbf\\xd0\\xbe\\xd1\\x81\\xd0\\xbe\\xd0\\xbb\\xd1\\x8c\\xd1\\x81\\xd1\\x82\\xd0\\xb2\\xd0\\xb0 \\xd0\\xa0\\xd0\\xbe\\xd1\\x81\\xd1\\x81\\xd0\\xb8\\xd0\\xb8</div></div><div class=\"b-tabloid__topic news b-tabloid__topic_news\"><a href=\"/news/2017/06/01/voda/\">\\xd0\\x94\\xd0\\xbe\\xd0\\xbd\\xd0\\xb5\\xd1\\x86\\xd0\\xba\\xd0\\xb0\\xd1\\x8f \\xd1\\x84\\xd0\\xb8\\xd0\\xbb\\xd1\\x8c\\xd1\\x82\\xd1\\x80\\xd0\\xbe\\xd0\\xb2\\xd0\\xb0\\xd0\\xbb\\xd1\\x8c\\xd0\\xbd\\xd0\\xb0\\xd1\\x8f \\xd1\\x81\\xd1\\x82\\xd0\\xb0\\xd0\\xbd\\xd1\\x86\\xd0\\xb8\\xd1\\x8f \\xd0\\xbf\\xd1\\x80\\xd0\\xb8\\xd0\\xbe\\xd1\\x81\\xd1\\x82\\xd0\\xb0\\xd0\\xbd\\xd0\\xbe\\xd0\\xb2\\xd0\\xb8\\xd0\\xbb\\xd0\\xb0 \\xd1\\x80\\xd0\\xb0\\xd0\\xb1\\xd0\\xbe\\xd1\\x82\\xd1\\x83 \\xd0\\xb8\\xd0\\xb7-\\xd0\\xb7\\xd0\\xb0 \\xd0\\xbe\\xd0\\xb1\\xd1\\x81\\xd1\\x82\\xd1\\x80\\xd0\\xb5\\xd0\\xbb\\xd0\\xb0 \\xd0\\x92\\xd0\\xa1\\xd0\\xa3</a></div><div class=\"b-tabloid__topic news b-tabloid__topic_news\"><a href=\"/news/2017/06/01/bystree/\">\\xd0\\xa1\\xd0\\xb5\\xd0\\xba\\xd1\\x80\\xd0\\xb5\\xd1\\x82\\xd0\\xb0\\xd1\\x80\\xd1\\x8c \\xd0\\xa1\\xd0\\xbe\\xd0\\xb2\\xd0\\xb1\\xd0\\xb5\\xd0\\xb7\\xd0\\xb0 \\xd0\\xa3\\xd0\\xba\\xd1\\x80\\xd0\\xb0\\xd0\\xb8\\xd0\\xbd\\xd1\\x8b \\xd0\\xbf\\xd1\\x80\\xd0\\xb8\\xd0\\xb7\\xd0\\xb2\\xd0\\xb0\\xd0\\xbb \\xd0\\xba&nbsp;\\xd1\\x81\\xd0\\xba\\xd0\\xbe\\xd1\\x80\\xd0\\xb5\\xd0\\xb9\\xd1\\x88\\xd0\\xb5\\xd0\\xbc\\xd1\\x83 \\xd0\\xb2\\xd0\\xb2\\xd0\\xb5\\xd0\\xb4\\xd0\\xb5\\xd0\\xbd\\xd0\\xb8\\xd1\\x8e \\xd0\\xb2\\xd0\\xb8\\xd0\\xb7 \\xd1\\x81&nbsp;\\xd0\\xa0\\xd0\\xbe\\xd1\\x81\\xd1\\x81\\xd0\\xb8\\xd0\\xb5\\xd0\\xb9</a></div><div class=\"b-tabloid__topic news b-tabloid__topic_news\"><a href=\"/news/2017/05/31/zapret/\">\\xd0\\xa3\\xd0\\xba\\xd1\\x80\\xd0\\xb0\\xd0\\xb8\\xd0\\xbd\\xd0\\xb0 \\xd0\\xb2\\xd0\\xb2\\xd0\\xb5\\xd0\\xbb\\xd0\\xb0 \\xd1\\x80\\xd0\\xb5\\xd0\\xb6\\xd0\\xb8\\xd0\\xbc \\xd1\\x82\\xd0\\xb8\\xd1\\x88\\xd0\\xb8\\xd0\\xbd\\xd1\\x8b \\xd0\\xb2&nbsp;\\xd0\\x94\\xd0\\xbe\\xd0\\xbd\\xd0\\xb1\\xd0\\xb0\\xd1\\x81\\xd1\\x81\\xd0\\xb5 \\xd0\\xbd\\xd0\\xb0&nbsp;\\xd0\\xbe\\xd0\\xb4\\xd0\\xb8\\xd0\\xbd \\xd0\\xb4\\xd0\\xb5\\xd0\\xbd\\xd1\\x8c</a></div><div class=\"b-tabloid__topic news b-tabloid__topic_news\"><a href=\"/news/2017/05/31/autumn/\">\\xd0\\xa3\\xd0\\xba\\xd1\\x80\\xd0\\xb0\\xd0\\xb8\\xd0\\xbd\\xd1\\x81\\xd0\\xba\\xd0\\xb8\\xd0\\xbc \\xd0\\xb2\\xd0\\xbb\\xd0\\xb0\\xd1\\x81\\xd1\\x82\\xd1\\x8f\\xd0\\xbc \\xd0\\xbf\\xd1\\x80\\xd0\\xb5\\xd0\\xb4\\xd1\\x80\\xd0\\xb5\\xd0\\xba\\xd0\\xbb\\xd0\\xb8 \\xd0\\xba\\xd1\\x80\\xd0\\xb0\\xd1\\x85 \\xd0\\xbe\\xd1\\x81\\xd0\\xb5\\xd0\\xbd\\xd1\\x8c\\xd1\\x8e 2017&nbsp;\\xd0\\xb3\\xd0\\xbe\\xd0\\xb4\\xd0\\xb0</a></div></div><div class=\"b-tabloid__more\"><a href=\"/rubrics/ussr/\">\\xd0\\x92\\xd1\\x81\\xd0\\xb5 \\xd0\\xbc\\xd0\\xb0\\xd1\\x82\\xd0\\xb5\\xd1\\x80\\xd0\\xb8\\xd0\\xb0\\xd0\\xbb\\xd1\\x8b</a></div></div></div><div id=\"context_1\"></div><div class=\"b-tabloid__row row\"><div class=\"span4\"><div class=\"b-tabloid__item\"><div class=\"bordered-title\"><a href=\"/rubrics/economics/\">\\xd0\\xa4\\xd0\\xb8\\xd0\\xbd\\xd0\\xb0\\xd0\\xbd\\xd1\\x81\\xd1\\x8b</a></div><div class=\"b-tabloid__topic article\" data-partslug=\"text\"><a class=\"js-dh\" href=\"/articles/2017/05/30/credbureau/\"><img alt=\"\" class=\"g-picture\" style=\"max-width: 96px; width: 96px; height: 64px;\" src=\"https://icdn.lenta.ru/images/2017/05/30/19/20170530191939619/tabloid_99f9e155d139b96a1869dc9066740871.jpg\" width=\"96\" height=\"64\" /></a><a class=\"b-tabloid__headline js-dh\" href=\"/articles/2017/05/30/credbureau/\">\\xd0\\x9e\\xd0\\xb1\\xd1\\x8a\\xd0\\xb5\\xd0\\xb4\\xd0\\xb8\\xd0\\xbd\\xd1\\x8f\\xd0\\xb9 \\xd0\\xb8&nbsp;\\xd0\\xb2\\xd0\\xbb\\xd0\\xb0\\xd1\\x81\\xd1\\x82\\xd0\\xb2\\xd1\\x83\\xd0\\xb9</a><div class=\"rightcol\">\\xd0\\x9d\\xd0\\xb0\\xd1\\x87\\xd0\\xbd\\xd0\\xb5\\xd1\\x82 \\xd0\\xbb\\xd0\\xb8&nbsp;\\xd0\\xa6\\xd0\\x91 \\xd0\\xb6\\xd0\\xb5\\xd1\\x81\\xd1\\x82\\xd0\\xba\\xd0\\xbe \\xd0\\xba\\xd0\\xbe\\xd0\\xbd\\xd1\\x82\\xd1\\x80\\xd0\\xbe\\xd0\\xbb\\xd0\\xb8\\xd1\\x80\\xd0\\xbe\\xd0\\xb2\\xd0\\xb0\\xd1\\x82\\xd1\\x8c \\xd0\\xba\\xd1\\x80\\xd0\\xb5\\xd0\\xb4\\xd0\\xb8\\xd1\\x82\\xd1\\x8b \\xd0\\xb3\\xd1\\x80\\xd0\\xb0\\xd0\\xb6\\xd0\\xb4\\xd0\\xb0\\xd0\\xbd</div></div><div class=\"b-tabloid__topic article\" data-partslug=\"text\"><a class=\"js-dh\" href=\"/articles/2017/05/30/mir4all/\"><img alt=\"\" class=\"g-picture\" style=\"max-width: 96px; width: 96px; height: 64px;\" src=\"https://icdn.lenta.ru/images/2017/04/24/17/20170424174745820/tabloid_3e87cd4b0c28a001d5b06a07dd489a23.jpg\" width=\"96\" height=\"64\" /></a><a class=\"b-tabloid__headline js-dh\" href=\"/articles/2017/05/30/mir4all/\">\\xd0\\x9f\\xd1\\x83\\xd1\\x82\\xd0\\xb5\\xd0\\xb2\\xd0\\xbe\\xd0\\xb4\\xd0\\xb8\\xd1\\x82\\xd0\\xb5\\xd0\\xbb\\xd1\\x8c \\xd0\\xbf\\xd0\\xbe \\xc2\\xab\\xd0\\x9c\\xd0\\xb8\\xd1\\x80\\xd1\\x83\\xc2\\xbb</a><div class=\"rightcol\">\\xd0\\x9f\\xd0\\xbe\\xd1\\x87\\xd0\\xb5\\xd0\\xbc\\xd1\\x83 \\xd0\\xbf\\xd0\\xb5\\xd0\\xbd\\xd1\\x81\\xd0\\xb8\\xd0\\xbe\\xd0\\xbd\\xd0\\xb5\\xd1\\x80\\xd0\\xb0\\xd0\\xbc \\xd0\\xb8\\xc2\\xa0\\xd1\\x81\\xd1\\x82\\xd1\\x83\\xd0\\xb4\\xd0\\xb5\\xd0\\xbd\\xd1\\x82\\xd0\\xb0\\xd0\\xbc \\xd0\\xbf\\xd1\\x80\\xd0\\xb8\\xd0\\xb4\\xd0\\xb5\\xd1\\x82\\xd1\\x81\\xd1\\x8f \\xd0\\xbf\\xd0\\xb5\\xd1\\x80\\xd0\\xb5\\xd0\\xb9\\xd1\\x82\\xd0\\xb8 \\xd0\\xbd\\xd0\\xb0\\xc2\\xa0\\xd1\\x80\\xd0\\xbe\\xd1\\x81\\xd1\\x81\\xd0\\xb8\\xd0\\xb9\\xd1\\x81\\xd0\\xba\\xd1\\x83\\xd1\\x8e \\xd0\\xba\\xd0\\xb0\\xd1\\x80\\xd1\\x82\\xd1\\x83</div></div><div class=\"b-tabloid__topic article\" data-partslug=\"text\"><a class=\"js-dh\" href=\"/articles/2017/05/29/pensions/\"><img alt=\"\" class=\"g-picture\" style=\"max-width: 96px; width: 96px; height: 64px;\" src=\"https://icdn.lenta.ru/images/2017/05/28/12/20170528123543907/tabloid_afe4aa8a72954e0585479f765f16203c.jpg\" width=\"96\" height=\"64\" /></a><a class=\"b-tabloid__headline js-dh\" href=\"/articles/2017/05/29/pensions/\">\\xc2\\xab\\xd0\\x9e\\xd1\\x81\\xd0\\xbd\\xd0\\xbe\\xd0\\xb2\\xd0\\xbd\\xd0\\xb0\\xd1\\x8f \\xd1\\x86\\xd0\\xb5\\xd0\\xbb\\xd1\\x8c \\xe2\\x80\\x94 \\xd1\\x81\\xd1\\x8d\\xd0\\xba\\xd0\\xbe\\xd0\\xbd\\xd0\\xbe\\xd0\\xbc\\xd0\\xb8\\xd1\\x82\\xd1\\x8c \\xd0\\xbd\\xd0\\xb0&nbsp;\\xd0\\xbf\\xd0\\xb5\\xd0\\xbd\\xd1\\x81\\xd0\\xb8\\xd0\\xbe\\xd0\\xbd\\xd0\\xb5\\xd1\\x80\\xd0\\xb0\\xd1\\x85\\xc2\\xbb</a><div class=\"rightcol\">\\xd0\\x97\\xd0\\xb0\\xd1\\x87\\xd0\\xb5\\xd0\\xbc \\xd0\\xbf\\xd1\\x80\\xd0\\xb0\\xd0\\xb2\\xd0\\xb8\\xd1\\x82\\xd0\\xb5\\xd0\\xbb\\xd1\\x8c\\xd1\\x81\\xd1\\x82\\xd0\\xb2\\xd0\\xbe \\xd0\\xb3\\xd0\\xbe\\xd1\\x82\\xd0\\xbe\\xd0\\xb2\\xd0\\xb8\\xd1\\x82 \\xd0\\xb3\\xd0\\xbb\\xd0\\xbe\\xd0\\xb1\\xd0\\xb0\\xd0\\xbb\\xd1\\x8c\\xd0\\xbd\\xd1\\x8b\\xd0\\xb5 \\xd0\\xb8\\xd0\\xb7\\xd0\\xbc\\xd0\\xb5\\xd0\\xbd\\xd0\\xb5\\xd0\\xbd\\xd0\\xb8\\xd1\\x8f \\xd0\\xb2&nbsp;\\xd1\\x81\\xd0\\xbe\\xd1\\x86\\xd0\\xb8\\xd0\\xb0\\xd0\\xbb\\xd1\\x8c\\xd0\\xbd\\xd0\\xbe\\xd0\\xb9 \\xd1\\x81\\xd0\\xb8\\xd1\\x81\\xd1\\x82\\xd0\\xb5\\xd0\\xbc\\xd0\\xb5 \\xd0\\xa0\\xd0\\xbe\\xd1\\x81\\xd1\\x81\\xd0\\xb8\\xd0\\xb8 </div></div><div class=\"b-tabloid__topic news b-tabloid__topic_news\"><a href=\"/news/2017/06/01/sbermortgage/\">\\xd0\\xa1\\xd0\\xb1\\xd0\\xb5\\xd1\\x80\\xd0\\xb1\\xd0\\xb0\\xd0\\xbd\\xd0\\xba \\xd1\\x81\\xd0\\xbd\\xd0\\xb8\\xd0\\xb7\\xd0\\xb8\\xd0\\xbb \\xd1\\x81\\xd1\\x82\\xd0\\xb0\\xd0\\xb2\\xd0\\xba\\xd0\\xb8 \\xd0\\xbf\\xd0\\xbe&nbsp;\\xd0\\xb8\\xd0\\xbf\\xd0\\xbe\\xd1\\x82\\xd0\\xb5\\xd0\\xba\\xd0\\xb5</a></div><div class=\"b-tabloid__topic news b-tabloid__topic_news\"><a href=\"/news/2017/06/01/siluanov/\">\\xd0\\x93\\xd0\\xbb\\xd0\\xb0\\xd0\\xb2\\xd0\\xb0 \\xd0\\x9c\\xd0\\xb8\\xd0\\xbd\\xd1\\x84\\xd0\\xb8\\xd0\\xbd\\xd0\\xb0 \\xd0\\xbf\\xd1\\x80\\xd0\\xb8\\xd0\\xb7\\xd0\\xb2\\xd0\\xb0\\xd0\\xbb \\xd0\\xbf\\xd0\\xb5\\xd1\\x80\\xd0\\xb5\\xd1\\x81\\xd1\\x82\\xd0\\xb0\\xd1\\x82\\xd1\\x8c \\xd0\\xb6\\xd0\\xb8\\xd1\\x82\\xd1\\x8c \\xd0\\xb2&nbsp;\\xd0\\xb4\\xd0\\xbe\\xd0\\xbb\\xd0\\xb3</a></div><div class=\"b-tabloid__topic news b-tabloid__topic_news\"><a href=\"/news/2017/06/01/debts/\">\\xd0\\x91\\xd0\\xb0\\xd0\\xbd\\xd0\\xba\\xd0\\xb8 \\xd0\\xbf\\xd1\\x80\\xd0\\xb5\\xd0\\xb4\\xd0\\xbb\\xd0\\xbe\\xd0\\xb6\\xd0\\xb8\\xd0\\xbb\\xd0\\xb8 \\xd0\\xba\\xd0\\xbe\\xd0\\xbb\\xd0\\xbb\\xd0\\xb5\\xd0\\xba\\xd1\\x82\\xd0\\xbe\\xd1\\x80\\xd0\\xb0\\xd0\\xbc \\xd0\\xb0\\xd0\\xba\\xd1\\x82\\xd0\\xb8\\xd0\\xb2\\xd0\\xbd\\xd0\\xb5\\xd0\\xb5 \\xd1\\x80\\xd0\\xb0\\xd0\\xb1\\xd0\\xbe\\xd1\\x82\\xd0\\xb0\\xd1\\x82\\xd1\\x8c \\xd1\\x81&nbsp;\\xd0\\xb4\\xd0\\xbe\\xd0\\xbb\\xd0\\xb6\\xd0\\xbd\\xd0\\xb8\\xd0\\xba\\xd0\\xb0\\xd0\\xbc\\xd0\\xb8</a></div><div class=\"b-tabloid__topic news b-tabloid__topic_news\"><a href=\"/news/2017/06/01/pief/\">\\xd0\\x92 \\xd0\\xa1\\xd0\\xb0\\xd0\\xbd\\xd0\\xba\\xd1\\x82-\\xd0\\x9f\\xd0\\xb5\\xd1\\x82\\xd0\\xb5\\xd1\\x80\\xd0\\xb1\\xd1\\x83\\xd1\\x80\\xd0\\xb3\\xd0\\xb5 \\xd1\\x81\\xd1\\x82\\xd0\\xb0\\xd1\\x80\\xd1\\x82\\xd0\\xbe\\xd0\\xb2\\xd0\\xb0\\xd0\\xbb \\xd0\\x9f\\xd0\\x9c\\xd0\\xad\\xd0\\xa4-2017</a></div></div><div class=\"b-tabloid__more\"><a href=\"/rubrics/economics/\">\\xd0\\x92\\xd1\\x81\\xd0\\xb5 \\xd0\\xbc\\xd0\\xb0\\xd1\\x82\\xd0\\xb5\\xd1\\x80\\xd0\\xb8\\xd0\\xb0\\xd0\\xbb\\xd1\\x8b</a></div></div><div class=\"span4\"><div class=\"b-tabloid__item\"><div class=\"bordered-title\"><a href=\"/rubrics/business/\">\\xd0\\x91\\xd0\\xb8\\xd0\\xb7\\xd0\\xbd\\xd0\\xb5\\xd1\\x81</a></div><div class=\"b-tabloid__topic article\" data-partslug=\"photo\"><a class=\"js-dh\" href=\"/photo/2017/06/01/airplane/\"><img alt=\"\" class=\"g-picture\" style=\"max-width: 96px; width: 96px; height: 64px;\" src=\"https://icdn.lenta.ru/images/2017/05/30/16/20170530163928116/tabloid_ae830d8ad414ae13dc9581b2c81be740.jpg\" width=\"96\" height=\"64\" /></a><a class=\"b-tabloid__headline js-dh\" href=\"/photo/2017/06/01/airplane/\">\\xd0\\xa5\\xd0\\xbe\\xd0\\xb7\\xd1\\x8f\\xd0\\xb5\\xd0\\xb2\\xd0\\xb0 \\xd0\\xbd\\xd0\\xb5\\xd0\\xb1\\xd0\\xb0</a><div class=\"rightcol\">\\xd0\\x97\\xd0\\xbd\\xd0\\xb0\\xd0\\xbc\\xd0\\xb5\\xd0\\xbd\\xd0\\xb8\\xd1\\x82\\xd1\\x8b\\xd0\\xb5 \\xd0\\xbf\\xd0\\xb0\\xd1\\x81\\xd1\\x81\\xd0\\xb0\\xd0\\xb6\\xd0\\xb8\\xd1\\x80\\xd1\\x81\\xd0\\xba\\xd0\\xb8\\xd0\\xb5 \\xd0\\xbb\\xd0\\xb0\\xd0\\xb9\\xd0\\xbd\\xd0\\xb5\\xd1\\x80\\xd1\\x8b, \\xd1\\x81\\xd0\\xbe\\xd0\\xb7\\xd0\\xb4\\xd0\\xb0\\xd0\\xbd\\xd0\\xbd\\xd1\\x8b\\xd0\\xb5 \\xd0\\xb2&nbsp;\\xd0\\xa1\\xd0\\xa1\\xd0\\xa1\\xd0\\xa0</div></div><div class=\"b-tabloid__topic article\"><a class=\"js-dh\" href=\"/articles/2017/05/30/tatoo/\"><img alt=\"\" class=\"g-picture\" style=\"max-width: 96px; width: 96px; height: 64px;\" src=\"https://icdn.lenta.ru/images/2017/05/30/16/20170530160127720/tabloid_649ef27e10eb5aa53236d89df07e166d.jpg\" width=\"96\" height=\"64\" /></a><a class=\"b-tabloid__headline js-dh\" href=\"/articles/2017/05/30/tatoo/\">\\xd0\\x91\\xd0\\xb8\\xd0\\xbb\\xd0\\xb1\\xd0\\xbe\\xd1\\x80\\xd0\\xb4 \\xd0\\xbd\\xd0\\xb0&nbsp;\\xd1\\x8f\\xd0\\xb3\\xd0\\xbe\\xd0\\xb4\\xd0\\xb8\\xd1\\x86\\xd0\\xb5</a><div class=\"rightcol\">\\xd0\\xa0\\xd0\\xb5\\xd0\\xba\\xd0\\xbb\\xd0\\xb0\\xd0\\xbc\\xd0\\xb0 \\xd0\\xbd\\xd0\\xb0&nbsp;\\xd1\\x87\\xd0\\xb5\\xd0\\xbb\\xd0\\xbe\\xd0\\xb2\\xd0\\xb5\\xd1\\x87\\xd0\\xb5\\xd1\\x81\\xd0\\xba\\xd0\\xbe\\xd0\\xbc \\xd1\\x82\\xd0\\xb5\\xd0\\xbb\\xd0\\xb5 \\xd0\\xbd\\xd0\\xb0\\xd0\\xb1\\xd0\\xb8\\xd1\\x80\\xd0\\xb0\\xd0\\xb5\\xd1\\x82 \\xd0\\xbf\\xd0\\xbe\\xd0\\xbf\\xd1\\x83\\xd0\\xbb\\xd1\\x8f\\xd1\\x80\\xd0\\xbd\\xd0\\xbe\\xd1\\x81\\xd1\\x82\\xd1\\x8c</div></div><div class=\"b-tabloid__topic article\" data-partslug=\"text\"><a class=\"js-dh\" href=\"/articles/2017/05/30/foodindustry/\"><img alt=\"\" class=\"g-picture\" style=\"max-width: 96px; width: 96px; height: 64px;\" src=\"https://icdn.lenta.ru/images/2017/05/30/16/20170530165407278/tabloid_3bf9a35e2eecfea83468100fc08f68db.jpg\" width=\"96\" height=\"64\" /></a><a class=\"b-tabloid__headline js-dh\" href=\"/articles/2017/05/30/foodindustry/\">\\xd0\\xa1\\xd0\\xbb\\xd0\\xb0\\xd0\\xb4\\xd0\\xba\\xd0\\xb0\\xd1\\x8f \\xd0\\xb6\\xd0\\xb8\\xd0\\xb7\\xd0\\xbd\\xd1\\x8c</a><div class=\"rightcol\">\\xd0\\x9a\\xd0\\xb0\\xd0\\xba \\xd0\\xb2\\xd0\\xbb\\xd0\\xb0\\xd1\\x81\\xd1\\x82\\xd0\\xb8 \\xd0\\x9c\\xd0\\xbe\\xd1\\x81\\xd0\\xba\\xd0\\xb2\\xd1\\x8b \\xd0\\xbf\\xd0\\xbe\\xd0\\xbc\\xd0\\xbe\\xd0\\xb3\\xd0\\xb0\\xd1\\x8e\\xd1\\x82 \\xd0\\xb3\\xd0\\xbe\\xd1\\x80\\xd0\\xbe\\xd0\\xb4\\xd1\\x81\\xd0\\xba\\xd0\\xbe\\xd0\\xb9 \\xd0\\xbf\\xd0\\xb8\\xd1\\x89\\xd0\\xb5\\xd0\\xb2\\xd0\\xbe\\xd0\\xb9 \\xd0\\xbf\\xd1\\x80\\xd0\\xbe\\xd0\\xbc\\xd1\\x8b\\xd1\\x88\\xd0\\xbb\\xd0\\xb5\\xd0\\xbd\\xd0\\xbd\\xd0\\xbe\\xd1\\x81\\xd1\\x82\\xd0\\xb8</div></div><div class=\"b-tabloid__topic news b-tabloid__topic_news\"><a href=\"/news/2017/06/01/proctor/\">P&G \\xd0\\xb7\\xd0\\xb0\\xd1\\x8f\\xd0\\xb2\\xd0\\xb8\\xd0\\xbb\\xd0\\xb0 \\xd0\\xbe\\xd0\\xb1&nbsp;\\xd0\\xb8\\xd0\\xbd\\xd0\\xb2\\xd0\\xb5\\xd1\\x81\\xd1\\x82\\xd0\\xb8\\xd1\\x80\\xd0\\xbe\\xd0\\xb2\\xd0\\xb0\\xd0\\xbd\\xd0\\xb8\\xd0\\xb8 5&nbsp;\\xd0\\xbc\\xd0\\xb8\\xd0\\xbb\\xd0\\xbb\\xd0\\xb8\\xd0\\xb0\\xd1\\x80\\xd0\\xb4\\xd0\\xbe\\xd0\\xb2 \\xd1\\x80\\xd1\\x83\\xd0\\xb1\\xd0\\xbb\\xd0\\xb5\\xd0\\xb9 \\xd0\\xb2&nbsp;\\xd0\\xb7\\xd0\\xb0\\xd0\\xb2\\xd0\\xbe\\xd0\\xb4 \\xd0\\xb2&nbsp;\\xd0\\xa2\\xd1\\x83\\xd0\\xbb\\xd1\\x8c\\xd1\\x81\\xd0\\xba\\xd0\\xbe\\xd0\\xb9 \\xd0\\xbe\\xd0\\xb1\\xd0\\xbb\\xd0\\xb0\\xd1\\x81\\xd1\\x82\\xd0\\xb8</a></div><div class=\"b-tabloid__topic news b-tabloid__topic_news\"><a href=\"/news/2017/06/01/gazpromturpotok/\">\\xc2\\xab\\xd0\\x93\\xd0\\xb0\\xd0\\xb7\\xd0\\xbf\\xd1\\x80\\xd0\\xbe\\xd0\\xbc\\xc2\\xbb \\xd0\\xbd\\xd0\\xb0\\xd1\\x87\\xd0\\xb0\\xd0\\xbb \\xd0\\xbf\\xd0\\xb5\\xd1\\x80\\xd0\\xb5\\xd0\\xb3\\xd0\\xbe\\xd0\\xb2\\xd0\\xbe\\xd1\\x80\\xd1\\x8b \\xd1\\x81&nbsp;\\xd0\\xb1\\xd0\\xb0\\xd0\\xbd\\xd0\\xba\\xd0\\xb0\\xd0\\xbc\\xd0\\xb8 \\xd0\\xb4\\xd0\\xbb\\xd1\\x8f \\xd1\\x84\\xd0\\xb8\\xd0\\xbd\\xd0\\xb0\\xd0\\xbd\\xd1\\x81\\xd0\\xb8\\xd1\\x80\\xd0\\xbe\\xd0\\xb2\\xd0\\xb0\\xd0\\xbd\\xd0\\xb8\\xd1\\x8f \\xc2\\xab\\xd0\\xa2\\xd1\\x83\\xd1\\x80\\xd0\\xb5\\xd1\\x86\\xd0\\xba\\xd0\\xbe\\xd0\\xb3\\xd0\\xbe \\xd0\\xbf\\xd0\\xbe\\xd1\\x82\\xd0\\xbe\\xd0\\xba\\xd0\\xb0\\xc2\\xbb</a></div><div class=\"b-tabloid__topic news b-tabloid__topic_news\"><a href=\"/news/2017/05/31/gazpromiskshvedi/\">\\xc2\\xab\\xd0\\x93\\xd0\\xb0\\xd0\\xb7\\xd0\\xbf\\xd1\\x80\\xd0\\xbe\\xd0\\xbc\\xc2\\xbb \\xd0\\xbd\\xd0\\xb0\\xd0\\xb7\\xd0\\xb2\\xd0\\xb0\\xd0\\xbb \\xd1\\x80\\xd0\\xb5\\xd1\\x88\\xd0\\xb5\\xd0\\xbd\\xd0\\xb8\\xd0\\xb5 \\xd1\\x81\\xd1\\x82\\xd0\\xbe\\xd0\\xba\\xd0\\xb3\\xd0\\xbe\\xd0\\xbb\\xd1\\x8c\\xd0\\xbc\\xd1\\x81\\xd0\\xba\\xd0\\xbe\\xd0\\xb3\\xd0\\xbe \\xd0\\xb0\\xd1\\x80\\xd0\\xb1\\xd0\\xb8\\xd1\\x82\\xd1\\x80\\xd0\\xb0\\xd0\\xb6\\xd0\\xb0 \\xd0\\xbf\\xd1\\x80\\xd0\\xbe\\xd0\\xbc\\xd0\\xb5\\xd0\\xb6\\xd1\\x83\\xd1\\x82\\xd0\\xbe\\xd1\\x87\\xd0\\xbd\\xd1\\x8b\\xd0\\xbc</a></div><div class=\"b-tabloid__topic news b-tabloid__topic_news\"><a href=\"/news/2017/05/31/gazpromamku/\">\\xc2\\xab\\xd0\\x93\\xd0\\xb0\\xd0\\xb7\\xd0\\xbf\\xd1\\x80\\xd0\\xbe\\xd0\\xbc\\xc2\\xbb \\xd0\\xbe\\xd1\\x81\\xd0\\xbf\\xd0\\xbe\\xd1\\x80\\xd0\\xb8\\xd1\\x82 \\xd0\\xb0\\xd0\\xbd\\xd1\\x82\\xd0\\xb8\\xd0\\xbc\\xd0\\xbe\\xd0\\xbd\\xd0\\xbe\\xd0\\xbf\\xd0\\xbe\\xd0\\xbb\\xd1\\x8c\\xd0\\xbd\\xd1\\x8b\\xd0\\xb9 \\xd1\\x88\\xd1\\x82\\xd1\\x80\\xd0\\xb0\\xd1\\x84 \\xd0\\xa3\\xd0\\xba\\xd1\\x80\\xd0\\xb0\\xd0\\xb8\\xd0\\xbd\\xd1\\x8b \\xd0\\xb2&nbsp;\\xd0\\xbc\\xd0\\xb5\\xd0\\xb6\\xd0\\xb4\\xd1\\x83\\xd0\\xbd\\xd0\\xb0\\xd1\\x80\\xd0\\xbe\\xd0\\xb4\\xd0\\xbd\\xd1\\x8b\\xd1\\x85 \\xd1\\x81\\xd1\\x83\\xd0\\xb4\\xd0\\xb0\\xd1\\x85</a></div></div><div class=\"b-tabloid__more\"><a href=\"/rubrics/business/\">\\xd0\\x92\\xd1\\x81\\xd0\\xb5 \\xd0\\xbc\\xd0\\xb0\\xd1\\x82\\xd0\\xb5\\xd1\\x80\\xd0\\xb8\\xd0\\xb0\\xd0\\xbb\\xd1\\x8b</a></div></div><div class=\"span4\"><div class=\"b-tabloid__item\"><div class=\"bordered-title\"><a href=\"/rubrics/forces/\">\\xd0\\xa1\\xd0\\xb8\\xd0\\xbb\\xd0\\xbe\\xd0\\xb2\\xd1\\x8b\\xd0\\xb5 \\xd1\\x81\\xd1\\x82\\xd1\\x80\\xd1\\x83\\xd0\\xba\\xd1\\x82\\xd1\\x83\\xd1\\x80\\xd1\\x8b</a></div><div class=\"b-tabloid__topic article\" data-partslug=\"text\"><a class=\"js-dh\" href=\"/articles/2017/06/01/ipsc/\"><img alt=\"\" class=\"g-picture\" style=\"max-width: 96px; width: 96px; height: 64px;\" src=\"https://icdn.lenta.ru/images/2017/05/31/19/20170531193022232/tabloid_50c1e8b257f73a3736aabff3bd9bd16c.jpg\" width=\"96\" height=\"64\" /></a><a class=\"b-tabloid__headline js-dh\" href=\"/articles/2017/06/01/ipsc/\">\\xc2\\xab\\xd0\\xaf \\xd0\\xbf\\xd1\\x80\\xd0\\xb8\\xd1\\x85\\xd0\\xbe\\xd0\\xb4\\xd0\\xb8\\xd0\\xbb \\xd0\\xba&nbsp;\\xd1\\x81\\xd0\\xb8\\xd0\\xbb\\xd0\\xbe\\xd0\\xb2\\xd0\\xb8\\xd0\\xba\\xd0\\xb0\\xd0\\xbc \\xd0\\xb8&nbsp;\\xd0\\xb2\\xd1\\x8b\\xd0\\xb7\\xd1\\x8b\\xd0\\xb2\\xd0\\xb0\\xd0\\xbb \\xd0\\xb8\\xd1\\x85&nbsp;\\xd1\\x81\\xd1\\x82\\xd1\\x80\\xd0\\xb5\\xd0\\xbb\\xd0\\xba\\xd0\\xbe\\xd0\\xb2 \\xd0\\xbd\\xd0\\xb0&nbsp;\\xd0\\xb4\\xd1\\x83\\xd1\\x8d\\xd0\\xbb\\xd1\\x8c\\xc2\\xbb</a><div class=\"rightcol\">\\xd0\\x9a\\xd0\\xb0\\xd0\\xba \\xd0\\xb3\\xd1\\x80\\xd0\\xb0\\xd0\\xb6\\xd0\\xb4\\xd0\\xb0\\xd0\\xbd\\xd1\\x81\\xd0\\xba\\xd0\\xb8\\xd0\\xb5 \\xd1\\x81\\xd1\\x82\\xd0\\xb0\\xd0\\xbb\\xd0\\xb8 \\xd1\\x83\\xd1\\x87\\xd0\\xb8\\xd1\\x82\\xd1\\x8c \\xd1\\x81\\xd1\\x82\\xd1\\x80\\xd0\\xb5\\xd0\\xbb\\xd1\\x8f\\xd1\\x82\\xd1\\x8c \\xd0\\xbf\\xd0\\xbe\\xd0\\xbb\\xd0\\xb8\\xd1\\x86\\xd0\\xb8\\xd1\\x8e \\xd0\\xb8&nbsp;\\xd0\\xb2\\xd0\\xbe\\xd0\\xb5\\xd0\\xbd\\xd0\\xbd\\xd1\\x8b\\xd1\\x85</div></div><div class=\"b-tabloid__topic article\"><a class=\"js-dh\" href=\"/articles/2017/05/31/navypolice/\"><img alt=\"\" class=\"g-picture\" style=\"max-width: 96px; width: 96px; height: 64px;\" src=\"https://icdn.lenta.ru/images/2017/05/29/12/20170529124834140/tabloid_38794449b7f5a025c860250ae1ed11ca.jpg\" width=\"96\" height=\"64\" /></a><a class=\"b-tabloid__headline js-dh\" href=\"/articles/2017/05/31/navypolice/\">\\xd0\\x9d\\xd0\\xb0\\xd0\\xbc \\xd0\\xbb\\xd0\\xb8&nbsp;\\xd0\\xb1\\xd1\\x8b\\xd1\\x82\\xd1\\x8c \\xd0\\xb2&nbsp;\\xd0\\xbf\\xd1\\x80\\xd0\\xb8\\xd1\\x87\\xd0\\xb0\\xd0\\xbb\\xd0\\xb5</a><div class=\"rightcol\">\\xd0\\x9a\\xd0\\xb0\\xd0\\xba \\xd0\\xb2\\xd0\\xbe\\xd0\\xb4\\xd0\\xbd\\xd0\\xb0\\xd1\\x8f \\xd0\\xbf\\xd0\\xbe\\xd0\\xbb\\xd0\\xb8\\xd1\\x86\\xd0\\xb8\\xd1\\x8f \\xd0\\xbe\\xd1\\x85\\xd1\\x80\\xd0\\xb0\\xd0\\xbd\\xd1\\x8f\\xd0\\xb5\\xd1\\x82 \\xd1\\x82\\xd0\\xb5\\xd0\\xbf\\xd0\\xbb\\xd0\\xbe\\xd1\\x85\\xd0\\xbe\\xd0\\xb4\\xd1\\x8b \\xd1\\x81&nbsp;\\xd0\\xb2\\xd1\\x8b\\xd0\\xbf\\xd1\\x83\\xd1\\x81\\xd0\\xba\\xd0\\xbd\\xd0\\xb8\\xd0\\xba\\xd0\\xb0\\xd0\\xbc\\xd0\\xb8</div></div><div class=\"b-tabloid__topic article\" data-partslug=\"text\"><a class=\"js-dh\" href=\"/articles/2017/05/31/sochi/\"><img alt=\"\" class=\"g-picture\" style=\"max-width: 96px; width: 96px; height: 64px;\" src=\"https://icdn.lenta.ru/images/2017/05/31/14/20170531144212525/tabloid_696990865d66139f501d4297af175246.jpg\" width=\"96\" height=\"64\" /></a><a class=\"b-tabloid__headline js-dh\" href=\"/articles/2017/05/31/sochi/\">\\xd0\\x9b\\xd1\\x8e\\xd0\\xb4\\xd0\\xb8 \\xd0\\xbd\\xd0\\xb5&nbsp;\\xd0\\xb2\\xd1\\x8b\\xd0\\xb4\\xd0\\xb5\\xd1\\x80\\xd0\\xb6\\xd0\\xb8\\xd0\\xb2\\xd0\\xb0\\xd1\\x8e\\xd1\\x82</a><div class=\"rightcol\">\\xd0\\x9e \\xd1\\x87\\xd0\\xb5\\xd0\\xbc \\xd0\\xb3\\xd0\\xbb\\xd0\\xb0\\xd1\\x81\\xd1\\x8f\\xd1\\x82 \\xd1\\x83\\xd1\\x82\\xd0\\xb5\\xd0\\xba\\xd1\\x88\\xd0\\xb8\\xd0\\xb5 \\xd0\\xb2&nbsp;\\xd1\\x81\\xd0\\xb5\\xd1\\x82\\xd1\\x8c \\xd0\\xbc\\xd0\\xb0\\xd1\\x82\\xd0\\xb5\\xd1\\x80\\xd0\\xb8\\xd0\\xb0\\xd0\\xbb\\xd1\\x8b \\xd1\\x80\\xd0\\xb0\\xd1\\x81\\xd1\\x81\\xd0\\xbb\\xd0\\xb5\\xd0\\xb4\\xd0\\xbe\\xd0\\xb2\\xd0\\xb0\\xd0\\xbd\\xd0\\xb8\\xd1\\x8f \\xd0\\xba\\xd0\\xb0\\xd1\\x82\\xd0\\xb0\\xd1\\x81\\xd1\\x82\\xd1\\x80\\xd0\\xbe\\xd1\\x84\\xd1\\x8b \\xd0\\xa2\\xd1\\x83-154</div></div><div class=\"b-tabloid__topic news b-tabloid__topic_news\"><a href=\"/news/2017/06/01/vedernikov/\">\\xd0\\xa1\\xd0\\xb4\\xd0\\xb0\\xd0\\xb2\\xd1\\x88\\xd0\\xb8\\xd0\\xb9 \\xd0\\xbf\\xd0\\xbe\\xd0\\xb4\\xd0\\xb5\\xd0\\xbb\\xd1\\x8c\\xd0\\xbd\\xd0\\xb8\\xd0\\xba\\xd0\\xbe\\xd0\\xb2 \\xd1\\x83\\xd1\\x87\\xd0\\xb0\\xd1\\x81\\xd1\\x82\\xd0\\xbd\\xd0\\xb8\\xd0\\xba \\xd0\\xb1\\xd0\\xb0\\xd0\\xbd\\xd0\\xb4\\xd1\\x8b \\xc2\\xab\\xd0\\x9e\\xd1\\x81\\xd0\\xb8\\xd0\\xbd\\xd1\\x86\\xd0\\xb5\\xd0\\xb2\\xd1\\x81\\xd0\\xba\\xd0\\xb8\\xd0\\xb5\\xc2\\xbb \\xd0\\xbe\\xd1\\x81\\xd1\\x83\\xd0\\xb6\\xd0\\xb4\\xd0\\xb5\\xd0\\xbd \\xd0\\xbd\\xd0\\xb0&nbsp;22&nbsp;\\xd0\\xb3\\xd0\\xbe\\xd0\\xb4\\xd0\\xb0 \\xd0\\xb7\\xd0\\xb0&nbsp;\\xd1\\x83\\xd0\\xb1\\xd0\\xb8\\xd0\\xb9\\xd1\\x81\\xd1\\x82\\xd0\\xb2\\xd0\\xb0</a></div><div class=\"b-tabloid__topic news b-tabloid__topic_news\"><a href=\"/news/2017/06/01/raqqa/\">\\xd0\\x92\\xd0\\x9a\\xd0\\xa1 \\xd0\\xa0\\xd0\\xbe\\xd1\\x81\\xd1\\x81\\xd0\\xb8\\xd0\\xb8 \\xd0\\xb4\\xd0\\xb2\\xd0\\xb0\\xd0\\xb6\\xd0\\xb4\\xd1\\x8b \\xd0\\xbf\\xd0\\xbe\\xd0\\xbc\\xd0\\xb5\\xd1\\x88\\xd0\\xb0\\xd0\\xbb\\xd0\\xb8 \\xd0\\xb1\\xd0\\xbe\\xd0\\xb5\\xd0\\xb2\\xd0\\xb8\\xd0\\xba\\xd0\\xb0\\xd0\\xbc \\xd0\\x98\\xd0\\x93&nbsp;\\xd0\\xb2\\xd1\\x8b\\xd1\\x80\\xd0\\xb2\\xd0\\xb0\\xd1\\x82\\xd1\\x8c\\xd1\\x81\\xd1\\x8f \\xd0\\xb8\\xd0\\xb7&nbsp;\\xd0\\xa0\\xd0\\xb0\\xd0\\xba\\xd0\\xba\\xd0\\xb8</a></div><div class=\"b-tabloid__topic news b-tabloid__topic_news\"><a href=\"/news/2017/05/31/turkey/\">\\xd0\\x92\\xd0\\xbe\\xd0\\xb5\\xd0\\xbd\\xd0\\xbd\\xd1\\x8b\\xd0\\xb9 \\xd0\\xb2\\xd0\\xb5\\xd1\\x80\\xd1\\x82\\xd0\\xbe\\xd0\\xbb\\xd0\\xb5\\xd1\\x82 \\xd1\\x80\\xd0\\xb0\\xd0\\xb7\\xd0\\xb1\\xd0\\xb8\\xd0\\xbb\\xd1\\x81\\xd1\\x8f \\xd0\\xbd\\xd0\\xb0&nbsp;\\xd1\\x8e\\xd0\\xb3\\xd0\\xbe-\\xd0\\xb2\\xd0\\xbe\\xd1\\x81\\xd1\\x82\\xd0\\xbe\\xd0\\xba\\xd0\\xb5 \\xd0\\xa2\\xd1\\x83\\xd1\\x80\\xd1\\x86\\xd0\\xb8\\xd0\\xb8</a></div><div class=\"b-tabloid__topic news b-tabloid__topic_news\"><a href=\"/news/2017/05/31/tu154/\">\\xd0\\x9c\\xd0\\xb8\\xd0\\xbd\\xd0\\xbe\\xd0\\xb1\\xd0\\xbe\\xd1\\x80\\xd0\\xbe\\xd0\\xbd\\xd1\\x8b \\xd0\\xbe\\xd0\\xbf\\xd1\\x83\\xd0\\xb1\\xd0\\xbb\\xd0\\xb8\\xd0\\xba\\xd0\\xbe\\xd0\\xb2\\xd0\\xb0\\xd0\\xbb\\xd0\\xbe \\xd0\\xb8\\xd1\\x82\\xd0\\xbe\\xd0\\xb3\\xd0\\xb8 \\xd1\\x80\\xd0\\xb0\\xd1\\x81\\xd1\\x81\\xd0\\xbb\\xd0\\xb5\\xd0\\xb4\\xd0\\xbe\\xd0\\xb2\\xd0\\xb0\\xd0\\xbd\\xd0\\xb8\\xd1\\x8f \\xd0\\xba\\xd0\\xb0\\xd1\\x82\\xd0\\xb0\\xd1\\x81\\xd1\\x82\\xd1\\x80\\xd0\\xbe\\xd1\\x84\\xd1\\x8b \\xd0\\xa2\\xd1\\x83-154</a></div></div><div class=\"b-tabloid__more\"><a href=\"/rubrics/forces/\">\\xd0\\x92\\xd1\\x81\\xd0\\xb5 \\xd0\\xbc\\xd0\\xb0\\xd1\\x82\\xd0\\xb5\\xd1\\x80\\xd0\\xb8\\xd0\\xb0\\xd0\\xbb\\xd1\\x8b</a></div></div></div><div class=\"b-tabloid__row row\"><div class=\"span4\"><div class=\"b-tabloid__item\"><div class=\"bordered-title\"><a href=\"/rubrics/science/\">\\xd0\\x9d\\xd0\\xb0\\xd1\\x83\\xd0\\xba\\xd0\\xb0 \\xd0\\xb8 \\xd1\\x82\\xd0\\xb5\\xd1\\x85\\xd0\\xbd\\xd0\\xb8\\xd0\\xba\\xd0\\xb0</a></div><div class=\"b-tabloid__topic article\"><a class=\"js-dh\" href=\"/articles/2017/06/01/hole/\"><img alt=\"\" class=\"g-picture\" style=\"max-width: 96px; width: 96px; height: 64px;\" src=\"https://icdn.lenta.ru/images/2017/05/31/19/20170531193605448/tabloid_040631997b7b04aadf3d9391ed38126d.jpg\" width=\"96\" height=\"64\" /></a><a class=\"b-tabloid__headline js-dh\" href=\"/articles/2017/06/01/hole/\">\\xd0\\xa0\\xd0\\xb0\\xd0\\xb7\\xd0\\xbe\\xd1\\x80\\xd0\\xb2\\xd0\\xb0\\xd0\\xbb\\xd0\\xbe \\xd0\\xbd\\xd0\\xb0&nbsp;\\xd0\\xba\\xd1\\x83\\xd1\\x81\\xd0\\xba\\xd0\\xb8</a><div class=\"rightcol\">\\xd0\\x9a\\xd0\\xb0\\xd0\\xba \\xd1\\x83\\xd1\\x87\\xd0\\xb5\\xd0\\xbd\\xd1\\x8b\\xd0\\xb5 \\xd1\\x81\\xd0\\xbe\\xd0\\xb7\\xd0\\xb4\\xd0\\xb0\\xd0\\xbb\\xd0\\xb8 \\xd0\\xb0\\xd0\\xbd\\xd0\\xb0\\xd0\\xbb\\xd0\\xbe\\xd0\\xb3 \\xd1\\x87\\xd0\\xb5\\xd1\\x80\\xd0\\xbd\\xd0\\xbe\\xd0\\xb9 \\xd0\\xb4\\xd1\\x8b\\xd1\\x80\\xd1\\x8b \\xd0\\xbd\\xd0\\xb0&nbsp;\\xd0\\x97\\xd0\\xb5\\xd0\\xbc\\xd0\\xbb\\xd0\\xb5</div></div><div class=\"b-tabloid__topic article\"><a class=\"js-dh\" href=\"/articles/2017/05/30/genetic/\"><img alt=\"\" class=\"g-picture\" style=\"max-width: 96px; width: 96px; height: 64px;\" src=\"https://icdn.lenta.ru/images/2017/05/29/18/20170529182212750/tabloid_64c1aaea91413a48584060c39ae4be4c.jpg\" width=\"96\" height=\"64\" /></a><a class=\"b-tabloid__headline js-dh\" href=\"/articles/2017/05/30/genetic/\">\\xd0\\x92\\xd1\\x8b\\xd1\\x81\\xd0\\xb2\\xd0\\xbe\\xd0\\xb1\\xd0\\xbe\\xd0\\xb4\\xd0\\xb8\\xd0\\xbb\\xd0\\xb8 \\xd0\\xb7\\xd0\\xb2\\xd0\\xb5\\xd1\\x80\\xd1\\x8f</a><div class=\"rightcol\">\\xd0\\xa0\\xd0\\xb0\\xd1\\x81\\xd0\\xba\\xd1\\x80\\xd1\\x8b\\xd1\\x82\\xd1\\x8b \\xd0\\xbd\\xd0\\xb5\\xd0\\xbe\\xd0\\xb6\\xd0\\xb8\\xd0\\xb4\\xd0\\xb0\\xd0\\xbd\\xd0\\xbd\\xd1\\x8b\\xd0\\xb5 \\xd0\\xbf\\xd0\\xbe\\xd1\\x81\\xd0\\xbb\\xd0\\xb5\\xd0\\xb4\\xd1\\x81\\xd1\\x82\\xd0\\xb2\\xd0\\xb8\\xd1\\x8f \\xd0\\xb3\\xd0\\xb5\\xd0\\xbd\\xd0\\xbd\\xd0\\xbe\\xd0\\xb9 \\xd0\\xb8\\xd0\\xbd\\xd0\\xb6\\xd0\\xb5\\xd0\\xbd\\xd0\\xb5\\xd1\\x80\\xd0\\xb8\\xd0\\xb8</div></div><div class=\"b-tabloid__topic article\" data-partslug=\"text\"><a class=\"js-dh\" href=\"/articles/2017/05/31/feniks/\"><img alt=\"\\xd0\\x9f\\xd1\\x83\\xd1\\x81\\xd0\\xba \\xd1\\x80\\xd0\\xb0\\xd0\\xba\\xd0\\xb5\\xd1\\x82\\xd1\\x8b \\xc2\\xab\\xd0\\xa1\\xd0\\xbe\\xd1\\x8e\\xd0\\xb7\\xc2\\xbb\" class=\"g-picture\" style=\"max-width: 96px; width: 96px; height: 64px;\" src=\"https://icdn.lenta.ru/images/2017/05/30/12/20170530125026294/tabloid_8a5769029cf85c9c28726067fe8e0c51.jpg\" width=\"96\" height=\"64\" /></a><a class=\"b-tabloid__headline js-dh\" href=\"/articles/2017/05/31/feniks/\">\\xd0\\x9d\\xd0\\xb0\\xd0\\xb7\\xd0\\xb0\\xd0\\xb4 \\xd0\\xb2&nbsp;\\xd0\\xa1\\xd0\\xa1\\xd0\\xa1\\xd0\\xa0</a><div class=\"rightcol\">\\xd0\\x9d\\xd0\\xb0 \\xd1\\x87\\xd1\\x82\\xd0\\xbe \\xc2\\xab\\xd0\\xa0\\xd0\\xbe\\xd1\\x81\\xd0\\xba\\xd0\\xbe\\xd1\\x81\\xd0\\xbc\\xd0\\xbe\\xd1\\x81\\xc2\\xbb \\xd0\\xbf\\xd1\\x80\\xd0\\xbe\\xd0\\xbc\\xd0\\xb5\\xd0\\xbd\\xd1\\x8f\\xd0\\xb5\\xd1\\x82 \\xd0\\xba\\xd0\\xbe\\xd1\\x81\\xd0\\xbc\\xd0\\xbe\\xd0\\xb4\\xd1\\x80\\xd0\\xbe\\xd0\\xbc \\xd0\\x92\\xd0\\xbe\\xd1\\x81\\xd1\\x82\\xd0\\xbe\\xd1\\x87\\xd0\\xbd\\xd1\\x8b\\xd0\\xb9 \\xd0\\xb8&nbsp;\\xd1\\x80\\xd0\\xb0\\xd0\\xba\\xd0\\xb5\\xd1\\x82\\xd1\\x83 \\xc2\\xab\\xd0\\x90\\xd0\\xbd\\xd0\\xb3\\xd0\\xb0\\xd1\\x80\\xd0\\xb0\\xc2\\xbb</div></div><div class=\"b-tabloid__topic news b-tabloid__topic_news\"><a href=\"/news/2017/06/01/methyleneblue/\">\\xd0\\x9d\\xd0\\xb0\\xd0\\xb9\\xd0\\xb4\\xd0\\xb5\\xd0\\xbd\\xd0\\xbe \\xd1\\x8d\\xd1\\x84\\xd1\\x84\\xd0\\xb5\\xd0\\xba\\xd1\\x82\\xd0\\xb8\\xd0\\xb2\\xd0\\xbd\\xd0\\xbe\\xd0\\xb5 \\xd0\\xb8&nbsp;\\xd0\\xb4\\xd0\\xb5\\xd1\\x88\\xd0\\xb5\\xd0\\xb2\\xd0\\xbe\\xd0\\xb5 \\xd1\\x81\\xd1\\x80\\xd0\\xb5\\xd0\\xb4\\xd1\\x81\\xd1\\x82\\xd0\\xb2\\xd0\\xbe \\xd0\\xbe\\xd0\\xbc\\xd0\\xbe\\xd0\\xbb\\xd0\\xbe\\xd0\\xb6\\xd0\\xb5\\xd0\\xbd\\xd0\\xb8\\xd1\\x8f \\xd0\\xba\\xd0\\xbe\\xd0\\xb6\\xd0\\xb8</a></div><div class=\"b-tabloid__topic news b-tabloid__topic_news\"><a href=\"/news/2017/06/01/ai/\">\\xd0\\x9d\\xd0\\xb0\\xd0\\xb7\\xd0\\xb2\\xd0\\xb0\\xd0\\xbd\\xd1\\x8b \\xd1\\x81\\xd1\\x80\\xd0\\xbe\\xd0\\xba\\xd0\\xb8 \\xd0\\xb8\\xd1\\x81\\xd1\\x87\\xd0\\xb5\\xd0\\xb7\\xd0\\xbd\\xd0\\xbe\\xd0\\xb2\\xd0\\xb5\\xd0\\xbd\\xd0\\xb8\\xd1\\x8f \\xd0\\xbf\\xd1\\x80\\xd0\\xbe\\xd1\\x84\\xd0\\xb5\\xd1\\x81\\xd1\\x81\\xd0\\xb8\\xd0\\xb9 \\xd1\\x85\\xd0\\xb8\\xd1\\x80\\xd1\\x83\\xd1\\x80\\xd0\\xb3\\xd0\\xb0 \\xd0\\xb8&nbsp;\\xd0\\xbf\\xd0\\xb8\\xd1\\x81\\xd0\\xb0\\xd1\\x82\\xd0\\xb5\\xd0\\xbb\\xd1\\x8f</a></div><div class=\"b-tabloid__topic article\" data-partslug=\"text\"><a class=\"js-dh\" href=\"/articles/2017/05/27/dekabristy/\"><img alt=\"\" class=\"g-picture\" style=\"max-width: 96px; width: 96px; height: 64px;\" src=\"https://icdn.lenta.ru/images/2017/05/26/19/20170526194853013/tabloid_ebd4f0b4daedf7f154945172f777da12.jpg\" width=\"96\" height=\"64\" /></a><a class=\"b-tabloid__headline js-dh\" href=\"/articles/2017/05/27/dekabristy/\">\\xc2\\xab\\xd0\\x94\\xd0\\xb5\\xd0\\xba\\xd0\\xb0\\xd0\\xb1\\xd1\\x80\\xd0\\xb8\\xd1\\x81\\xd1\\x82\\xd1\\x8b \\xe2\\x80\\x94 \\xd0\\xb3\\xd0\\xbb\\xd0\\xb0\\xd0\\xb2\\xd0\\xbd\\xd1\\x8b\\xd0\\xb9 \\xd0\\xbc\\xd0\\xb8\\xd1\\x84 \\xd1\\x80\\xd1\\x83\\xd1\\x81\\xd1\\x81\\xd0\\xba\\xd0\\xbe\\xd0\\xb9 \\xd0\\xb8\\xd0\\xbd\\xd1\\x82\\xd0\\xb5\\xd0\\xbb\\xd0\\xbb\\xd0\\xb8\\xd0\\xb3\\xd0\\xb5\\xd0\\xbd\\xd1\\x86\\xd0\\xb8\\xd0\\xb8\\xc2\\xbb</a><div class=\"rightcol\">\\xd0\\x9f\\xd0\\xbe\\xd1\\x87\\xd0\\xb5\\xd0\\xbc\\xd1\\x83 \\xd0\\xbf\\xd1\\x80\\xd0\\xb8 \\xd0\\xa1\\xd1\\x82\\xd0\\xb0\\xd0\\xbb\\xd0\\xb8\\xd0\\xbd\\xd0\\xb5 \\xd0\\xb4\\xd0\\xb5\\xd0\\xba\\xd0\\xb0\\xd0\\xb1\\xd1\\x80\\xd0\\xb8\\xd1\\x81\\xd1\\x82\\xd1\\x8b \\xd0\\xbe\\xd0\\xba\\xd0\\xb0\\xd0\\xb7\\xd0\\xb0\\xd0\\xbb\\xd0\\xb8\\xd1\\x81\\xd1\\x8c \\xd0\\xbf\\xd0\\xb0\\xd1\\x82\\xd1\\x80\\xd0\\xb8\\xd0\\xbe\\xd1\\x82\\xd0\\xb0\\xd0\\xbc\\xd0\\xb8</div></div><div class=\"b-tabloid__topic article\" data-partslug=\"text\"><a class=\"js-dh\" href=\"/articles/2017/05/29/pulsar/\"><img alt=\"\\xd0\\x92\\xd0\\xb8\\xd0\\xb4 \\xd0\\xbd\\xd0\\xb0 \\xd0\\x9b\\xd0\\xb8\\xd1\\x87, \\xd0\\x94\\xd1\\x80\\xd0\\xb0\\xd1\\x83\\xd1\\x80\\xd0\\xb3 \\xd0\\xb8 \\xd0\\x9f\\xd0\\xbe\\xd0\\xbb\\xd1\\x82\\xd0\\xb5\\xd1\\x80\\xd0\\xb3\\xd0\\xb5\\xd0\\xb9\\xd1\\x81\\xd1\\x82 \\xd1\\x81\\xd0\\xbe \\xd1\\x81\\xd1\\x82\\xd0\\xbe\\xd1\\x80\\xd0\\xbe\\xd0\\xbd\\xd1\\x8b \\xd0\\xa4\\xd0\\xbe\\xd0\\xb1\\xd0\\xb5\\xd1\\x82\\xd0\\xbe\\xd1\\x80\\xd0\\xb0 (\\xd0\\xb2 \\xd0\\xbf\\xd1\\x80\\xd0\\xb5\\xd0\\xb4\\xd1\\x81\\xd1\\x82\\xd0\\xb0\\xd0\\xb2\\xd0\\xbb\\xd0\\xb5\\xd0\\xbd\\xd0\\xb8\\xd0\\xb8 \\xd1\\x85\\xd1\\x83\\xd0\\xb4\\xd0\\xbe\\xd0\\xb6\\xd0\\xbd\\xd0\\xb8\\xd0\\xba\\xd0\\xb0)\" class=\"g-picture\" style=\"max-width: 96px; width: 96px; height: 64px;\" src=\"https://icdn.lenta.ru/images/2017/05/26/11/20170526112919767/tabloid_6eed7a48e53800f62bde2f425eee9731.jpg\" width=\"96\" height=\"64\" /></a><a class=\"b-tabloid__headline js-dh\" href=\"/articles/2017/05/29/pulsar/\">\\xd0\\x9d\\xd0\\xb0 \\xd0\\xbb\\xd0\\xb8\\xd0\\xbd\\xd0\\xb8\\xd0\\xb8 \\xd1\\x81\\xd0\\xbc\\xd0\\xb5\\xd1\\x80\\xd1\\x82\\xd0\\xb8</a><div class=\"rightcol\">\\xd0\\x9d\\xd0\\xb0 \\xd0\\x9f\\xd0\\xbe\\xd0\\xbb\\xd1\\x82\\xd0\\xb5\\xd1\\x80\\xd0\\xb3\\xd0\\xb5\\xd0\\xb9\\xd1\\x81\\xd1\\x82\\xd0\\xb5 \\xd0\\xb4\\xd0\\xbe\\xd0\\xbf\\xd1\\x83\\xd1\\x81\\xd1\\x82\\xd0\\xb8\\xd0\\xbb\\xd0\\xb8 \\xd1\\x81\\xd1\\x83\\xd1\\x89\\xd0\\xb5\\xd1\\x81\\xd1\\x82\\xd0\\xb2\\xd0\\xbe\\xd0\\xb2\\xd0\\xb0\\xd0\\xbd\\xd0\\xb8\\xd0\\xb5 \\xd0\\xb6\\xd0\\xb8\\xd0\\xb7\\xd0\\xbd\\xd0\\xb8</div></div></div><div class=\"b-tabloid__more\"><a href=\"/rubrics/science/\">\\xd0\\x92\\xd1\\x81\\xd0\\xb5 \\xd0\\xbc\\xd0\\xb0\\xd1\\x82\\xd0\\xb5\\xd1\\x80\\xd0\\xb8\\xd0\\xb0\\xd0\\xbb\\xd1\\x8b</a></div></div><div class=\"span4\"><div class=\"b-tabloid__item\"><div class=\"bordered-title\"><a href=\"/rubrics/sport/\">\\xd0\\xa1\\xd0\\xbf\\xd0\\xbe\\xd1\\x80\\xd1\\x82</a></div><div class=\"b-tabloid__topic article\"><a class=\"js-dh\" href=\"/articles/2017/06/01/coaches/\"><img alt=\"\\xd0\\x90\\xd1\\x80\\xd1\\x81\\xd0\\xb5\\xd0\\xbd \\xd0\\x92\\xd0\\xb5\\xd0\\xbd\\xd0\\xb3\\xd0\\xb5\\xd1\\x80\" class=\"g-picture\" style=\"max-width: 96px; width: 96px; height: 64px;\" src=\"https://icdn.lenta.ru/images/2017/06/01/09/20170601092844662/tabloid_10c2130fd5aea11564d8d9bd6cde22ef.jpg\" width=\"96\" height=\"64\" /></a><a class=\"b-tabloid__headline js-dh\" href=\"/articles/2017/06/01/coaches/\">\\xd0\\x9f\\xd0\\xbe\\xd0\\xb6\\xd0\\xb8\\xd0\\xb7\\xd0\\xbd\\xd0\\xb5\\xd0\\xbd\\xd0\\xbd\\xd1\\x8b\\xd0\\xb9 \\xd1\\x81\\xd1\\x80\\xd0\\xbe\\xd0\\xba</a><div class=\"rightcol\">\\xd0\\x92\\xd0\\xb5\\xd0\\xbd\\xd0\\xb3\\xd0\\xb5\\xd1\\x80, \\xd0\\xa4\\xd0\\xb5\\xd1\\x80\\xd0\\xb3\\xd1\\x8e\\xd1\\x81\\xd0\\xbe\\xd0\\xbd \\xd0\\xb8&nbsp;\\xd0\\xb4\\xd1\\x80\\xd1\\x83\\xd0\\xb3\\xd0\\xb8\\xd0\\xb5 \\xd1\\x82\\xd1\\x80\\xd0\\xb5\\xd0\\xbd\\xd0\\xb5\\xd1\\x80\\xd1\\x8b-\\xd0\\xb4\\xd0\\xbe\\xd0\\xbb\\xd0\\xb3\\xd0\\xbe\\xd0\\xb6\\xd0\\xb8\\xd1\\x82\\xd0\\xb5\\xd0\\xbb\\xd0\\xb8 \\xd0\\xbc\\xd0\\xb8\\xd1\\x80\\xd0\\xbe\\xd0\\xb2\\xd0\\xbe\\xd0\\xb3\\xd0\\xbe \\xd1\\x84\\xd1\\x83\\xd1\\x82\\xd0\\xb1\\xd0\\xbe\\xd0\\xbb\\xd0\\xb0</div></div><div class=\"b-tabloid__topic article\" data-partslug=\"text\"><a class=\"js-dh\" href=\"/articles/2017/05/30/povetkina/\"><img alt=\"\\xd0\\x90\\xd0\\xbb\\xd0\\xb5\\xd0\\xba\\xd1\\x81\\xd0\\xb0\\xd0\\xbd\\xd0\\xb4\\xd1\\x80 \\xd0\\x9f\\xd0\\xbe\\xd0\\xb2\\xd0\\xb5\\xd1\\x82\\xd0\\xba\\xd0\\xb8\\xd0\\xbd\" class=\"g-picture\" style=\"max-width: 96px; width: 96px; height: 64px;\" src=\"https://icdn.lenta.ru/images/2017/05/30/10/20170530102911241/tabloid_2fdce8b751e3d3f4efa731a68a15bbbd.jpg\" width=\"96\" height=\"64\" /></a><a class=\"b-tabloid__headline js-dh\" href=\"/articles/2017/05/30/povetkina/\">\\xc2\\xab\\xd0\\x9a\\xd0\\xbb\\xd0\\xb8\\xd1\\x87\\xd0\\xba\\xd0\\xbe \\xd0\\xbd\\xd0\\xb5&nbsp;\\xd0\\xbd\\xd1\\x83\\xd0\\xb6\\xd0\\xb5\\xd0\\xbd \\xd1\\x80\\xd0\\xb5\\xd0\\xb2\\xd0\\xb0\\xd0\\xbd\\xd1\\x88. \\xd0\\x95\\xd0\\xbc\\xd1\\x83 \\xd1\\x83\\xd0\\xb6\\xd0\\xb5 \\xd0\\xbf\\xd0\\xbe\\xd1\\x80\\xd0\\xb0\\xc2\\xbb</a><div class=\"rightcol\">\\xd0\\xa0\\xd1\\x8f\\xd0\\xb1\\xd0\\xb8\\xd0\\xbd\\xd1\\x81\\xd0\\xba\\xd0\\xb8\\xd0\\xb9 \\xe2\\x80\\x94 \\xd0\\xbe&nbsp;\\xd0\\xb4\\xd0\\xbe\\xd0\\xbf\\xd0\\xb8\\xd0\\xbd\\xd0\\xb3\\xd0\\xb5, \\xd1\\x81\\xd0\\xbe\\xd0\\xbf\\xd0\\xb5\\xd1\\x80\\xd0\\xbd\\xd0\\xb8\\xd0\\xba\\xd0\\xb5 \\xd0\\x9f\\xd0\\xbe\\xd0\\xb2\\xd0\\xb5\\xd1\\x82\\xd0\\xba\\xd0\\xb8\\xd0\\xbd\\xd0\\xb0, \\xd0\\xb1\\xd0\\xbe\\xd0\\xb5 \\xd0\\x9a\\xd0\\xbb\\xd0\\xb8\\xd1\\x87\\xd0\\xba\\xd0\\xbe, \\xd1\\x83\\xd0\\xb1\\xd1\\x8b\\xd1\\x82\\xd0\\xbe\\xd1\\x87\\xd0\\xbd\\xd0\\xbe\\xd1\\x81\\xd1\\x82\\xd0\\xb8 \\xd1\\x81\\xd0\\xb2\\xd0\\xbe\\xd0\\xb5\\xd0\\xb9 \\xd1\\x80\\xd0\\xb0\\xd0\\xb1\\xd0\\xbe\\xd1\\x82\\xd1\\x8b</div></div><div class=\"b-tabloid__topic article\" data-partslug=\"text\"><a class=\"js-dh\" href=\"/articles/2017/05/31/sportbankrupt/\"><img alt=\"\\xd0\\x9c\\xd0\\xb0\\xd0\\xb9\\xd0\\xba \\xd0\\xa2\\xd0\\xb0\\xd0\\xb9\\xd1\\x81\\xd0\\xbe\\xd0\\xbd\" class=\"g-picture\" style=\"max-width: 96px; width: 96px; height: 64px;\" src=\"https://icdn.lenta.ru/images/2017/05/31/13/20170531133608825/tabloid_d8c10200e67243b8e6eb4bf50c63f25e.jpg\" width=\"96\" height=\"64\" /></a><a class=\"b-tabloid__headline js-dh\" href=\"/articles/2017/05/31/sportbankrupt/\">\\xd0\\x9f\\xd0\\xbe\\xd1\\x82\\xd1\\x80\\xd0\\xb0\\xd1\\x87\\xd0\\xb5\\xd0\\xbd\\xd0\\xbe</a><div class=\"rightcol\">\\xd0\\x9a\\xd0\\xb0\\xd0\\xba \\xd1\\x81\\xd0\\xbf\\xd0\\xbe\\xd1\\x80\\xd1\\x82\\xd1\\x81\\xd0\\xbc\\xd0\\xb5\\xd0\\xbd\\xd1\\x8b-\\xd0\\xbc\\xd0\\xb8\\xd0\\xbb\\xd0\\xbb\\xd0\\xb8\\xd0\\xbe\\xd0\\xbd\\xd0\\xb5\\xd1\\x80\\xd1\\x8b \\xd1\\x81\\xd1\\x82\\xd0\\xb0\\xd0\\xbd\\xd0\\xbe\\xd0\\xb2\\xd1\\x8f\\xd1\\x82\\xd1\\x81\\xd1\\x8f \\xd0\\xb1\\xd0\\xb0\\xd0\\xbd\\xd0\\xba\\xd1\\x80\\xd0\\xbe\\xd1\\x82\\xd0\\xb0\\xd0\\xbc\\xd0\\xb8</div></div><div class=\"b-tabloid__topic news b-tabloid__topic_news\"><a href=\"/news/2017/06/01/balestatue/\">\\xd0\\x93\\xd0\\xb0\\xd1\\x80\\xd0\\xb5\\xd1\\x82 \\xd0\\x91\\xd1\\x8d\\xd0\\xb9\\xd0\\xbb \\xd1\\x81\\xd1\\x82\\xd0\\xb0\\xd0\\xbb \\xd0\\xbd\\xd0\\xbe\\xd0\\xb2\\xd0\\xbe\\xd0\\xb9 \\xc2\\xab\\xd0\\xb6\\xd0\\xb5\\xd1\\x80\\xd1\\x82\\xd0\\xb2\\xd0\\xbe\\xd0\\xb9\\xc2\\xbb \\xd1\\x81\\xd0\\xbe\\xd0\\xb7\\xd0\\xb4\\xd0\\xb0\\xd1\\x82\\xd0\\xb5\\xd0\\xbb\\xd1\\x8f \\xd0\\xb1\\xd0\\xb5\\xd0\\xb7\\xd0\\xbe\\xd0\\xb1\\xd1\\x80\\xd0\\xb0\\xd0\\xb7\\xd0\\xbd\\xd0\\xbe\\xd0\\xb3\\xd0\\xbe \\xd0\\xb1\\xd1\\x8e\\xd1\\x81\\xd1\\x82\\xd0\\xb0 \\xd0\\xa0\\xd0\\xbe\\xd0\\xbd\\xd0\\xb0\\xd0\\xbb\\xd0\\xb4\\xd1\\x83</a></div><div class=\"b-tabloid__topic news b-tabloid__topic_news\" data-partslug=\"video\"><a href=\"/news/2017/06/01/malkinfight/\">\\xd0\\x9c\\xd0\\xb0\\xd0\\xbb\\xd0\\xba\\xd0\\xb8\\xd0\\xbd \\xd0\\xbf\\xd0\\xbe\\xd0\\xb4\\xd1\\x80\\xd0\\xb0\\xd0\\xbb\\xd1\\x81\\xd1\\x8f \\xd1\\x81&nbsp;\\xd1\\x87\\xd0\\xb5\\xd1\\x80\\xd0\\xbd\\xd0\\xbe\\xd0\\xba\\xd0\\xbe\\xd0\\xb6\\xd0\\xb8\\xd0\\xbc \\xd1\\x81\\xd0\\xbe\\xd0\\xbf\\xd0\\xb5\\xd1\\x80\\xd0\\xbd\\xd0\\xb8\\xd0\\xba\\xd0\\xbe\\xd0\\xbc \\xd0\\xb2&nbsp;\\xd1\\x84\\xd0\\xb8\\xd0\\xbd\\xd0\\xb0\\xd0\\xbb\\xd0\\xb5 \\xd0\\x9a\\xd1\\x83\\xd0\\xb1\\xd0\\xba\\xd0\\xb0 \\xd0\\xa1\\xd1\\x82\\xd1\\x8d\\xd0\\xbd\\xd0\\xbb\\xd0\\xb8</a></div><div class=\"b-tabloid__topic news b-tabloid__topic_news\"><a href=\"/news/2017/06/01/belarusov/\">\\xd0\\x9c\\xd0\\xbe\\xd0\\xbb\\xd0\\xbe\\xd0\\xb4\\xd0\\xb5\\xd0\\xb6\\xd0\\xbd\\xd0\\xb0\\xd1\\x8f \\xd1\\x81\\xd0\\xb1\\xd0\\xbe\\xd1\\x80\\xd0\\xbd\\xd0\\xb0\\xd1\\x8f \\xd0\\xa0\\xd0\\xbe\\xd1\\x81\\xd1\\x81\\xd0\\xb8\\xd0\\xb8 \\xd0\\xbf\\xd0\\xbe&nbsp;\\xd1\\x84\\xd1\\x83\\xd1\\x82\\xd0\\xb1\\xd0\\xbe\\xd0\\xbb\\xd1\\x83 \\xd0\\xb7\\xd0\\xb0\\xd0\\xb1\\xd0\\xb8\\xd0\\xbb\\xd0\\xb0 \\xd1\\x81\\xd0\\xb5\\xd0\\xbc\\xd1\\x8c \\xd0\\xbc\\xd1\\x8f\\xd1\\x87\\xd0\\xb5\\xd0\\xb9 \\xd0\\xb2&nbsp;\\xd0\\xb2\\xd0\\xbe\\xd1\\x80\\xd0\\xbe\\xd1\\x82\\xd0\\xb0 \\xd0\\xb1\\xd0\\xb5\\xd0\\xbb\\xd0\\xbe\\xd1\\x80\\xd1\\x83\\xd1\\x81\\xd0\\xbe\\xd0\\xb2</a></div><div class=\"b-tabloid__topic news b-tabloid__topic_news\" data-partslug=\"video\"><a href=\"/news/2017/06/01/lazovic/\">\\xd0\\xa1\\xd0\\xb5\\xd1\\x80\\xd0\\xb1\\xd1\\x81\\xd0\\xba\\xd0\\xb8\\xd0\\xb9 \\xd1\\x84\\xd1\\x83\\xd1\\x82\\xd0\\xb1\\xd0\\xbe\\xd0\\xbb\\xd0\\xb8\\xd1\\x81\\xd1\\x82 \\xd0\\xb8\\xd0\\xb7\\xd0\\xbe\\xd0\\xb1\\xd1\\x80\\xd0\\xb0\\xd0\\xb7\\xd0\\xb8\\xd0\\xbb \\xd0\\xbd\\xd0\\xb5\\xd1\\x87\\xd0\\xb5\\xd0\\xbb\\xd0\\xbe\\xd0\\xb2\\xd0\\xb5\\xd1\\x87\\xd0\\xb5\\xd1\\x81\\xd0\\xba\\xd0\\xb8\\xd0\\xb5 \\xd1\\x81\\xd1\\x82\\xd1\\x80\\xd0\\xb0\\xd0\\xb4\\xd0\\xb0\\xd0\\xbd\\xd0\\xb8\\xd1\\x8f \\xd0\\xbf\\xd0\\xbe\\xd1\\x81\\xd0\\xbb\\xd0\\xb5 \\xd0\\xbf\\xd0\\xbe\\xd0\\xb4\\xd0\\xba\\xd0\\xb0\\xd1\\x82\\xd0\\xb0 \\xd1\\x81\\xd0\\xbe\\xd0\\xbf\\xd0\\xb5\\xd1\\x80\\xd0\\xbd\\xd0\\xb8\\xd0\\xba\\xd0\\xb0</a></div></div><div class=\"b-tabloid__more\"><a href=\"/rubrics/sport/\">\\xd0\\x92\\xd1\\x81\\xd0\\xb5 \\xd0\\xbc\\xd0\\xb0\\xd1\\x82\\xd0\\xb5\\xd1\\x80\\xd0\\xb8\\xd0\\xb0\\xd0\\xbb\\xd1\\x8b</a></div></div><div class=\"span4\"><div class=\"b-tabloid__item\"><div class=\"bordered-title\"><a href=\"/rubrics/culture/\">\\xd0\\x9a\\xd1\\x83\\xd0\\xbb\\xd1\\x8c\\xd1\\x82\\xd1\\x83\\xd1\\x80\\xd0\\xb0</a></div><div class=\"b-tabloid__topic article\" data-partslug=\"photo\"><a class=\"js-dh\" href=\"/photo/2017/05/31/summerfilms/\"><img alt=\"\" class=\"g-picture\" style=\"max-width: 96px; width: 96px; height: 64px;\" src=\"https://icdn.lenta.ru/images/2017/05/30/18/20170530182620534/tabloid_2fde28b7c963eea0833a939742919e78.jpg\" width=\"96\" height=\"64\" /></a><a class=\"b-tabloid__headline js-dh\" href=\"/photo/2017/05/31/summerfilms/\">\\xd0\\xa7\\xd1\\x82\\xd0\\xbe \\xd1\\x81\\xd0\\xbc\\xd0\\xbe\\xd1\\x82\\xd1\\x80\\xd0\\xb5\\xd1\\x82\\xd1\\x8c \\xd0\\xbb\\xd0\\xb5\\xd1\\x82\\xd0\\xbe\\xd0\\xbc</a><div class=\"rightcol\">20&nbsp;\\xd1\\x81\\xd0\\xb0\\xd0\\xbc\\xd1\\x8b\\xd1\\x85 \\xd0\\xb8\\xd0\\xbd\\xd1\\x82\\xd0\\xb5\\xd1\\x80\\xd0\\xb5\\xd1\\x81\\xd0\\xbd\\xd1\\x8b\\xd1\\x85 \\xd0\\xba\\xd0\\xb8\\xd0\\xbd\\xd0\\xbe\\xd0\\xbf\\xd1\\x80\\xd0\\xb5\\xd0\\xbc\\xd1\\x8c\\xd0\\xb5\\xd1\\x80 \\xd1\\x81\\xd0\\xb5\\xd0\\xb7\\xd0\\xbe\\xd0\\xbd\\xd0\\xb0</div></div><div class=\"b-tabloid__topic article\" data-partslug=\"text\"><a class=\"js-dh\" href=\"/articles/2017/05/31/benois/\"><img alt=\"\\xd0\\x9c\\xd0\\xb0\\xd1\\x80\\xd0\\xb8\\xd1\\x8f \\xd0\\xa0\\xd0\\xb8\\xd1\\x87\\xd1\\x87\\xd0\\xb5\\xd1\\x82\\xd1\\x82\\xd0\\xbe\" class=\"g-picture\" style=\"max-width: 96px; width: 96px; height: 64px;\" src=\"https://icdn.lenta.ru/images/2017/05/31/19/20170531192707685/tabloid_a029143f5538abce5834a5b5fa2243f6.jpg\" width=\"96\" height=\"64\" /></a><a class=\"b-tabloid__headline js-dh\" href=\"/articles/2017/05/31/benois/\">\\xd0\\x9f\\xd1\\x80\\xd0\\xbe\\xd0\\xb2\\xd0\\xb8\\xd0\\xbd\\xd1\\x86\\xd0\\xb8\\xd0\\xb0\\xd0\\xbb\\xd1\\x8c\\xd0\\xbd\\xd0\\xb0\\xd1\\x8f \\xd0\\xbf\\xd0\\xbe\\xd1\\x81\\xd1\\x80\\xd0\\xb5\\xd0\\xb4\\xd1\\x81\\xd1\\x82\\xd0\\xb2\\xd0\\xb5\\xd0\\xbd\\xd0\\xbd\\xd0\\xbe\\xd1\\x81\\xd1\\x82\\xd1\\x8c</a><div class=\"rightcol\">\\xd0\\x96\\xd1\\x8e\\xd1\\x80\\xd0\\xb8 \\xd0\\xb1\\xd0\\xb0\\xd0\\xbb\\xd0\\xb5\\xd1\\x82\\xd0\\xbd\\xd0\\xbe\\xd0\\xb3\\xd0\\xbe \\xc2\\xab\\xd0\\x9e\\xd1\\x81\\xd0\\xba\\xd0\\xb0\\xd1\\x80\\xd0\\xb0\\xc2\\xbb \\xd1\\x81\\xd0\\xbd\\xd0\\xbe\\xd0\\xb2\\xd0\\xb0 \\xd1\\x80\\xd0\\xb0\\xd0\\xb7\\xd0\\xb4\\xd0\\xb0\\xd0\\xbb\\xd0\\xbe \\xd0\\xbd\\xd0\\xb0\\xd0\\xb3\\xd1\\x80\\xd0\\xb0\\xd0\\xb4\\xd1\\x8b \\xd1\\x81\\xd0\\xb2\\xd0\\xbe\\xd0\\xb8\\xd0\\xbc \\xd0\\xb4\\xd1\\x80\\xd1\\x83\\xd0\\xb7\\xd1\\x8c\\xd1\\x8f\\xd0\\xbc</div></div><div class=\"b-tabloid__topic article\" data-partslug=\"text\"><a class=\"js-dh\" href=\"/articles/2017/05/31/erasure/\"><img alt=\"\\xd0\\x92\\xd0\\xb8\\xd0\\xbd\\xd1\\x81 \\xd0\\x9a\\xd0\\xbb\\xd0\\xb0\\xd1\\x80\\xd0\\xba (\\xd1\\x81\\xd0\\xbf\\xd1\\x80\\xd0\\xb0\\xd0\\xb2\\xd0\\xb0)\" class=\"g-picture\" style=\"max-width: 96px; width: 96px; height: 64px;\" src=\"https://icdn.lenta.ru/images/2017/05/30/16/20170530160132489/tabloid_4a55ae00fbc7dfc1ac3ab42c91d86df8.jpg\" width=\"96\" height=\"64\" /></a><a class=\"b-tabloid__headline js-dh\" href=\"/articles/2017/05/31/erasure/\">\\xc2\\xab\\xd0\\x9c\\xd0\\xb8\\xd1\\x80 \\xd1\\x81\\xd0\\xbe\\xd0\\xb2\\xd1\\x81\\xd0\\xb5\\xd0\\xbc \\xd1\\x81\\xd0\\xbe\\xd1\\x88\\xd0\\xb5\\xd0\\xbb \\xd1\\x81&nbsp;\\xd1\\x83\\xd0\\xbc\\xd0\\xb0\\xc2\\xbb</a><div class=\"rightcol\">\\xd0\\x92\\xd0\\xb8\\xd0\\xbd\\xd1\\x81 \\xd0\\x9a\\xd0\\xbb\\xd0\\xb0\\xd1\\x80\\xd0\\xba \\xd0\\xb8\\xd0\\xb7&nbsp;Erasure \\xd0\\xbe&nbsp;\\xd1\\x80\\xd0\\xb5\\xd0\\xb9\\xd0\\xb2\\xd0\\xb0\\xd1\\x85, \\xc2\\xab\\xd0\\x95\\xd0\\xb2\\xd1\\x80\\xd0\\xbe\\xd0\\xb2\\xd0\\xb8\\xd0\\xb4\\xd0\\xb5\\xd0\\xbd\\xd0\\xb8\\xd0\\xb8\\xc2\\xbb \\xd0\\xb8&nbsp;Brexit</div></div><div class=\"b-tabloid__topic news b-tabloid__topic_news\"><a href=\"/news/2017/06/01/wonderwoman/\">\\xd0\\x92 \\xd0\\x9b\\xd0\\xb8\\xd0\\xb2\\xd0\\xb0\\xd0\\xbd\\xd0\\xb5 \\xd0\\xb7\\xd0\\xb0\\xd0\\xbf\\xd1\\x80\\xd0\\xb5\\xd1\\x82\\xd0\\xb8\\xd0\\xbb\\xd0\\xb8 \\xd0\\xbf\\xd1\\x80\\xd0\\xbe\\xd0\\xba\\xd0\\xb0\\xd1\\x82 \\xc2\\xab\\xd0\\xa7\\xd1\\x83\\xd0\\xb4\\xd0\\xbe-\\xd0\\xb6\\xd0\\xb5\\xd0\\xbd\\xd1\\x89\\xd0\\xb8\\xd0\\xbd\\xd1\\x8b\\xc2\\xbb</a></div><div class=\"b-tabloid__topic news b-tabloid__topic_news\"><a href=\"/news/2017/06/01/nossik/\">\\xd0\\xa3 \\xd0\\xbd\\xd0\\xb0\\xd1\\x80\\xd0\\xbe\\xd0\\xb4\\xd0\\xbd\\xd0\\xbe\\xd0\\xb3\\xd0\\xbe \\xd0\\xb0\\xd1\\x80\\xd1\\x82\\xd0\\xb8\\xd1\\x81\\xd1\\x82\\xd0\\xb0 \\xd0\\xa0\\xd0\\xbe\\xd1\\x81\\xd1\\x81\\xd0\\xb8\\xd0\\xb8 \\xd0\\x92\\xd0\\xbb\\xd0\\xb0\\xd0\\xb4\\xd0\\xb8\\xd0\\xbc\\xd0\\xb8\\xd1\\x80\\xd0\\xb0 \\xd0\\x9d\\xd0\\xbe\\xd1\\x81\\xd0\\xb8\\xd0\\xba\\xd0\\xb0 \\xd1\\x83\\xd0\\xba\\xd1\\x80\\xd0\\xb0\\xd0\\xbb\\xd0\\xb8 720&nbsp;\\xd1\\x82\\xd1\\x8b\\xd1\\x81\\xd1\\x8f\\xd1\\x87 \\xd1\\x80\\xd1\\x83\\xd0\\xb1\\xd0\\xbb\\xd0\\xb5\\xd0\\xb9</a></div><div class=\"b-tabloid__topic news b-tabloid__topic_news\"><a href=\"/news/2017/06/01/kinchev/\">\\xd0\\x9b\\xd0\\xb8\\xd0\\xb4\\xd0\\xb5\\xd1\\x80\\xd0\\xb0 \\xd1\\x80\\xd0\\xbe\\xd0\\xba-\\xd0\\xb3\\xd1\\x80\\xd1\\x83\\xd0\\xbf\\xd0\\xbf\\xd1\\x8b \\xc2\\xab\\xd0\\x90\\xd0\\xbb\\xd0\\xb8\\xd1\\x81\\xd0\\xb0\\xc2\\xbb \\xd0\\xb2\\xd0\\xbd\\xd0\\xb5\\xd1\\x81\\xd0\\xbb\\xd0\\xb8 \\xd0\\xb2&nbsp;\\xd0\\xb1\\xd0\\xb0\\xd0\\xb7\\xd1\\x83 \\xd0\\xb4\\xd0\\xb0\\xd0\\xbd\\xd0\\xbd\\xd1\\x8b\\xd1\\x85 \\xc2\\xab\\xd0\\x9c\\xd0\\xb8\\xd1\\x80\\xd0\\xbe\\xd1\\x82\\xd0\\xb2\\xd0\\xbe\\xd1\\x80\\xd1\\x86\\xd0\\xb0\\xc2\\xbb</a></div><div class=\"b-tabloid__topic news b-tabloid__topic_news\"><a href=\"/news/2017/05/31/prime/\">\\xd0\\x92 \\xc2\\xab\\xd0\\xaf\\xd0\\xbd\\xd0\\xb4\\xd0\\xb5\\xd0\\xba\\xd1\\x81.\\xd0\\x9d\\xd0\\xb0\\xd0\\xb2\\xd0\\xb8\\xd0\\xb3\\xd0\\xb0\\xd1\\x82\\xd0\\xbe\\xd1\\x80\\xc2\\xbb \\xd0\\xb4\\xd0\\xbe\\xd0\\xb1\\xd0\\xb0\\xd0\\xb2\\xd0\\xb8\\xd0\\xbb\\xd0\\xb8 \\xd0\\xb3\\xd0\\xbe\\xd0\\xbb\\xd0\\xbe\\xd1\\x81 \\xd0\\x9e\\xd0\\xbf\\xd1\\x82\\xd0\\xb8\\xd0\\xbc\\xd1\\x83\\xd1\\x81\\xd0\\xb0 \\xd0\\x9f\\xd1\\x80\\xd0\\xb0\\xd0\\xb9\\xd0\\xbc\\xd0\\xb0</a></div></div><div class=\"b-tabloid__more\"><a href=\"/rubrics/culture/\">\\xd0\\x92\\xd1\\x81\\xd0\\xb5 \\xd0\\xbc\\xd0\\xb0\\xd1\\x82\\xd0\\xb5\\xd1\\x80\\xd0\\xb8\\xd0\\xb0\\xd0\\xbb\\xd1\\x8b</a></div></div></div><div id=\"context_2\"></div><div class=\"b-tabloid__row row\"><div class=\"span4\"><div class=\"b-tabloid__item\"><div class=\"bordered-title\"><a href=\"/rubrics/media/\">\\xd0\\x98\\xd0\\xbd\\xd1\\x82\\xd0\\xb5\\xd1\\x80\\xd0\\xbd\\xd0\\xb5\\xd1\\x82 \\xd0\\xb8 \\xd0\\xa1\\xd0\\x9c\\xd0\\x98</a></div><div class=\"b-tabloid__topic article\" data-partslug=\"photo\"><a class=\"js-dh\" href=\"/photo/2017/06/01/blogerduma/\"><img alt=\"\" class=\"g-picture\" style=\"max-width: 96px; width: 96px; height: 64px;\" src=\"https://icdn.lenta.ru/images/2017/05/31/19/20170531190636125/tabloid_42eda21afc94ddd14e6fc4abc6e0b633.jpg\" width=\"96\" height=\"64\" /></a><a class=\"b-tabloid__headline js-dh\" href=\"/photo/2017/06/01/blogerduma/\">\\xc2\\xab\\xd0\\xaf \\xd0\\xbd\\xd0\\xb8&nbsp;\\xd1\\x85\\xd1\\x80\\xd0\\xb5\\xd0\\xbd\\xd0\\xb0 \\xd0\\xbd\\xd0\\xb5&nbsp;\\xd0\\xb4\\xd0\\xb5\\xd0\\xbb\\xd0\\xb0\\xd1\\x8e \\xd0\\xb8&nbsp;\\xd0\\xbf\\xd0\\xbe\\xd0\\xbb\\xd1\\x83\\xd1\\x87\\xd0\\xb0\\xd1\\x8e \\xd0\\xb1\\xd0\\xb0\\xd0\\xb1\\xd0\\xba\\xd0\\xb8\\xc2\\xbb</a><div class=\"rightcol\">\\xd0\\x9a\\xd1\\x82\\xd0\\xbe \\xd0\\xb8\\xd0\\xb7&nbsp;\\xd0\\xb7\\xd0\\xb2\\xd0\\xb5\\xd0\\xb7\\xd0\\xb4 \\xd1\\x80\\xd0\\xbe\\xd1\\x81\\xd1\\x81\\xd0\\xb8\\xd0\\xb9\\xd1\\x81\\xd0\\xba\\xd0\\xbe\\xd0\\xb3\\xd0\\xbe YouTube \\xd0\\xbc\\xd0\\xbe\\xd0\\xb6\\xd0\\xb5\\xd1\\x82 \\xd0\\xbf\\xd0\\xbe\\xd0\\xbf\\xd0\\xb0\\xd1\\x81\\xd1\\x82\\xd1\\x8c \\xd0\\xb2&nbsp;\\xd0\\x93\\xd0\\xbe\\xd1\\x81\\xd0\\xb4\\xd1\\x83\\xd0\\xbc\\xd1\\x83</div></div><div class=\"b-tabloid__topic news b-tabloid__topic_news\" data-partslug=\"video\"><a href=\"/news/2017/06/01/paperfall/\">\\xd0\\xa8\\xd0\\xba\\xd0\\xbe\\xd0\\xbb\\xd1\\x8c\\xd0\\xbd\\xd0\\xb8\\xd0\\xba\\xd0\\xb8 \\xd1\\x83\\xd1\\x81\\xd1\\x82\\xd1\\x80\\xd0\\xbe\\xd0\\xb8\\xd0\\xbb\\xd0\\xb8 \\xd0\\xb2\\xd0\\xbe\\xd0\\xb4\\xd0\\xbe\\xd0\\xbf\\xd0\\xb0\\xd0\\xb4 \\xd0\\xb8\\xd0\\xb7&nbsp;\\xd1\\x82\\xd0\\xb5\\xd1\\x82\\xd1\\x80\\xd0\\xb0\\xd0\\xb4\\xd0\\xb5\\xd0\\xb9 \\xd0\\xb8&nbsp;\\xd0\\xbf\\xd1\\x80\\xd0\\xbe\\xd0\\xba\\xd0\\xb0\\xd1\\x82\\xd0\\xb8\\xd0\\xbb\\xd0\\xb8\\xd1\\x81\\xd1\\x8c \\xd0\\xbd\\xd0\\xb0&nbsp;\\xd0\\xbd\\xd0\\xb5\\xd0\\xbc</a></div><div class=\"b-tabloid__topic article\"><a class=\"js-dh\" href=\"/articles/2017/05/31/fakepr/\"><img alt=\"\" class=\"g-picture\" style=\"max-width: 96px; width: 96px; height: 64px;\" src=\"https://icdn.lenta.ru/images/2017/05/30/19/20170530193119640/tabloid_8b02cc38e885ce3d7375d3963f1577a8.jpg\" width=\"96\" height=\"64\" /></a><a class=\"b-tabloid__headline js-dh\" href=\"/articles/2017/05/31/fakepr/\">\\xd0\\x98\\xd1\\x81\\xd0\\xba\\xd1\\x83\\xd1\\x81\\xd1\\x81\\xd1\\x82\\xd0\\xb2\\xd0\\xbe \\xd0\\xbf\\xd0\\xbe\\xd0\\xb4\\xd1\\x81\\xd1\\x82\\xd0\\xb0\\xd0\\xb2\\xd1\\x8b</a><div class=\"rightcol\">\\xd0\\x9a\\xd1\\x82\\xd0\\xbe \\xd1\\x81\\xd1\\x82\\xd0\\xbe\\xd0\\xb8\\xd1\\x82 \\xd0\\xb7\\xd0\\xb0&nbsp;\\xd0\\xbf\\xd0\\xbe\\xd1\\x85\\xd0\\xb8\\xd1\\x89\\xd0\\xb5\\xd0\\xbd\\xd0\\xb8\\xd1\\x8f\\xd0\\xbc\\xd0\\xb8 \\xd0\\xbb\\xd1\\x8e\\xd0\\xb4\\xd0\\xb5\\xd0\\xb9 \\xd0\\xb8&nbsp;\\xd1\\x83\\xd0\\xb3\\xd0\\xbe\\xd0\\xbd\\xd0\\xb0\\xd0\\xbc\\xd0\\xb8 \\xd0\\xb0\\xd0\\xb2\\xd1\\x82\\xd0\\xbe\\xd0\\xbc\\xd0\\xbe\\xd0\\xb1\\xd0\\xb8\\xd0\\xbb\\xd0\\xb5\\xd0\\xb9 \\xd1\\x80\\xd0\\xb0\\xd0\\xb4\\xd0\\xb8 \\xd1\\x80\\xd0\\xb5\\xd0\\xba\\xd0\\xbb\\xd0\\xb0\\xd0\\xbc\\xd1\\x8b</div></div><div class=\"b-tabloid__topic news b-tabloid__topic_news\"><a href=\"/news/2017/05/31/griffin/\">CNN \\xd1\\x83\\xd0\\xb2\\xd0\\xbe\\xd0\\xbb\\xd0\\xb8\\xd0\\xbb \\xd0\\xb2\\xd0\\xb5\\xd0\\xb4\\xd1\\x83\\xd1\\x89\\xd1\\x83\\xd1\\x8e \\xd0\\xb7\\xd0\\xb0&nbsp;\\xd0\\xb4\\xd0\\xb5\\xd0\\xbc\\xd0\\xbe\\xd0\\xbd\\xd1\\x81\\xd1\\x82\\xd1\\x80\\xd0\\xb0\\xd1\\x86\\xd0\\xb8\\xd1\\x8e \\xd0\\xb8\\xd0\\xb7\\xd0\\xbe\\xd0\\xb1\\xd1\\x80\\xd0\\xb0\\xd0\\xb6\\xd0\\xb5\\xd0\\xbd\\xd0\\xb8\\xd1\\x8f \\xc2\\xab\\xd0\\xbe\\xd0\\xba\\xd1\\x80\\xd0\\xbe\\xd0\\xb2\\xd0\\xb0\\xd0\\xb2\\xd0\\xbb\\xd0\\xb5\\xd0\\xbd\\xd0\\xbd\\xd0\\xbe\\xd0\\xb9 \\xd0\\xb3\\xd0\\xbe\\xd0\\xbb\\xd0\\xbe\\xd0\\xb2\\xd1\\x8b \\xd0\\xa2\\xd1\\x80\\xd0\\xb0\\xd0\\xbc\\xd0\\xbf\\xd0\\xb0\\xc2\\xbb</a></div><div class=\"b-tabloid__topic news b-tabloid__topic_news\" data-partslug=\"video\"><a href=\"/news/2017/06/01/floor_is_lava/\">\\xd0\\x91\\xd0\\xbb\\xd0\\xbe\\xd0\\xb3\\xd0\\xb5\\xd1\\x80\\xd1\\x8b \\xd0\\xbd\\xd0\\xb0\\xd0\\xbf\\xd0\\xbe\\xd0\\xbc\\xd0\\xbd\\xd0\\xb8\\xd0\\xbb\\xd0\\xb8 \\xd0\\xb2\\xd0\\xb7\\xd1\\x80\\xd0\\xbe\\xd1\\x81\\xd0\\xbb\\xd1\\x8b\\xd0\\xbc \\xd0\\xbe&nbsp;\\xd1\\x81\\xd1\\x83\\xd1\\x89\\xd0\\xb5\\xd1\\x81\\xd1\\x82\\xd0\\xb2\\xd0\\xbe\\xd0\\xb2\\xd0\\xb0\\xd0\\xbd\\xd0\\xb8\\xd0\\xb8 \\xc2\\xab\\xd0\\xbf\\xd0\\xbe\\xd0\\xbb\\xd0\\xb0 \\xd0\\xb8\\xd0\\xb7&nbsp;\\xd0\\xbb\\xd0\\xb0\\xd0\\xb2\\xd1\\x8b\\xc2\\xbb</a></div><div class=\"b-tabloid__topic news b-tabloid__topic_news\"><a href=\"/news/2017/05/31/sport_feminism/\">\\xd0\\x92 \\xd1\\x81\\xd0\\xb5\\xd1\\x82\\xd0\\xb8 \\xd0\\xbd\\xd0\\xb0\\xd0\\xb1\\xd1\\x80\\xd0\\xbe\\xd1\\x81\\xd0\\xb8\\xd0\\xbb\\xd0\\xb8\\xd1\\x81\\xd1\\x8c \\xd0\\xbd\\xd0\\xb0&nbsp;\\xd0\\x9e\\xd0\\xbb\\xd0\\xb8\\xd0\\xbc\\xd0\\xbf\\xd0\\xb8\\xd0\\xb9\\xd1\\x81\\xd0\\xba\\xd0\\xb8\\xd0\\xb9 \\xd0\\xba\\xd0\\xbe\\xd0\\xbc\\xd0\\xb8\\xd1\\x82\\xd0\\xb5\\xd1\\x82 \\xd0\\xb7\\xd0\\xb0&nbsp;\\xd1\\x82\\xd0\\xb2\\xd0\\xb8\\xd1\\x82 \\xd0\\xbe \\xc2\\xab\\xd1\\x84\\xd0\\xb5\\xd0\\xbc\\xd0\\xb8\\xd0\\xbd\\xd0\\xb8\\xd1\\x81\\xd1\\x82\\xd0\\xba\\xd0\\xb5, \\xd0\\xb7\\xd0\\xb0\\xd1\\x82\\xd0\\xbe \\xd0\\xba\\xd1\\x80\\xd0\\xb0\\xd1\\x81\\xd0\\xb8\\xd0\\xb2\\xd0\\xbe\\xd0\\xb9\\xc2\\xbb</a></div><div class=\"b-tabloid__topic news b-tabloid__topic_news\"><a href=\"/news/2017/05/31/callhacker/\">\\xd0\\x9f\\xd0\\xbe\\xd0\\xbb\\xd0\\xb8\\xd1\\x86\\xd0\\xb5\\xd0\\xb9\\xd1\\x81\\xd0\\xba\\xd0\\xb8\\xd0\\xb9 \\xd0\\xb7\\xd0\\xb0\\xd1\\x82\\xd1\\x80\\xd0\\xbe\\xd0\\xbb\\xd0\\xbb\\xd0\\xb8\\xd0\\xbb \\xd1\\x85\\xd0\\xb0\\xd0\\xba\\xd0\\xb5\\xd1\\x80\\xd0\\xb0 \\xd0\\xb2\\xd0\\xbe&nbsp;\\xd0\\xb2\\xd1\\x80\\xd0\\xb5\\xd0\\xbc\\xd1\\x8f \\xc2\\xab\\xd0\\xb2\\xd0\\xb7\\xd0\\xbb\\xd0\\xbe\\xd0\\xbc\\xd0\\xb0\\xc2\\xbb \\xd0\\xbf\\xd0\\xbe&nbsp;\\xd1\\x82\\xd0\\xb5\\xd0\\xbb\\xd0\\xb5\\xd1\\x84\\xd0\\xbe\\xd0\\xbd\\xd1\\x83</a></div></div><div class=\"b-tabloid__more\"><a href=\"/rubrics/media/\">\\xd0\\x92\\xd1\\x81\\xd0\\xb5 \\xd0\\xbc\\xd0\\xb0\\xd1\\x82\\xd0\\xb5\\xd1\\x80\\xd0\\xb8\\xd0\\xb0\\xd0\\xbb\\xd1\\x8b</a></div></div><div class=\"span4\"><div class=\"b-tabloid__item\"><div class=\"bordered-title\"><a href=\"/rubrics/style/\">\\xd0\\xa6\\xd0\\xb5\\xd0\\xbd\\xd0\\xbd\\xd0\\xbe\\xd1\\x81\\xd1\\x82\\xd0\\xb8</a></div><div class=\"b-tabloid__topic article\" data-partslug=\"photo\"><a class=\"js-dh\" href=\"/photo/2017/06/01/resortfashion/\"><img alt=\"\" class=\"g-picture\" style=\"max-width: 96px; width: 96px; height: 64px;\" src=\"https://icdn.lenta.ru/images/2017/05/31/15/20170531150403786/tabloid_87032aa5df8d73888f89560be4752303.jpg\" width=\"96\" height=\"64\" /></a><a class=\"b-tabloid__headline js-dh\" href=\"/photo/2017/06/01/resortfashion/\">\\xd0\\x9d\\xd0\\xb5\\xd0\\xbe\\xd0\\xb1\\xd1\\x85\\xd0\\xbe\\xd0\\xb4\\xd0\\xb8\\xd0\\xbc\\xd1\\x8b\\xd0\\xb9 \\xd0\\xbc\\xd0\\xb8\\xd0\\xbd\\xd0\\xb8\\xd0\\xbc\\xd1\\x83\\xd0\\xbc</a><div class=\"rightcol\">\\xd0\\x9b\\xd1\\x83\\xd1\\x87\\xd1\\x88\\xd0\\xb0\\xd1\\x8f \\xd0\\xbe\\xd0\\xb4\\xd0\\xb5\\xd0\\xb6\\xd0\\xb4\\xd0\\xb0 \\xd0\\xb4\\xd0\\xbb\\xd1\\x8f \\xd0\\xba\\xd1\\x80\\xd1\\x83\\xd0\\xb8\\xd0\\xb7\\xd0\\xb0 \\xd0\\xb8\\xd0\\xb7&nbsp;\\xd0\\x9a\\xd1\\x80\\xd1\\x8b\\xd0\\xbc\\xd0\\xb0 \\xd0\\xb2&nbsp;\\xd0\\x9d\\xd0\\xb8\\xd1\\x86\\xd1\\x86\\xd1\\x83</div></div><div class=\"b-tabloid__topic article\" data-partslug=\"video\"><a class=\"js-dh\" href=\"/video/2017/05/30/iqospeople/\"><img alt=\"\" class=\"g-picture\" style=\"max-width: 96px; width: 96px; height: 64px;\" src=\"https://icdn.lenta.ru/images/2017/05/29/00/20170529002520361/tabloid_27a6ae1d31e98a15ee2e9cce9c6ecdf0.jpg\" width=\"96\" height=\"64\" /></a><a class=\"b-tabloid__headline js-dh\" href=\"/video/2017/05/30/iqospeople/\">\\xd0\\x91\\xd1\\x8b\\xd0\\xbb\\xd0\\xbe \\xd0\\xbf\\xd1\\x80\\xd0\\xbe\\xd1\\x81\\xd1\\x82\\xd0\\xbe \\xd1\\x85\\xd0\\xbe\\xd1\\x80\\xd0\\xbe\\xd1\\x88\\xd0\\xbe, \\xd1\\x81\\xd1\\x82\\xd0\\xb0\\xd0\\xbb\\xd0\\xbe \\xc2\\xab\\xd0\\xbe\\xd1\\x88\\xd0\\xbd\\xd1\\x83\\xd1\\x80\\xd0\\xb8\\xd1\\x82\\xd0\\xb5\\xd0\\xbb\\xd1\\x8c\\xd0\\xbd\\xd0\\xbe\\xc2\\xbb</a><div class=\"rightcol\">\\xd0\\xa1\\xd0\\xb5\\xd1\\x80\\xd0\\xb3\\xd0\\xb5\\xd0\\xb9 \\xd0\\xa8\\xd0\\xbd\\xd1\\x83\\xd1\\x80\\xd0\\xbe\\xd0\\xb2 \\xd0\\xbf\\xd0\\xbe\\xd0\\xbc\\xd0\\xb5\\xd0\\xbd\\xd1\\x8f\\xd0\\xbb \\xd0\\xbf\\xd1\\x80\\xd0\\xb8\\xd0\\xb2\\xd1\\x8b\\xd1\\x87\\xd0\\xba\\xd0\\xb8</div></div><div class=\"b-tabloid__topic news b-tabloid__topic_news\"><a href=\"/news/2017/06/01/makeup/\">GlamGlow \\xd0\\xbf\\xd0\\xbe\\xd0\\xba\\xd0\\xb0\\xd0\\xb7\\xd0\\xb0\\xd0\\xbb\\xd0\\xb0 \\xd0\\xb3\\xd0\\xb8\\xd0\\xb1\\xd1\\x80\\xd0\\xb8\\xd0\\xb4\\xd0\\xbd\\xd1\\x8b\\xd0\\xb5 \\xd1\\x81\\xd1\\x80\\xd0\\xb5\\xd0\\xb4\\xd1\\x81\\xd1\\x82\\xd0\\xb2\\xd0\\xb0 \\xd0\\xb4\\xd0\\xbb\\xd1\\x8f \\xd0\\xbc\\xd0\\xb0\\xd0\\xba\\xd0\\xb8\\xd1\\x8f\\xd0\\xb6\\xd0\\xb0</a></div><div class=\"b-tabloid__topic news b-tabloid__topic_news\"><a href=\"/news/2017/06/01/serpenti/\">Bulgari \\xd0\\xbf\\xd0\\xbe\\xd0\\xba\\xd0\\xb0\\xd0\\xb7\\xd0\\xb0\\xd0\\xbb \\xd1\\x83\\xd0\\xba\\xd1\\x80\\xd0\\xb0\\xd1\\x88\\xd0\\xb5\\xd0\\xbd\\xd0\\xbd\\xd1\\x8b\\xd0\\xb5 \\xd0\\xbf\\xd1\\x80\\xd0\\xb8 \\xd0\\xbf\\xd0\\xbe\\xd0\\xbc\\xd0\\xbe\\xd1\\x89\\xd0\\xb8 \\xd0\\xbb\\xd0\\xb0\\xd0\\xb7\\xd0\\xb5\\xd1\\x80\\xd0\\xb0 \\xc2\\xab\\xd0\\xb7\\xd0\\xbc\\xd0\\xb5\\xd0\\xb8\\xd0\\xbd\\xd1\\x8b\\xd0\\xb5\\xc2\\xbb \\xd0\\xbe\\xd1\\x87\\xd0\\xba\\xd0\\xb8</a></div><div class=\"b-tabloid__topic news b-tabloid__topic_news\"><a href=\"/news/2017/05/31/drop/\">Supreme \\xd0\\xbf\\xd0\\xbe\\xd0\\xb8\\xd0\\xbd\\xd1\\x82\\xd0\\xb5\\xd1\\x80\\xd0\\xb5\\xd1\\x81\\xd0\\xbe\\xd0\\xb2\\xd0\\xb0\\xd0\\xbb\\xd1\\x81\\xd1\\x8f \\xd0\\xbf\\xd0\\xbb\\xd0\\xb0\\xd0\\xbd\\xd0\\xb0\\xd0\\xbc\\xd0\\xb8 \\xd0\\xbf\\xd0\\xbe\\xd0\\xba\\xd1\\x83\\xd0\\xbf\\xd0\\xb0\\xd1\\x82\\xd0\\xb5\\xd0\\xbb\\xd0\\xb5\\xd0\\xb9 \\xd0\\xbf\\xd0\\xbe\\xd1\\x81\\xd0\\xbb\\xd0\\xb5 \\xd0\\xbe\\xd1\\x80\\xd0\\xb3\\xd0\\xb8\\xd0\\xb9</a></div><div class=\"b-tabloid__topic news b-tabloid__topic_news\"><a href=\"/news/2017/05/31/artcar/\">\\xd0\\x9d\\xd0\\xbe\\xd0\\xb2\\xd1\\x8b\\xd0\\xb9 \\xd0\\xb0\\xd1\\x80\\xd1\\x82-\\xd0\\xba\\xd0\\xb0\\xd1\\x80 BMW \\xd1\\x81\\xd0\\xbe\\xd0\\xb7\\xd0\\xb4\\xd0\\xb0\\xd0\\xbb\\xd0\\xb0 \\xd0\\xa6\\xd0\\xb0\\xd0\\xbe \\xd0\\xa4\\xd1\\x8d\\xd0\\xb9</a></div><div class=\"b-tabloid__topic news b-tabloid__topic_news\"><a href=\"/news/2017/05/31/caviar/\">Caviar \\xd0\\xba\\xd1\\x83\\xd0\\xbf\\xd0\\xb8\\xd0\\xbb \\xd0\\xba\\xd0\\xbe\\xd0\\xbd\\xd0\\xba\\xd1\\x83\\xd1\\x80\\xd0\\xb5\\xd0\\xbd\\xd1\\x82\\xd0\\xb0</a></div></div><div class=\"b-tabloid__more\"><a href=\"/rubrics/style/\">\\xd0\\x92\\xd1\\x81\\xd0\\xb5 \\xd0\\xbc\\xd0\\xb0\\xd1\\x82\\xd0\\xb5\\xd1\\x80\\xd0\\xb8\\xd0\\xb0\\xd0\\xbb\\xd1\\x8b</a></div></div><div class=\"span4\"><div class=\"b-tabloid__item\"><div class=\"bordered-title\"><a href=\"/rubrics/travel/\">\\xd0\\x9f\\xd1\\x83\\xd1\\x82\\xd0\\xb5\\xd1\\x88\\xd0\\xb5\\xd1\\x81\\xd1\\x82\\xd0\\xb2\\xd0\\xb8\\xd1\\x8f</a></div><div class=\"b-tabloid__topic article\" data-partslug=\"text\"><a class=\"js-dh\" href=\"/articles/2017/06/01/iturup/\"><img alt=\"\" class=\"g-picture\" style=\"max-width: 96px; width: 96px; height: 64px;\" src=\"https://icdn.lenta.ru/images/2017/05/31/16/20170531161710025/tabloid_7ef1edd5e9d7dd3162b0cab82da3e9e6.jpg\" width=\"96\" height=\"64\" /></a><a class=\"b-tabloid__headline js-dh\" href=\"/articles/2017/06/01/iturup/\">\\xd0\\x9e\\xd1\\x81\\xd1\\x82\\xd1\\x80\\xd0\\xbe\\xd0\\xb2 \\xd0\\xb4\\xd0\\xb5\\xd0\\xb2\\xd1\\x8f\\xd1\\x82\\xd0\\xb8 \\xd0\\xb2\\xd1\\x83\\xd0\\xbb\\xd0\\xba\\xd0\\xb0\\xd0\\xbd\\xd0\\xbe\\xd0\\xb2</a><div class=\"rightcol\">\\xd0\\x9e\\xd1\\x81\\xd0\\xbe\\xd0\\xb1\\xd0\\xb5\\xd0\\xbd\\xd0\\xbd\\xd0\\xbe\\xd1\\x81\\xd1\\x82\\xd0\\xb8 \\xd0\\xbf\\xd1\\x83\\xd1\\x82\\xd0\\xb5\\xd1\\x88\\xd0\\xb5\\xd1\\x81\\xd1\\x82\\xd0\\xb2\\xd0\\xb8\\xd1\\x8f \\xd0\\xbf\\xd0\\xbe&nbsp;\\xd0\\xba\\xd1\\x80\\xd0\\xb0\\xd0\\xb9\\xd0\\xbd\\xd0\\xb5\\xd0\\xbc\\xd1\\x83 \\xd1\\x80\\xd1\\x83\\xd0\\xb1\\xd0\\xb5\\xd0\\xb6\\xd1\\x83 \\xd0\\xa0\\xd0\\xbe\\xd1\\x81\\xd1\\x81\\xd0\\xb8\\xd0\\xb8</div></div><div class=\"b-tabloid__topic article\" data-partslug=\"video\"><span class=\"author\"><a class=\"js-dh\" href=\"/columns/2017/05/30/byshyeva_blog/\">\\xd0\\x90\\xd0\\xbd\\xd1\\x8f \\xd0\\x91\\xd1\\x83\\xd1\\x88\\xd1\\x83\\xd0\\xb5\\xd0\\xb2\\xd0\\xb0: </a></span><a class=\"b-tabloid__headline js-dh\" href=\"/columns/2017/05/30/byshyeva_blog/\">\\xc2\\xab\\xd0\\x9f\\xd0\\xb0\\xd1\\x8d\\xd0\\xbb\\xd1\\x8c\\xd1\\x8f \\xe2\\x80\\x94 \\xd0\\xb2\\xd0\\xbe\\xd0\\xb2\\xd1\\x81\\xd0\\xb5 \\xd0\\xbd\\xd0\\xb5&nbsp;\\xd0\\xb8\\xd1\\x81\\xd0\\xbf\\xd0\\xb0\\xd0\\xbd\\xd1\\x81\\xd0\\xba\\xd0\\xbe\\xd0\\xb5 \\xd0\\xb1\\xd0\\xbb\\xd1\\x8e\\xd0\\xb4\\xd0\\xbe\\xc2\\xbb</a><div class=\"rightcol\">\\xd0\\x9a\\xd0\\xb0\\xd0\\xba \\xd0\\xbf\\xd1\\x80\\xd0\\xb8\\xd0\\xb3\\xd0\\xbe\\xd1\\x82\\xd0\\xbe\\xd0\\xb2\\xd0\\xb8\\xd1\\x82\\xd1\\x8c \\xd0\\xb3\\xd0\\xbb\\xd0\\xb0\\xd0\\xb2\\xd0\\xbd\\xd0\\xbe\\xd0\\xb5 \\xd0\\xb1\\xd0\\xbb\\xd1\\x8e\\xd0\\xb4\\xd0\\xbe \\xd0\\x92\\xd0\\xb0\\xd0\\xbb\\xd0\\xb5\\xd0\\xbd\\xd1\\x81\\xd0\\xb8\\xd0\\xb8</div></div><div class=\"b-tabloid__topic news b-tabloid__topic_news\"><a href=\"/news/2017/06/01/go_to_korea/\">\\xd0\\xa0\\xd0\\xbe\\xd1\\x81\\xd1\\x81\\xd0\\xb8\\xd1\\x8f\\xd0\\xbd\\xd0\\xb0\\xd0\\xbc \\xd0\\xbf\\xd1\\x80\\xd0\\xb5\\xd0\\xb4\\xd0\\xbb\\xd0\\xbe\\xd0\\xb6\\xd0\\xb8\\xd0\\xbb\\xd0\\xb8 \\xd1\\x82\\xd1\\x83\\xd1\\x80\\xd1\\x8b \\xd0\\xbd\\xd0\\xb0&nbsp;\\xd1\\x82\\xd0\\xb5\\xd0\\xbf\\xd0\\xbb\\xd0\\xbe\\xd1\\x85\\xd0\\xbe\\xd0\\xb4\\xd0\\xb5 \\xd0\\xb2&nbsp;\\xd0\\xa1\\xd0\\xb5\\xd0\\xb2\\xd0\\xb5\\xd1\\x80\\xd0\\xbd\\xd1\\x83\\xd1\\x8e \\xd0\\x9a\\xd0\\xbe\\xd1\\x80\\xd0\\xb5\\xd1\\x8e \\xd0\\xb7\\xd0\\xb0&nbsp;27&nbsp;\\xd1\\x82\\xd1\\x8b\\xd1\\x81\\xd1\\x8f\\xd1\\x87 \\xd1\\x80\\xd1\\x83\\xd0\\xb1\\xd0\\xbb\\xd0\\xb5\\xd0\\xb9</a></div><div class=\"b-tabloid__topic news b-tabloid__topic_news\"><a href=\"/news/2017/06/01/low_cost_airline/\">\\xd0\\x93\\xd0\\xb0\\xd0\\xb7\\xd0\\xb5\\xd1\\x82\\xd0\\xb0 \\xd1\\x83\\xd0\\xb7\\xd0\\xbd\\xd0\\xb0\\xd0\\xbb\\xd0\\xb0 \\xd0\\xbe&nbsp;\\xd0\\xbf\\xd0\\xbb\\xd0\\xb0\\xd0\\xbd\\xd0\\xb0\\xd1\\x85 \\xd1\\x81\\xd0\\xbe\\xd0\\xb7\\xd0\\xb4\\xd0\\xb0\\xd0\\xbd\\xd0\\xb8\\xd1\\x8f \\xd0\\xb2&nbsp;\\xd0\\xa0\\xd0\\xbe\\xd1\\x81\\xd1\\x81\\xd0\\xb8\\xd0\\xb8 \\xd0\\xbd\\xd0\\xbe\\xd0\\xb2\\xd0\\xbe\\xd0\\xb3\\xd0\\xbe \\xd0\\xbb\\xd0\\xbe\\xd1\\x83\\xd0\\xba\\xd0\\xbe\\xd1\\x81\\xd1\\x82\\xd0\\xb5\\xd1\\x80\\xd0\\xb0</a></div><div class=\"b-tabloid__topic article\" data-partslug=\"text\"><a class=\"js-dh\" href=\"/articles/2017/05/31/luggage/\"><img alt=\"\" class=\"g-picture\" style=\"max-width: 96px; width: 96px; height: 64px;\" src=\"https://icdn.lenta.ru/images/2017/05/31/12/20170531125103584/tabloid_c21c984cbd3cf6453b7da61800744cbd.jpg\" width=\"96\" height=\"64\" /></a><a class=\"b-tabloid__headline js-dh\" href=\"/articles/2017/05/31/luggage/\">\\xd0\\xad\\xd0\\xba\\xd1\\x81\\xd1\\x82\\xd1\\x80\\xd0\\xb5\\xd0\\xbc\\xd0\\xb0\\xd0\\xbb\\xd1\\x8c\\xd0\\xbd\\xd0\\xb0\\xd1\\x8f \\xd1\\x83\\xd0\\xbf\\xd0\\xb0\\xd0\\xba\\xd0\\xbe\\xd0\\xb2\\xd0\\xba\\xd0\\xb0</a><div class=\"rightcol\">\\xd0\\x9a\\xd0\\xb0\\xd0\\xba \\xd1\\x81\\xd0\\xbe\\xd0\\xb1\\xd0\\xb8\\xd1\\x80\\xd0\\xb0\\xd1\\x82\\xd1\\x8c \\xd1\\x87\\xd0\\xb5\\xd0\\xbc\\xd0\\xbe\\xd0\\xb4\\xd0\\xb0\\xd0\\xbd, \\xd1\\x87\\xd1\\x82\\xd0\\xbe\\xd0\\xb1\\xd1\\x8b \\xd0\\xb2&nbsp;\\xd0\\xbd\\xd0\\xb5\\xd0\\xb3\\xd0\\xbe \\xd0\\xb2\\xd0\\xbe\\xd1\\x88\\xd0\\xbb\\xd0\\xbe \\xd0\\xb2\\xd1\\x81\\xd0\\xb5 \\xd0\\xbd\\xd0\\xb5\\xd0\\xbe\\xd0\\xb1\\xd1\\x85\\xd0\\xbe\\xd0\\xb4\\xd0\\xb8\\xd0\\xbc\\xd0\\xbe\\xd0\\xb5</div></div><div class=\"b-tabloid__topic news b-tabloid__topic_news\"><a href=\"/news/2017/05/31/fire_plane/\">\\xd0\\xa1\\xd0\\xb0\\xd0\\xbc\\xd0\\xbe\\xd0\\xbb\\xd0\\xb5\\xd1\\x82 \\xd0\\xb2&nbsp;\\xd0\\xa1\\xd0\\xa8\\xd0\\x90 \\xd1\\x8d\\xd0\\xba\\xd1\\x81\\xd1\\x82\\xd1\\x80\\xd0\\xb5\\xd0\\xbd\\xd0\\xbd\\xd0\\xbe \\xd1\\x81\\xd0\\xb5\\xd0\\xbb \\xd0\\xb8\\xd0\\xb7-\\xd0\\xb7\\xd0\\xb0 \\xd0\\xb7\\xd0\\xb0\\xd0\\xb3\\xd0\\xbe\\xd1\\x80\\xd0\\xb5\\xd0\\xb2\\xd1\\x88\\xd0\\xb5\\xd0\\xb3\\xd0\\xbe\\xd1\\x81\\xd1\\x8f \\xd0\\xbd\\xd0\\xbe\\xd1\\x83\\xd1\\x82\\xd0\\xb1\\xd1\\x83\\xd0\\xba\\xd0\\xb0</a></div><div class=\"b-tabloid__topic news b-tabloid__topic_news\"><a href=\"/news/2017/05/31/south_america/\">\\xd0\\x98\\xd0\\xbd\\xd1\\x82\\xd0\\xb5\\xd1\\x80\\xd0\\xb5\\xd1\\x81 \\xd1\\x8e\\xd0\\xb6\\xd0\\xbd\\xd0\\xbe\\xd0\\xb0\\xd0\\xbc\\xd0\\xb5\\xd1\\x80\\xd0\\xb8\\xd0\\xba\\xd0\\xb0\\xd0\\xbd\\xd1\\x81\\xd0\\xba\\xd0\\xb8\\xd1\\x85 \\xd1\\x82\\xd1\\x83\\xd1\\x80\\xd0\\xb8\\xd1\\x81\\xd1\\x82\\xd0\\xbe\\xd0\\xb2 \\xd0\\xba&nbsp;\\xd0\\xa0\\xd0\\xbe\\xd1\\x81\\xd1\\x81\\xd0\\xb8\\xd0\\xb8 \\xd0\\xb2\\xd1\\x8b\\xd1\\x80\\xd0\\xbe\\xd1\\x81 \\xd0\\xb2&nbsp;\\xd0\\xb4\\xd0\\xb2\\xd0\\xb0 \\xd1\\x80\\xd0\\xb0\\xd0\\xb7\\xd0\\xb0</a></div></div><div class=\"b-tabloid__more\"><a href=\"/rubrics/travel/\">\\xd0\\x92\\xd1\\x81\\xd0\\xb5 \\xd0\\xbc\\xd0\\xb0\\xd1\\x82\\xd0\\xb5\\xd1\\x80\\xd0\\xb8\\xd0\\xb0\\xd0\\xbb\\xd1\\x8b</a></div></div></div><div class=\"b-tabloid__row row\"><div class=\"span4\"><div class=\"b-tabloid__item\"><div class=\"bordered-title\"><a href=\"/rubrics/life/\">\\xd0\\x98\\xd0\\xb7 \\xd0\\xb6\\xd0\\xb8\\xd0\\xb7\\xd0\\xbd\\xd0\\xb8</a></div><div class=\"b-tabloid__topic article\"><a class=\"js-dh\" href=\"/articles/2017/06/01/emerald/\"><img alt=\"\" class=\"g-picture\" style=\"max-width: 96px; width: 96px; height: 64px;\" src=\"https://icdn.lenta.ru/images/2017/05/31/16/20170531165112289/tabloid_458a854c0516056ba44f82b44938b6bc.jpg\" width=\"96\" height=\"64\" /></a><a class=\"b-tabloid__headline js-dh\" href=\"/articles/2017/06/01/emerald/\">\\xd0\\x9f\\xd1\\x80\\xd0\\xbe\\xd0\\xba\\xd0\\xbb\\xd1\\x8f\\xd1\\x82\\xd0\\xb8\\xd0\\xb5 \\xd0\\xb8\\xd0\\xb7\\xd1\\x83\\xd0\\xbc\\xd1\\x80\\xd1\\x83\\xd0\\xb4\\xd0\\xb0 \\xd0\\xb7\\xd0\\xb0&nbsp;\\xd0\\xbc\\xd0\\xb8\\xd0\\xbb\\xd0\\xbb\\xd0\\xb8\\xd0\\xb0\\xd1\\x80\\xd0\\xb4 \\xd0\\xb4\\xd0\\xbe\\xd0\\xbb\\xd0\\xbb\\xd0\\xb0\\xd1\\x80\\xd0\\xbe\\xd0\\xb2</a><div class=\"rightcol\">\\xd0\\x97\\xd0\\xb0 \\xd1\\x81\\xd0\\xb0\\xd0\\xbc\\xd0\\xbe\\xd1\\x86\\xd0\\xb2\\xd0\\xb5\\xd1\\x82 \\xd0\\xb1\\xd0\\xbe\\xd1\\x80\\xd0\\xbe\\xd0\\xbb\\xd0\\xb8\\xd1\\x81\\xd1\\x8c \\xd0\\xb1\\xd0\\xb8\\xd0\\xb7\\xd0\\xbd\\xd0\\xb5\\xd1\\x81\\xd0\\xbc\\xd0\\xb5\\xd0\\xbd\\xd1\\x8b, \\xd0\\xbc\\xd0\\xbe\\xd1\\x88\\xd0\\xb5\\xd0\\xbd\\xd0\\xbd\\xd0\\xb8\\xd0\\xba\\xd0\\xb8 \\xd0\\xb8&nbsp;\\xd1\\x81\\xd1\\x82\\xd0\\xb0\\xd1\\x80\\xd1\\x82\\xd0\\xb0\\xd0\\xbf, \\xd0\\xbd\\xd0\\xbe&nbsp;\\xd0\\xbe\\xd0\\xbd \\xd0\\xbd\\xd0\\xb5&nbsp;\\xd0\\xb4\\xd0\\xbe\\xd1\\x81\\xd1\\x82\\xd0\\xb0\\xd0\\xbb\\xd1\\x81\\xd1\\x8f \\xd0\\xbd\\xd0\\xb8\\xd0\\xba\\xd0\\xbe\\xd0\\xbc\\xd1\\x83</div></div><div class=\"b-tabloid__topic article\" data-partslug=\"photo\"><a class=\"js-dh\" href=\"/photo/2017/05/31/blondes/\"><img alt=\"\" class=\"g-picture\" style=\"max-width: 96px; width: 96px; height: 64px;\" src=\"https://icdn.lenta.ru/images/2017/05/30/15/20170530153837898/tabloid_34ef845f863f65420a0e0018b1af4c7c.jpg\" width=\"96\" height=\"64\" /></a><a class=\"b-tabloid__headline js-dh\" href=\"/photo/2017/05/31/blondes/\">\\xd0\\xa1\\xd0\\xb2\\xd0\\xb5\\xd1\\x82\\xd0\\xbb\\xd1\\x8b\\xd0\\xb5 \\xd1\\x87\\xd0\\xb5\\xd0\\xbb\\xd0\\xbe\\xd0\\xb2\\xd0\\xb5\\xd1\\x87\\xd0\\xba\\xd0\\xb8</a><div class=\"rightcol\">\\xd0\\xa2\\xd0\\xbe\\xd0\\xbf-10&nbsp;\\xd0\\xb1\\xd0\\xbb\\xd0\\xbe\\xd0\\xbd\\xd0\\xb4\\xd0\\xb8\\xd0\\xbd\\xd0\\xbe\\xd0\\xba, \\xd0\\xbc\\xd0\\xb5\\xd0\\xbd\\xd1\\x8f\\xd1\\x8e\\xd1\\x89\\xd0\\xb8\\xd1\\x85 \\xd1\\x81\\xd0\\xbe\\xd0\\xb7\\xd0\\xbd\\xd0\\xb0\\xd0\\xbd\\xd0\\xb8\\xd0\\xb5 \\xd1\\x81\\xd0\\xbe\\xd0\\xb2\\xd1\\x80\\xd0\\xb5\\xd0\\xbc\\xd0\\xb5\\xd0\\xbd\\xd0\\xbd\\xd1\\x8b\\xd1\\x85 \\xd0\\xb6\\xd0\\xb5\\xd0\\xbd\\xd1\\x89\\xd0\\xb8\\xd0\\xbd</div></div><div class=\"b-tabloid__topic article\" data-partslug=\"photo\"><a class=\"js-dh\" href=\"/photo/2017/05/30/instabestmay/\"><img alt=\"\" class=\"g-picture\" style=\"max-width: 96px; width: 96px; height: 64px;\" src=\"https://icdn.lenta.ru/images/2017/05/29/13/20170529132432968/tabloid_d20435ccfc65644324676760d43c6880.jpg\" width=\"96\" height=\"64\" /></a><a class=\"b-tabloid__headline js-dh\" href=\"/photo/2017/05/30/instabestmay/\">\\xd0\\xa1 \\xd1\\x88\\xd0\\xb8\\xd1\\x80\\xd0\\xbe\\xd0\\xba\\xd0\\xbe \\xd0\\xb7\\xd0\\xb0\\xd0\\xba\\xd1\\x80\\xd1\\x8b\\xd1\\x82\\xd1\\x8b\\xd0\\xbc\\xd0\\xb8 \\xd0\\xb3\\xd0\\xbb\\xd0\\xb0\\xd0\\xb7\\xd0\\xb0\\xd0\\xbc\\xd0\\xb8</a><div class=\"rightcol\">\\xd0\\xa1\\xd0\\xb0\\xd0\\xbc\\xd1\\x8b\\xd0\\xb5 \\xd0\\xbf\\xd0\\xbe\\xd0\\xbf\\xd1\\x83\\xd0\\xbb\\xd1\\x8f\\xd1\\x80\\xd0\\xbd\\xd1\\x8b\\xd0\\xb5 \\xd1\\x81\\xd0\\xbd\\xd0\\xb8\\xd0\\xbc\\xd0\\xba\\xd0\\xb8 Instagram \\xd0\\xb7\\xd0\\xb0&nbsp;\\xd0\\xbc\\xd0\\xb0\\xd0\\xb9</div></div><div class=\"b-tabloid__topic news b-tabloid__topic_news\"><a href=\"/news/2017/06/01/ball/\">\\xd0\\x92 \\xd1\\x87\\xd0\\xb5\\xd1\\x81\\xd1\\x82\\xd1\\x8c \\xc2\\xab\\xd0\\xa1\\xd0\\xbf\\xd0\\xb0\\xd1\\x81\\xd0\\xb0\\xd1\\x82\\xd0\\xb5\\xd0\\xbb\\xd0\\xb5\\xd0\\xb9 \\xd0\\x9c\\xd0\\xb0\\xd0\\xbb\\xd0\\xb8\\xd0\\xb1\\xd1\\x83\\xc2\\xbb \\xd0\\xb2&nbsp;\\xd0\\x9b\\xd0\\xbe\\xd0\\xbd\\xd0\\xb4\\xd0\\xbe\\xd0\\xbd\\xd0\\xb5 \\xd0\\xbd\\xd0\\xb0\\xd0\\xb4\\xd1\\x83\\xd0\\xbb\\xd0\\xb8 \\xd0\\xbf\\xd0\\xbb\\xd1\\x8f\\xd0\\xb6\\xd0\\xbd\\xd1\\x8b\\xd0\\xb9 \\xd0\\xbc\\xd1\\x8f\\xd1\\x87 \\xd1\\x80\\xd0\\xb5\\xd0\\xba\\xd0\\xbe\\xd1\\x80\\xd0\\xb4\\xd0\\xbd\\xd0\\xbe\\xd0\\xb3\\xd0\\xbe \\xd1\\x80\\xd0\\xb0\\xd0\\xb7\\xd0\\xbc\\xd0\\xb5\\xd1\\x80\\xd0\\xb0</a></div><div class=\"b-tabloid__topic news b-tabloid__topic_news\"><a href=\"/news/2017/06/01/tree/\">\\xd0\\x92\\xd1\\x8b\\xd1\\x81\\xd0\\xbe\\xd0\\xba\\xd0\\xb8\\xd0\\xb9 \\xd1\\x82\\xd1\\x80\\xd0\\xb5\\xd0\\xbd\\xd0\\xb5\\xd1\\x80 \\xd0\\xbf\\xd0\\xbe&nbsp;\\xd1\\x84\\xd0\\xb8\\xd1\\x82\\xd0\\xbd\\xd0\\xb5\\xd1\\x81\\xd1\\x83 \\xd0\\xb8\\xd0\\xb7&nbsp;\\xd0\\x9a\\xd0\\xb0\\xd0\\xbb\\xd0\\xb8\\xd1\\x84\\xd0\\xbe\\xd1\\x80\\xd0\\xbd\\xd0\\xb8\\xd0\\xb8 \\xd1\\x81\\xd1\\x82\\xd0\\xb0\\xd0\\xbb \\xd0\\xbb\\xd1\\x8e\\xd0\\xb1\\xd0\\xb8\\xd0\\xbc\\xd1\\x86\\xd0\\xb5\\xd0\\xbc \\xd1\\x81\\xd0\\xb5\\xd1\\x82\\xd0\\xb8</a></div><div class=\"b-tabloid__topic news b-tabloid__topic_news\"><a href=\"/news/2017/06/01/tess/\">\\xd0\\xa1\\xd0\\xb0\\xd0\\xbc\\xd0\\xb0\\xd1\\x8f \\xd0\\xbf\\xd0\\xbe\\xd0\\xbb\\xd0\\xbd\\xd0\\xb0\\xd1\\x8f \\xd0\\xbc\\xd0\\xbe\\xd0\\xb4\\xd0\\xb5\\xd0\\xbb\\xd1\\x8c \\xd0\\xb2&nbsp;\\xd0\\xbc\\xd0\\xb8\\xd1\\x80\\xd0\\xb5 \\xd1\\x81\\xd0\\xbd\\xd1\\x8f\\xd0\\xbb\\xd0\\xb0\\xd1\\x81\\xd1\\x8c \\xd0\\xb2&nbsp;\\xd0\\xbd\\xd0\\xb8\\xd0\\xb6\\xd0\\xbd\\xd0\\xb5\\xd0\\xbc \\xd0\\xb1\\xd0\\xb5\\xd0\\xbb\\xd1\\x8c\\xd0\\xb5</a></div><div class=\"b-tabloid__topic news b-tabloid__topic_news\"><a href=\"/news/2017/06/01/cake/\">\\xd0\\x9f\\xd0\\xb5\\xd0\\xba\\xd0\\xb0\\xd1\\x80\\xd1\\x8c-\\xd1\\x81\\xd0\\xb0\\xd0\\xbc\\xd0\\xbe\\xd1\\x83\\xd1\\x87\\xd0\\xba\\xd0\\xb0 \\xd0\\xb7\\xd0\\xb0\\xd1\\x80\\xd0\\xb0\\xd0\\xb1\\xd0\\xbe\\xd1\\x82\\xd0\\xb0\\xd0\\xbb\\xd0\\xb0 \\xd1\\x81\\xd0\\xbe\\xd1\\x81\\xd1\\x82\\xd0\\xbe\\xd1\\x8f\\xd0\\xbd\\xd0\\xb8\\xd0\\xb5 \\xd0\\xbd\\xd0\\xb0&nbsp;\\xd0\\xbf\\xd1\\x80\\xd0\\xbe\\xd0\\xb4\\xd0\\xb0\\xd0\\xb6\\xd0\\xb5 \\xd1\\x82\\xd0\\xbe\\xd1\\x80\\xd1\\x82\\xd0\\xbe\\xd0\\xb2</a></div></div><div class=\"b-tabloid__more\"><a href=\"/rubrics/life/\">\\xd0\\x92\\xd1\\x81\\xd0\\xb5 \\xd0\\xbc\\xd0\\xb0\\xd1\\x82\\xd0\\xb5\\xd1\\x80\\xd0\\xb8\\xd0\\xb0\\xd0\\xbb\\xd1\\x8b</a></div></div><div class=\"span4\"><div class=\"b-tabloid__item\"><div class=\"bordered-title\" style=\"border-top-color: black\"><a target=\"_blank\" class=\"b-tabloid__item-rubric b-tabloid__item-rubric_logo-motor\" href=\"/rubrics/motor/\"><svg class=\"b-tabloid__item-rubric-icon\"><use xlink:href=\"#ui-logo-motor\"></use></svg></a><a target=\"_blank\" class=\"b-link-external\" href=\"http://motor.ru\"><svg class=\"b-link-external__icon\"><use xlink:href=\"#ui-link-external\"></use></svg></a></div><div class=\"b-tabloid__topic article\" data-partslug=\"photo\"><a class=\"js-dh\" target=\"_blank\" href=\"https://motor.ru/selector/ttumenya.htm?utm_source=from_lenta\"><img alt=\"\" class=\"g-picture\" style=\"max-width: 96px; width: 96px; height: 64px;\" src=\"https://icdn.lenta.ru/images/2017/05/31/09/20170531095046372/tabloid_18c004821e20a9e24213b44fec9db31b.jpg\" width=\"96\" height=\"64\" /></a><a class=\"b-tabloid__headline js-dh\" target=\"_blank\" href=\"https://motor.ru/selector/ttumenya.htm?utm_source=from_lenta\">\\xd0\\xa1\\xd0\\xb0\\xd0\\xbc\\xd1\\x8b\\xd0\\xb5 \\xd1\\x80\\xd0\\xb5\\xd0\\xb4\\xd0\\xba\\xd0\\xb8\\xd0\\xb5 \\xd1\\x81\\xd0\\xbe\\xd0\\xb2\\xd1\\x80\\xd0\\xb5\\xd0\\xbc\\xd0\\xb5\\xd0\\xbd\\xd0\\xbd\\xd1\\x8b\\xd0\\xb5 \\xd0\\xbc\\xd0\\xb0\\xd1\\x88\\xd0\\xb8\\xd0\\xbd\\xd1\\x8b</a><div class=\"rightcol\">\\xd0\\xa1\\xd0\\xbe\\xd0\\xb2\\xd1\\x80\\xd0\\xb5\\xd0\\xbc\\xd0\\xb5\\xd0\\xbd\\xd0\\xbd\\xd1\\x8b\\xd0\\xb5 \\xd0\\xb0\\xd0\\xb2\\xd1\\x82\\xd0\\xbe\\xd0\\xbc\\xd0\\xbe\\xd0\\xb1\\xd0\\xb8\\xd0\\xbb\\xd0\\xb8, \\xd1\\x81\\xd0\\xbe\\xd0\\xb7\\xd0\\xb4\\xd0\\xb0\\xd0\\xbd\\xd0\\xbd\\xd1\\x8b\\xd0\\xb5 \\xd0\\xbf\\xd0\\xbe&nbsp;\\xd0\\xb7\\xd0\\xb0\\xd0\\xba\\xd0\\xb0\\xd0\\xb7\\xd0\\xb0\\xd0\\xbc \\xd0\\xba\\xd0\\xb0\\xd0\\xbf\\xd1\\x80\\xd0\\xb8\\xd0\\xb7\\xd0\\xbd\\xd1\\x8b\\xd1\\x85 \\xd0\\xba\\xd0\\xbb\\xd0\\xb8\\xd0\\xb5\\xd0\\xbd\\xd1\\x82\\xd0\\xbe\\xd0\\xb2</div></div><div class=\"b-tabloid__topic article\" data-partslug=\"text\"><a class=\"js-dh\" target=\"_blank\" href=\"https://motor.ru/lab/clarksonquiz.htm?utm_source=from_lenta\"><img alt=\"\" class=\"g-picture\" style=\"max-width: 96px; width: 96px; height: 64px;\" src=\"https://icdn.lenta.ru/images/2017/05/30/09/20170530094352390/tabloid_38cf6e1477c8b96143e8ca4872502567.jpg\" width=\"96\" height=\"64\" /></a><a class=\"b-tabloid__headline js-dh\" target=\"_blank\" href=\"https://motor.ru/lab/clarksonquiz.htm?utm_source=from_lenta\">\\xd0\\xa2\\xd0\\xb5\\xd1\\x81\\xd1\\x82: \\xd1\\x83\\xd0\\xb3\\xd0\\xb0\\xd0\\xb4\\xd0\\xb0\\xd0\\xb9 \\xd0\\xbc\\xd0\\xb0\\xd1\\x88\\xd0\\xb8\\xd0\\xbd\\xd1\\x83 \\xd0\\xbf\\xd0\\xbe&nbsp;\\xd0\\xb3\\xd1\\x80\\xd0\\xb8\\xd0\\xbc\\xd0\\xb0\\xd1\\x81\\xd0\\xb5 \\xd0\\x94\\xd0\\xb6\\xd0\\xb5\\xd1\\x80\\xd0\\xb5\\xd0\\xbc\\xd0\\xb8 \\xd0\\x9a\\xd0\\xbb\\xd0\\xb0\\xd1\\x80\\xd0\\xba\\xd1\\x81\\xd0\\xbe\\xd0\\xbd\\xd0\\xb0</a><div class=\"rightcol\">\\xd0\\x9d\\xd0\\xb5\\xd0\\xbf\\xd1\\x80\\xd0\\xbe\\xd1\\x85\\xd0\\xbe\\xd0\\xb4\\xd0\\xb8\\xd0\\xbc\\xd1\\x8b\\xd0\\xb9 \\xd1\\x82\\xd0\\xb5\\xd1\\x81\\xd1\\x82 \\xd0\\xbd\\xd0\\xb0&nbsp;\\xd0\\xb7\\xd0\\xbd\\xd0\\xb0\\xd0\\xbd\\xd0\\xb8\\xd0\\xb5 \\xd0\\xbc\\xd0\\xb8\\xd0\\xbc\\xd0\\xb8\\xd0\\xba\\xd0\\xb8 \\xd0\\x94\\xd0\\xb6\\xd0\\xb5\\xd0\\xb7\\xd0\\xb7\\xd1\\x8b (\\xd0\\xb8 \\xd0\\xb5\\xd0\\xb3\\xd0\\xbe \\xd1\\x86\\xd0\\xb8\\xd1\\x82\\xd0\\xb0\\xd1\\x82)</div></div><div class=\"b-tabloid__topic article\" data-partslug=\"text\"><a class=\"js-dh\" target=\"_blank\" href=\"https://motor.ru/testdrives/kugavstiguan.htm/?utm_source=from_lenta\"><img alt=\"\" class=\"g-picture\" style=\"max-width: 96px; width: 96px; height: 64px;\" src=\"https://icdn.lenta.ru/images/2017/05/31/09/20170531094619090/tabloid_47d2243c6b1af4721bdd4c85f6ffc641.jpg\" width=\"96\" height=\"64\" /></a><a class=\"b-tabloid__headline js-dh\" target=\"_blank\" href=\"https://motor.ru/testdrives/kugavstiguan.htm/?utm_source=from_lenta\">VW Tiguan \\xd0\\xbf\\xd1\\x80\\xd0\\xbe\\xd1\\x82\\xd0\\xb8\\xd0\\xb2 Ford Kuga</a><div class=\"rightcol\">VW Tiguan, Ford Kuga \\xd0\\xb8&nbsp;\\xd0\\xbd\\xd0\\xb5\\xd0\\xbe\\xd0\\xb1\\xd1\\x8b\\xd1\\x87\\xd0\\xbd\\xd1\\x8b\\xd0\\xb9 \\xd1\\x81\\xd1\\x87\\xd0\\xb5\\xd1\\x82\\xd1\\x87\\xd0\\xb8\\xd0\\xba \\xd0\\xb8\\xd1\\x85&nbsp;\\xd0\\xba\\xd1\\x80\\xd1\\x83\\xd1\\x82\\xd0\\xb8\\xd0\\xb7\\xd0\\xbd\\xd1\\x8b</div></div><div class=\"b-tabloid__topic article\"><a class=\"js-dh\" target=\"_blank\" href=\"https://motor.ru/selector/usacrashes.htm?utm_source=from_lenta\"><img alt=\"\" class=\"g-picture\" style=\"max-width: 96px; width: 96px; height: 64px;\" src=\"https://icdn.lenta.ru/images/2017/05/31/15/20170531155425399/tabloid_5a481132ed17e4761d41c54c8797fb58.jpg\" width=\"96\" height=\"64\" /></a><a class=\"b-tabloid__headline js-dh\" target=\"_blank\" href=\"https://motor.ru/selector/usacrashes.htm?utm_source=from_lenta\">\\xd0\\xa1\\xd0\\xb0\\xd0\\xbc\\xd1\\x8b\\xd0\\xb5 \\xd1\\x81\\xd0\\xbc\\xd0\\xb5\\xd1\\x80\\xd1\\x82\\xd0\\xbe\\xd0\\xbd\\xd0\\xbe\\xd1\\x81\\xd0\\xbd\\xd1\\x8b\\xd0\\xb5 \\xd0\\xbc\\xd0\\xb0\\xd1\\x88\\xd0\\xb8\\xd0\\xbd\\xd1\\x8b</a><div class=\"rightcol\">20&nbsp;\\xd0\\xbc\\xd0\\xbe\\xd0\\xb4\\xd0\\xb5\\xd0\\xbb\\xd0\\xb5\\xd0\\xb9, \\xd0\\xb0\\xd0\\xb2\\xd0\\xb0\\xd1\\x80\\xd0\\xb8\\xd0\\xb8 \\xd1\\x81&nbsp;\\xd0\\xba\\xd0\\xbe\\xd1\\x82\\xd0\\xbe\\xd1\\x80\\xd1\\x8b\\xd0\\xbc\\xd0\\xb8 \\xd0\\xbc\\xd0\\xbe\\xd0\\xb3\\xd1\\x83\\xd1\\x82 \\xd0\\xb7\\xd0\\xb0\\xd0\\xba\\xd0\\xbe\\xd0\\xbd\\xd1\\x87\\xd0\\xb8\\xd1\\x82\\xd1\\x8c\\xd1\\x81\\xd1\\x8f \\xd0\\xbe\\xd1\\x87\\xd0\\xb5\\xd0\\xbd\\xd1\\x8c \\xd0\\xbf\\xd0\\xbb\\xd0\\xbe\\xd1\\x85\\xd0\\xbe</div></div><div class=\"b-tabloid__topic news b-tabloid__topic_news\"><a target=\"_blank\" href=\"https://motor.ru/news/nevs-31-05-2017.htm?utm_source=from_lenta\">\\xd0\\x9f\\xd1\\x80\\xd0\\xb5\\xd0\\xb4\\xd1\\x81\\xd1\\x82\\xd0\\xb0\\xd0\\xb2\\xd0\\xbb\\xd0\\xb5\\xd0\\xbd \\xd0\\xbf\\xd1\\x80\\xd0\\xb5\\xd0\\xb5\\xd0\\xbc\\xd0\\xbd\\xd0\\xb8\\xd0\\xba Saab 9-3</a></div><div class=\"b-tabloid__topic news b-tabloid__topic_news\"><a target=\"_blank\" href=\"https://motor.ru/news/newbmwartcar-31-05-2017.htm?utm_source=from_lenta\">\\xd0\\x9a\\xd0\\xbe\\xd0\\xbc\\xd0\\xbf\\xd0\\xb0\\xd0\\xbd\\xd0\\xb8\\xd1\\x8f BMW \\xd1\\x80\\xd0\\xb0\\xd1\\x81\\xd0\\xba\\xd1\\x80\\xd1\\x8b\\xd0\\xbb\\xd0\\xb0 \\xd0\\xbd\\xd0\\xbe\\xd0\\xb2\\xd1\\x8b\\xd0\\xb9 \\xd0\\xb0\\xd1\\x80\\xd1\\x82-\\xd0\\xba\\xd0\\xb0\\xd1\\x80</a></div><div class=\"b-tabloid__topic news b-tabloid__topic_news\"><a target=\"_blank\" href=\"https://motor.ru/news/modernlada-31-05-2017.htm?utm_source=from_lenta\">\\xc2\\xab\\xd0\\x90\\xd0\\xb2\\xd1\\x82\\xd0\\xbe\\xd0\\x92\\xd0\\x90\\xd0\\x97\\xc2\\xbb \\xd1\\x83\\xd0\\xbb\\xd1\\x83\\xd1\\x87\\xd1\\x88\\xd0\\xb8\\xd0\\xbb \\xc2\\xab\\xd0\\x93\\xd1\\x80\\xd0\\xb0\\xd0\\xbd\\xd1\\x82\\xd1\\x83\\xc2\\xbb \\xd0\\xb8 \\xc2\\xab\\xd0\\x9a\\xd0\\xb0\\xd0\\xbb\\xd0\\xb8\\xd0\\xbd\\xd1\\x83\\xc2\\xbb</a></div></div><div class=\"b-tabloid__more\"><a href=\"/rubrics/motor/\">\\xd0\\x92\\xd1\\x81\\xd0\\xb5 \\xd0\\xbc\\xd0\\xb0\\xd1\\x82\\xd0\\xb5\\xd1\\x80\\xd0\\xb8\\xd0\\xb0\\xd0\\xbb\\xd1\\x8b</a></div></div><div class=\"span4\"><div class=\"b-tabloid__item\"><div class=\"bordered-title\" style=\"border-top-color: #9a8f7c\"><a target=\"_blank\" class=\"b-tabloid__item-rubric b-tabloid__item-rubric_logo-dom\" href=\"/rubrics/realty/\"><svg class=\"b-tabloid__item-rubric-icon\"><use xlink:href=\"#ui-logo-dom\"></use></svg></a><a target=\"_blank\" class=\"b-link-external\" href=\"http://dom.lenta.ru\"><svg class=\"b-link-external__icon\"><use xlink:href=\"#ui-link-external\"></use></svg></a></div><div class=\"b-tabloid__topic article\" data-partslug=\"photo\"><a class=\"js-dh\" target=\"_blank\" href=\"http://dom.lenta.ru/photo/2017/05/05/bestofhouzz/?utm_source=from_lenta\"><img alt=\"\" class=\"g-picture\" style=\"max-width: 96px; width: 96px; height: 64px;\" src=\"https://icdn.lenta.ru/images/2017/05/04/14/20170504140232359/tabloid_2769111349b8ffe20aa721f96c918317.jpg\" width=\"96\" height=\"64\" /></a><a class=\"b-tabloid__headline js-dh\" target=\"_blank\" href=\"http://dom.lenta.ru/photo/2017/05/05/bestofhouzz/?utm_source=from_lenta\">\\xd0\\x9e\\xd1\\x82 \\xd0\\xbd\\xd0\\xb0\\xd1\\x88\\xd0\\xb5\\xd0\\xb3\\xd0\\xbe \\xd1\\x81\\xd1\\x82\\xd0\\xbe\\xd0\\xbb\\xd0\\xb0</a><div class=\"rightcol\">\\xd0\\xa0\\xd0\\xbe\\xd1\\x81\\xd1\\x81\\xd0\\xb8\\xd0\\xb9\\xd1\\x81\\xd0\\xba\\xd0\\xb8\\xd0\\xb5 \\xd0\\xb8\\xd0\\xbd\\xd1\\x82\\xd0\\xb5\\xd1\\x80\\xd1\\x8c\\xd0\\xb5\\xd1\\x80\\xd1\\x8b, \\xd1\\x81\\xd0\\xb2\\xd0\\xbe\\xd0\\xb4\\xd1\\x8f\\xd1\\x89\\xd0\\xb8\\xd0\\xb5 \\xd0\\xb8\\xd0\\xbd\\xd0\\xbe\\xd1\\x81\\xd1\\x82\\xd1\\x80\\xd0\\xb0\\xd0\\xbd\\xd1\\x86\\xd0\\xb5\\xd0\\xb2 \\xd1\\x81&nbsp;\\xd1\\x83\\xd0\\xbc\\xd0\\xb0</div></div><div class=\"b-tabloid__topic article\" data-partslug=\"text\"><a class=\"js-dh\" target=\"_blank\" href=\"http://dom.lenta.ru/articles/2017/04/21/ukraninan3dhouses/?utm_source=from_lenta\"><img alt=\"\" class=\"g-picture\" style=\"max-width: 96px; width: 96px; height: 64px;\" src=\"https://icdn.lenta.ru/images/2017/04/20/16/20170420165853101/tabloid_bb0c195862341a973d980a130693cec4.jpg\" width=\"96\" height=\"64\" /></a><a class=\"b-tabloid__headline js-dh\" target=\"_blank\" href=\"http://dom.lenta.ru/articles/2017/04/21/ukraninan3dhouses/?utm_source=from_lenta\">\\xd0\\x97\\xd0\\xb0\\xd0\\xb2\\xd0\\xb8\\xd1\\x81\\xd0\\xbb\\xd0\\xb8 \\xd0\\xbd\\xd0\\xb0&nbsp;\\xd1\\x85\\xd0\\xb0\\xd1\\x82\\xd0\\xb5</a><div class=\"rightcol\">\\xd0\\xa3\\xd0\\xba\\xd1\\x80\\xd0\\xb0\\xd0\\xb8\\xd0\\xbd\\xd1\\x86\\xd1\\x8b \\xd0\\xbf\\xd1\\x80\\xd0\\xb8\\xd0\\xb4\\xd1\\x83\\xd0\\xbc\\xd0\\xb0\\xd0\\xbb\\xd0\\xb8 \\xd0\\xb4\\xd0\\xbe\\xd0\\xbc, \\xd0\\xba\\xd0\\xbe\\xd1\\x82\\xd0\\xbe\\xd1\\x80\\xd1\\x8b\\xd0\\xb9 \\xd0\\xbc\\xd0\\xbe\\xd0\\xb6\\xd0\\xb5\\xd1\\x82 \\xd0\\xbe\\xd0\\xb1\\xd0\\xbe\\xd0\\xb9\\xd1\\x82\\xd0\\xb8\\xd1\\x81\\xd1\\x8c \\xd0\\xb1\\xd0\\xb5\\xd0\\xb7 \\xd1\\x80\\xd0\\xbe\\xd1\\x81\\xd1\\x81\\xd0\\xb8\\xd0\\xb9\\xd1\\x81\\xd0\\xba\\xd0\\xbe\\xd0\\xb3\\xd0\\xbe \\xd0\\xb3\\xd0\\xb0\\xd0\\xb7\\xd0\\xb0</div></div><div class=\"b-tabloid__topic article\" data-partslug=\"text\"><a class=\"js-dh\" target=\"_blank\" href=\"http://dom.lenta.ru/articles/2017/04/26/3millionoffers/?utm_source=from_lenta\"><img alt=\"\" class=\"g-picture\" style=\"max-width: 96px; width: 96px; height: 64px;\" src=\"https://icdn.lenta.ru/images/2017/04/25/15/20170425153819566/tabloid_ca091df8f44ec1023af3ea7a5520fc62.jpg\" width=\"96\" height=\"64\" /></a><a class=\"b-tabloid__headline js-dh\" target=\"_blank\" href=\"http://dom.lenta.ru/articles/2017/04/26/3millionoffers/?utm_source=from_lenta\">\\xd0\\x9c\\xd0\\xbe\\xd1\\x81\\xd0\\xba\\xd0\\xb2\\xd0\\xb0 \\xd0\\xb7\\xd0\\xb0&nbsp;\\xd0\\xbd\\xd0\\xb0\\xd0\\xbc\\xd0\\xb8</a><div class=\"rightcol\">\\xd0\\x9a\\xd0\\xb0\\xd0\\xba\\xd0\\xb8\\xd0\\xb5 \\xd0\\xba\\xd0\\xb2\\xd0\\xb0\\xd1\\x80\\xd1\\x82\\xd0\\xb8\\xd1\\x80\\xd1\\x8b \\xd0\\xbc\\xd0\\xbe\\xd0\\xb6\\xd0\\xbd\\xd0\\xbe \\xd0\\xba\\xd1\\x83\\xd0\\xbf\\xd0\\xb8\\xd1\\x82\\xd1\\x8c \\xd0\\xb2&nbsp;\\xd0\\xbf\\xd1\\x80\\xd0\\xb5\\xd0\\xb4\\xd0\\xb5\\xd0\\xbb\\xd0\\xb0\\xd1\\x85 \\xd0\\x9c\\xd0\\x9a\\xd0\\x90\\xd0\\x94 \\xd0\\xbf\\xd0\\xbe&nbsp;\\xd1\\x86\\xd0\\xb5\\xd0\\xbd\\xd0\\xb5 \\xd0\\xb4\\xd0\\xbe&nbsp;\\xd1\\x82\\xd1\\x80\\xd0\\xb5\\xd1\\x85 \\xd0\\xbc\\xd0\\xb8\\xd0\\xbb\\xd0\\xbb\\xd0\\xb8\\xd0\\xbe\\xd0\\xbd\\xd0\\xbe\\xd0\\xb2 \\xd1\\x80\\xd1\\x83\\xd0\\xb1\\xd0\\xbb\\xd0\\xb5\\xd0\\xb9</div></div><div class=\"b-tabloid__topic news b-tabloid__topic_news\"><a target=\"_blank\" href=\"http://dom.lenta.ru/news/2017/05/14/saratovforum/?utm_source=from_lenta\">\\xd0\\x9d\\xd0\\xb0\\xd0\\xb9\\xd0\\xb4\\xd0\\xb5\\xd0\\xbd \\xd1\\x80\\xd0\\xb5\\xd0\\xb3\\xd0\\xb8\\xd0\\xbe\\xd0\\xbd \\xd0\\xa0\\xd0\\xbe\\xd1\\x81\\xd1\\x81\\xd0\\xb8\\xd0\\xb8 \\xd1\\x81&nbsp;\\xd1\\x81\\xd0\\xb0\\xd0\\xbc\\xd0\\xbe\\xd0\\xb9 \\xd0\\xba\\xd0\\xbe\\xd0\\xbc\\xd1\\x84\\xd0\\xbe\\xd1\\x80\\xd1\\x82\\xd0\\xbd\\xd0\\xbe\\xd0\\xb9 \\xd1\\x81\\xd1\\x80\\xd0\\xb5\\xd0\\xb4\\xd0\\xbe\\xd0\\xb9</a></div><div class=\"b-tabloid__topic article\" data-partslug=\"text\"><a class=\"js-dh\" target=\"_blank\" href=\"http://dom.lenta.ru/articles/2017/04/11/demolition/?utm_source=from_lenta\"><img alt=\"\" class=\"g-picture\" style=\"max-width: 96px; width: 96px; height: 64px;\" src=\"https://icdn.lenta.ru/images/2017/04/10/18/20170410184910098/tabloid_07b3f03f3e60bf41c3d4737bf45ef778.jpg\" width=\"96\" height=\"64\" /></a><a class=\"b-tabloid__headline js-dh\" target=\"_blank\" href=\"http://dom.lenta.ru/articles/2017/04/11/demolition/?utm_source=from_lenta\">\\xd0\\xa1\\xd0\\xbd\\xd0\\xbe\\xd1\\x81\\xd0\\xbd\\xd0\\xbe\\xd0\\xb5 \\xd0\\xbd\\xd0\\xb0\\xd1\\x81\\xd1\\x82\\xd1\\x80\\xd0\\xbe\\xd0\\xb5\\xd0\\xbd\\xd0\\xb8\\xd0\\xb5</a><div class=\"rightcol\">\\xd0\\x94\\xd0\\xb5\\xd0\\xbc\\xd0\\xbe\\xd0\\xbd\\xd1\\x82\\xd0\\xb0\\xd0\\xb6 \\xd0\\xb6\\xd0\\xb8\\xd0\\xbb\\xd1\\x8b\\xd1\\x85 \\xd0\\xb4\\xd0\\xbe\\xd0\\xbc\\xd0\\xbe\\xd0\\xb2 \\xd0\\xb2&nbsp;\\xd0\\x9c\\xd0\\xbe\\xd1\\x81\\xd0\\xba\\xd0\\xb2\\xd0\\xb5: \\xd1\\x87\\xd1\\x82\\xd0\\xbe \\xd0\\xbd\\xd1\\x83\\xd0\\xb6\\xd0\\xbd\\xd0\\xbe \\xd0\\xb7\\xd0\\xbd\\xd0\\xb0\\xd1\\x82\\xd1\\x8c</div></div><div class=\"b-tabloid__topic article\" data-partslug=\"photo\"><a class=\"js-dh\" target=\"_blank\" href=\"http://dom.lenta.ru/photo/2017/04/14/falconnest/?utm_source=from_lenta\"><img alt=\"\" class=\"g-picture\" style=\"max-width: 96px; width: 96px; height: 64px;\" src=\"https://icdn.lenta.ru/images/2017/04/13/14/20170413140243622/tabloid_e42be63e1bf444584f2533f8e974c0f7.jpg\" width=\"96\" height=\"64\" /></a><a class=\"b-tabloid__headline js-dh\" target=\"_blank\" href=\"http://dom.lenta.ru/photo/2017/04/14/falconnest/?utm_source=from_lenta\">\\xd0\\x92\\xd1\\x8b\\xd1\\x88\\xd0\\xba\\xd0\\xb0 \\xd1\\x81\\xd0\\xb2\\xd0\\xb5\\xd1\\x82\\xd0\\xb8\\xd1\\x82</a><div class=\"rightcol\">\\xd0\\x9a\\xd0\\xb0\\xd0\\xba \\xd0\\xb2\\xd1\\x8b\\xd0\\xb3\\xd0\\xbb\\xd1\\x8f\\xd0\\xb4\\xd0\\xb8\\xd1\\x82 \\xd1\\x87\\xd0\\xb0\\xd1\\x81\\xd1\\x82\\xd0\\xbd\\xd1\\x8b\\xd0\\xb9 \\xd0\\xbe\\xd1\\x81\\xd0\\xbe\\xd0\\xb1\\xd0\\xbd\\xd1\\x8f\\xd0\\xba, \\xd0\\xbf\\xd0\\xbe\\xd0\\xb1\\xd0\\xb8\\xd0\\xb2\\xd1\\x88\\xd0\\xb8\\xd0\\xb9 \\xd0\\xbc\\xd0\\xb8\\xd1\\x80\\xd0\\xbe\\xd0\\xb2\\xd0\\xbe\\xd0\\xb9 \\xd1\\x80\\xd0\\xb5\\xd0\\xba\\xd0\\xbe\\xd1\\x80\\xd0\\xb4 \\xd1\\x8d\\xd1\\x82\\xd0\\xb0\\xd0\\xb6\\xd0\\xbd\\xd0\\xbe\\xd1\\x81\\xd1\\x82\\xd0\\xb8</div></div><div class=\"b-tabloid__topic news b-tabloid__topic_news\"><a target=\"_blank\" href=\"http://dom.lenta.ru/news/2017/05/14/speck/?utm_source=from_lenta\">\\xd0\\xa3\\xd1\\x80\\xd0\\xb1\\xd0\\xb0\\xd0\\xbd\\xd0\\xb8\\xd1\\x81\\xd1\\x82 \\xd0\\x94\\xd0\\xb6\\xd0\\xb5\\xd1\\x84 \\xd0\\xa1\\xd0\\xbf\\xd0\\xb5\\xd0\\xba \\xd0\\xbf\\xd0\\xbe\\xd0\\xbe\\xd0\\xb1\\xd0\\xb5\\xd1\\x89\\xd0\\xb0\\xd0\\xbb \\xd1\\x81\\xd0\\xb4\\xd0\\xb5\\xd0\\xbb\\xd0\\xb0\\xd1\\x82\\xd1\\x8c \\xd0\\xb3\\xd0\\xbe\\xd1\\x80\\xd0\\xbe\\xd0\\xb4\\xd0\\xb0 \\xd0\\xbf\\xd0\\xb5\\xd1\\x88\\xd0\\xb5\\xd1\\x85\\xd0\\xbe\\xd0\\xb4\\xd0\\xbd\\xd1\\x8b\\xd0\\xbc\\xd0\\xb8</a></div></div><div class=\"b-tabloid__more\"><a href=\"/rubrics/realty/\">\\xd0\\x92\\xd1\\x81\\xd0\\xb5 \\xd0\\xbc\\xd0\\xb0\\xd1\\x82\\xd0\\xb5\\xd1\\x80\\xd0\\xb8\\xd0\\xb0\\xd0\\xbb\\xd1\\x8b</a></div></div></div><div id=\"context_3\"></div></div></section><div id=\"root_footer\"></div></div><footer class=\"b-footer js-footer\" id=\"footer\"><div class=\"g-layout\">  <div class=\"b-footer__counters\">\\n    <span class=\"b-footer__counter b-footer__counter_liveinternet\" id=\"liveinternet-counter\"></span>\\n  </div>\\n\\n  <!-- Google Tag Manager -->\\n\\n  <!-- temporarily disabled, see more: https://jira.rambler-co.ru/browse/LENTA-909 -->\\n  <!-- <noscript><iframe src=\"//www.googletagmanager.com/ns.html?id=GTM-P87FV5\"\\n  height=\"0\" width=\"0\" style=\"display:none;visibility:hidden\"></iframe></noscript>\\n  <script>(function(w,d,s,l,i){w[l]=w[l]||[];w[l].push({\\'gtm.start\\':\\n  new Date().getTime(),event:\\'gtm.js\\'});var f=d.getElementsByTagName(s)[0],\\n  j=d.createElement(s),dl=l!=\\'dataLayer\\'?\\'&l=\\'+l:\\'\\';j.async=true;j.src=\\n  \\'//www.googletagmanager.com/gtm.js?id=\\'+i+dl;f.parentNode.insertBefore(j,f);\\n  })(window,document,\\'script\\',\\'dataLayer\\',\\'GTM-P87FV5\\');</script> -->\\n\\n  <noscript><iframe src=\"https://www.googletagmanager.com/ns.html?id=GTM-PBTC88Q\"\\n  height=\"0\" width=\"0\" style=\"display:none;visibility:hidden\"></iframe></noscript>\\n  <script>(function(w,d,s,l,i){w[l]=w[l]||[];w[l].push({\\'gtm.start\\':\\n  new Date().getTime(),event:\\'gtm.js\\'});var f=d.getElementsByTagName(s)[0],\\n  j=d.createElement(s),dl=l!=\\'dataLayer\\'?\\'&l=\\'+l:\\'\\';j.async=true;j.src=\\n  \\'//www.googletagmanager.com/gtm.js?id=\\'+i+dl;f.parentNode.insertBefore(j,f);\\n  })(window,document,\\'script\\',\\'dataLayer\\',\\'GTM-PBTC88Q\\');</script>\\n  <!-- End Google Tag Manager -->\\n\\n  <noscript><img src=\"//www.tns-counter.ru/V13a****rambler_ru/ru/UTF-8/tmsec=lenta_other/\" width=\"0\" height=\"0\" alt=\"\" /></noscript>\\n\\n  <!-- Yandex.Metrika counter -->\\n  <script type=\"text/javascript\">\\n    (function (d, w, c) {\\n      (w[c] = w[c] || []).push(function() {\\n        try {\\n          w.yaCounter27714477 = new Ya.Metrika({\\n            id:27714477,\\n            clickmap:true,\\n            trackLinks:true,\\n            accurateTrackBounce:true\\n          });\\n        } catch(e) { }\\n      });\\n\\n      var n = d.getElementsByTagName(\"script\")[0],\\n        s = d.createElement(\"script\"),\\n        f = function () { n.parentNode.insertBefore(s, n); };\\n      s.type = \"text/javascript\";\\n      s.async = true;\\n      s.src = (d.location.protocol == \"https:\" ? \"https:\" : \"http:\") + \"//mc.yandex.ru/metrika/watch.js\";\\n\\n      if (w.opera == \"[object Opera]\") {\\n        d.addEventListener(\"DOMContentLoaded\", f, false);\\n      } else { f(); }\\n    })(document, window, \"yandex_metrika_callbacks\");\\n  </script>\\n  <noscript><div><img src=\"//mc.yandex.ru/watch/27714477\" style=\"position:absolute; left:-9999px;\" alt=\"\" /></div></noscript>\\n  <!-- /Yandex.Metrika counter -->\\n\\n  <!-- Top100 (Kraken) Counter -->\\n  <script>\\n    var PROJECT_ID = 80674;\\n    (function (w, d, c) {\\n      (w[c] = w[c] || []).push(function() {\\n        var options = {\\n          project: PROJECT_ID,\\n          chapters: [\"\\xd0\\x93\\xd0\\xbb\\xd0\\xb0\\xd0\\xb2\\xd0\\xbd\\xd0\\xb0\\xd1\\x8f_\\xd1\\x81\\xd1\\x82\\xd1\\x80\\xd0\\xb0\\xd0\\xbd\\xd0\\xb8\\xd1\\x86\\xd0\\xb0\",\"\\xd0\\xa1\\xd1\\x82\\xd1\\x80\\xd0\\xb0\\xd0\\xbd\\xd0\\xb8\\xd1\\x86\\xd0\\xb0_\\xd0\\xbf\\xd0\\xbe\\xd0\\xb4\\xd1\\x80\\xd0\\xb0\\xd0\\xb7\\xd0\\xb4\\xd0\\xb5\\xd0\\xbb\\xd0\\xb0\",\"lenta.ru\"], // Chapters \\xd1\\x81\\xd1\\x82\\xd1\\x80\\xd0\\xb0\\xd0\\xbd\\xd0\\xb8\\xd1\\x86\\xd1\\x8b\\n        };\\n        try {\\n          w.top100Counter = new top100(options);\\n        } catch(e) { }\\n      });\\n\\n      var n = d.getElementsByTagName(\"script\")[0],\\n          s = d.createElement(\"script\"),\\n          f = function () { n.parentNode.insertBefore(s, n); };\\n      s.type = \"text/javascript\";\\n      s.async = true;\\n      s.src =\\n          (d.location.protocol == \"https:\" ? \"https:\" : \"http:\") +\\n          \"//st.top100.ru/top100/top100.js\";\\n\\n      if (w.opera == \"[object Opera]\") {\\n        d.addEventListener(\"DOMContentLoaded\", f, false);\\n      } else { f(); }\\n    })(window, document, \"_top100q\");\\n  </script>\\n  <noscript><img src=\"//counter.rambler.ru/top100.cnt?pid=80674\"></noscript>\\n  <!-- END Top100 (Kraken) Counter -->\\n\\n  <script type=\"text/javascript\">\\n\\n  function catchOutboundClick(link) {\\n      link.onclick = function(e){\\n        trackOutboundLink(link, \"Outbound Links\", link.hostname);\\n      }\\n  }\\n\\n  function trackOutboundLink(link, category, action) {\\n    try {\\n      ga(\\'send\\', {\\n        \\'hitType\\': \\'event\\',\\n        \\'eventCategory\\': category,\\n        \\'eventAction\\': action\\n      });\\n    } catch(err){}\\n  }\\n\\n  var outRe = new RegExp(\\'^http:\\\\/\\\\/.+$\\',\\'i\\');\\n  var inRe = new RegExp(\\'^http:\\\\/\\\\/\\'+location.hostname.replace(\"www.\", \"\")+\\'.+$\\',\\'i\\');\\n  var links = document.getElementsByTagName(\"a\");\\n\\n  for (var i = 0; i < links.length; i++) {\\n    var link = links[i];\\n    if (outRe.test(link.href) && !inRe.test(link.href)){\\n      catchOutboundClick(link);\\n    }\\n  }\\n  </script>\\n<div class=\"b-footer__versions js-footer__versions\"><div class=\"b-footer__mobile\"><a class=\"b-footer__mobile-link\" href=\"https://m.lenta.ru/\"><svg class=\"b-footer__mobile-icon\"><use xlink:href=\"#ui-phone\"></use></svg><span class=\"b-footer__mobile-label\">\\xd0\\x9c\\xd0\\xbe\\xd0\\xb1\\xd0\\xb8\\xd0\\xbb\\xd1\\x8c\\xd0\\xbd\\xd0\\xb0\\xd1\\x8f \\xd0\\xb2\\xd0\\xb5\\xd1\\x80\\xd1\\x81\\xd0\\xb8\\xd1\\x8f</span></a></div><div class=\"b-footer__orphus\"><a class=\"b-footer__orphus-shadow\" href=\"//orphus.ru\" id=\"orphus\" target=\"_blank\"><img src=\"https://icdn.lenta.ru/assets/webpack/images/07fff40b5dd495aca2ac4e1c3fbc60aa.orphus.gif\" alt=\"07fff40b5dd495aca2ac4e1c3fbc60aa.orphus\" width=\"88\" height=\"31\" /></a><a target=\"_blank\" class=\"b-footer__orphus-link\" href=\"//orphus.ru\"><svg class=\"b-footer__orphus-icon\"><use xlink:href=\"#ui-orphus\"></use></svg><div class=\"b-footer__orphus-label\"><div class=\"b-footer__orphus-strong\">\\xd0\\x9d\\xd0\\xb0\\xd1\\x88\\xd0\\xbb\\xd0\\xb8 \\xd0\\xbe\\xd0\\xbf\\xd0\\xb5\\xd1\\x87\\xd0\\xb0\\xd1\\x82\\xd0\\xba\\xd1\\x83?</div><br/>Orphus: Ctrl+Enter</div></a></div></div><div class=\"b-footer__menu js-footer__menu\"><div class=\"b-footer__socials\"><a target=\"_blank\" class=\"b-footer__socials-link\" href=\"http://facebook.com/lenta.ru\"><svg class=\"b-socials__icon_fb b-footer__socials-icon\"><use xlink:href=\"#ui-social-fb_sm\"></use></svg></a><a target=\"_blank\" class=\"b-footer__socials-link\" href=\"http://twitter.com/lentaruofficial\"><svg class=\"b-socials__icon_tw b-footer__socials-icon\"><use xlink:href=\"#ui-social-tw_sm\"></use></svg></a><a target=\"_blank\" class=\"b-footer__socials-link\" href=\"http://vk.com/lentaru\"><svg class=\"b-socials__icon_vk b-footer__socials-icon\"><use xlink:href=\"#ui-social-vk_sm\"></use></svg></a><a target=\"_blank\" class=\"b-footer__socials-link\" href=\"https://ok.ru/lentaru/topics\"><svg class=\"b-socials__icon_ok b-footer__socials-icon\"><use xlink:href=\"#ui-social-ok_sm\"></use></svg></a><a class=\"b-footer__socials-link\" href=\"/rss\"><svg class=\"b-socials__icon_rss b-footer__socials-icon\"><use xlink:href=\"#ui-social-rss_sm\"></use></svg></a><a target=\"_blank\" class=\"b-footer__socials-link\" href=\"http://www.youtube.com/channel/UCfqU-kKXq868D6d4fy8fhkA\"><svg class=\"b-socials__icon_yb b-footer__socials-icon\"><use xlink:href=\"#ui-social-yb_sm\"></use></svg></a></div><div class=\"b-footer__links\"><a href=\"/info/\">\\xd0\\xa0\\xd0\\xb5\\xd0\\xb4\\xd0\\xb0\\xd0\\xba\\xd1\\x86\\xd0\\xb8\\xd1\\x8f</a><a href=\"/info/posts/sales\">\\xd0\\xa0\\xd0\\xb5\\xd0\\xba\\xd0\\xbb\\xd0\\xb0\\xd0\\xbc\\xd0\\xb0</a><a href=\"/parts/pressreleases/\">\\xd0\\x9f\\xd1\\x80\\xd0\\xb5\\xd1\\x81\\xd1\\x81-\\xd1\\x80\\xd0\\xb5\\xd0\\xbb\\xd0\\xb8\\xd0\\xb7\\xd1\\x8b</a><a href=\"mailto:it@lenta-co.ru\">\\xd0\\xa2\\xd0\\xb5\\xd1\\x85\\xd0\\xbf\\xd0\\xbe\\xd0\\xb4\\xd0\\xb4\\xd0\\xb5\\xd1\\x80\\xd0\\xb6\\xd0\\xba\\xd0\\xb0</a><a href=\"/specprojects/\">\\xd0\\xa1\\xd0\\xbf\\xd0\\xb5\\xd1\\x86\\xd0\\xbf\\xd1\\x80\\xd0\\xbe\\xd0\\xb5\\xd0\\xba\\xd1\\x82\\xd1\\x8b</a><a target=\"_blank\" href=\"http://rambler-co.ru/jobs\">\\xd0\\x92\\xd0\\xb0\\xd0\\xba\\xd0\\xb0\\xd0\\xbd\\xd1\\x81\\xd0\\xb8\\xd0\\xb8</a></div><div class=\"b-footer__copyrights\">&copy; 1999&ndash;2017 \\xd0\\x9e\\xd0\\x9e\\xd0\\x9e \\xc2\\xab\\xd0\\x9b\\xd0\\xb5\\xd0\\xbd\\xd1\\x82\\xd0\\xb0.\\xd0\\xa0\\xd1\\x83\\xc2\\xbb.</div></div></div></footer><div id=\"s_code\"></div><script>// prepare lenta global object\\nwindow.Lenta = {\"kind\":\"archive\",\"type\":false,\"title_prefix\":false,\"bloc_slug\":false,\"tag_slug\":false,\"part_slug\":false,\"adfox\":{\"megaboard\":{\"id\":\"ban_380x600\",\"name\":\"ban_380x600\",\"function\":\"ssp\",\"arguments\":[\"ban_380x600\",{\"p1\":\"bmdxx\",\"p2\":\"ewtp\",\"pct\":\"a\",\"puid6\":\"LENTA_ARCHIVE\",\"puid18\":\"LENTA_ARCHIVE_MAIN\",\"puid48\":null,\"puid49\":null,\"criteo\":null,\"pli\":null,\"plp\":null,\"pop\":null},{\"begun-block-id\":432172884,\"begun-auto-pad\":432172862},\"b-banner__content\"]}}};\\n\\n\\n// define global variables\\nwindow._settings.env = \"production\";\\nwindow._settings.domain = \"lenta.ru\";\\nwindow._settings.kind = \"archive\";\\nwindow._settings.type = false;\\n\\n// prepare frontend application settings\\nwindow._settings.raven = {\\n  enable: true,\\n  dsn: \"http://5a97a9ce522f47fe91a64ef8cf9701ee@sentry01.zerg.rambler.ru/35\",\\n  config: {\\n    tags: {\\n      environment: \"production\"\\n    }\\n  }\\n};\\n\\nwindow._settings.components.counters = {\\n  enabled: true,\\n  slug_tns: {\"main\":\"lenta_main\",\"business\":\"lenta_business\",\"culture\":\"lenta_culture\",\"economics\":\"lenta_economy\",\"forces\":\"lenta_forces\",\"infographics\":\"lenta_infographics\",\"lentadoc\":\"lenta_story\",\"library\":\"lenta_library\",\"life\":\"lenta_oddly\",\"media\":\"lenta_most\",\"photo\":\"lenta_photo\",\"russia\":\"lenta_russia\",\"science\":\"lenta_science\",\"sport\":\"lenta_sport\",\"text\":\"lenta_text\",\"ussr\":\"lenta_xussr\",\"video\":\"lenta_video\",\"world\":\"lenta_world\",\"style\":\"lenta_value\",\"travel\":\"lenta_travel\"},\\n  bloc_slug: Lenta.bloc_slug,\\n  part_slug: Lenta.part_slug\\n};\\n\\nwindow._settings.components.pushwoosh = {\\n  applicationCode: \"9DFAF-1B532\",\\n  logLevel: \"info\"\\n};\\n\\nwindow._settings.modules.advert = window._settings.modules.advert || {};\\nwindow._settings.modules.advert.partners = {\\n  criteo: {\\n    id: 3158\\n  }\\n};\\nwindow._settings.modules.advert.banners = {\"ssp\":{\"ban_billboard\":[\"ban_billboard\",{\"p1\":\"brynh\",\"p2\":\"y\",\"pct\":\"c\",\"puid6\":\"LENTA_ARCHIVE\",\"puid18\":\"LENTA_ARCHIVE_MAIN\",\"puid48\":null,\"puid49\":null,\"criteo\":null,\"pli\":null,\"plp\":null,\"pop\":null},{\"begun-block-id\":432172886,\"begun-auto-pad\":432172862},\"b-banner__content\"]},\"sspScroll\":{\"context_1\":[\"context_1\",{\"p1\":\"bujkh\",\"p2\":\"ewzc\",\"pct\":\"a\",\"puid6\":\"LENTA_ARCHIVE\",\"puid18\":\"LENTA_ARCHIVE_MAIN\",\"puid48\":null,\"puid49\":1,\"criteo\":null,\"pli\":null,\"plp\":null,\"pop\":null},{\"begun-block-id\":432172892,\"begun-auto-pad\":432172862},\"b-banner__tabloid\"],\"context_2\":[\"context_2\",{\"p1\":\"bujkh\",\"p2\":\"ewzc\",\"pct\":\"a\",\"puid6\":\"LENTA_ARCHIVE\",\"puid18\":\"LENTA_ARCHIVE_MAIN\",\"puid48\":null,\"puid49\":2,\"criteo\":null,\"pli\":null,\"plp\":null,\"pop\":null},{\"begun-block-id\":432172892,\"begun-auto-pad\":432172862},\"b-banner__tabloid\"],\"context_3\":[\"context_3\",{\"p1\":\"bujkh\",\"p2\":\"ewzc\",\"pct\":\"a\",\"puid6\":\"LENTA_ARCHIVE\",\"puid18\":\"LENTA_ARCHIVE_MAIN\",\"puid48\":null,\"puid49\":3,\"criteo\":null,\"pli\":null,\"plp\":null,\"pop\":null},{\"begun-block-id\":432172892,\"begun-auto-pad\":432172862},\"b-banner__tabloid\"]},\"show\":{\"s_code\":[\"s_code\",{\"p1\":\"bnskj\",\"p2\":\"exqv\",\"pct\":\"a\",\"puid6\":\"LENTA_ARCHIVE\",\"puid18\":\"LENTA_ARCHIVE_MAIN\",\"puid48\":null,\"puid49\":null,\"criteo\":null,\"pli\":null,\"plp\":null,\"pop\":null},\"\"]}};</script><script>(function(i,s,o,g,r,a,m){i[\\'GoogleAnalyticsObject\\']=r;i[r]=i[r]||function(){\\n(i[r].q=i[r].q||[]).push(arguments)},i[r].l=1*new Date();a=s.createElement(o),\\nm=s.getElementsByTagName(o)[0];a.async=1;a.src=g;m.parentNode.insertBefore(a,m)\\n})(window,document,\\'script\\',\\'//www.google-analytics.com/analytics.js\\',\\'ga\\');\\n\\nga(\\'create\\', \\'UA-18447330-66\\', \\'auto\\');\\nga(\\'require\\', \\'displayfeatures\\');\\nga(\\'send\\', \\'pageview\\');</script><div class=\"b-banner b-banner_branding js-banner-megaboard\" id=\"advert-branding\"></div><iframe bordercolor=\"#000000\" frameborder=\"0\" height=\"1\" hspace=\"0\" marginheight=\"0\" marginwidth=\"0\" scrolling=\"no\" src=\"https://awaps.yandex.ru/0/9947/001001.htm\" style=\"left: -9999px; position: absolute;\" vspace=\"0\" width=\"1\"></iframe><script src=\"https://cdn.onthe.io/io.js?nsddKHekcmRQ\" async=\"async\"></script></body></html>'"
      ]
     },
     "execution_count": 314,
     "metadata": {},
     "output_type": "execute_result"
    }
   ],
   "source": [
    "news_page"
   ]
  },
  {
   "cell_type": "code",
   "execution_count": 315,
   "metadata": {
    "collapsed": false
   },
   "outputs": [],
   "source": [
    "news_page = BeautifulSoup(news_page, 'lxml')"
   ]
  },
  {
   "cell_type": "code",
   "execution_count": null,
   "metadata": {
    "collapsed": true
   },
   "outputs": [],
   "source": []
  },
  {
   "cell_type": "code",
   "execution_count": 316,
   "metadata": {
    "collapsed": false
   },
   "outputs": [
    {
     "name": "stdout",
     "output_type": "stream",
     "text": [
      "<h3><a href=\"/columns/2017/01/11/soares_obituary/\"><span>Человек перехода</span></a></h3>\n"
     ]
    }
   ],
   "source": [
    "print(news_page.find('h3', attrs = {'class':\"\"}))"
   ]
  },
  {
   "cell_type": "code",
   "execution_count": 317,
   "metadata": {
    "collapsed": false
   },
   "outputs": [
    {
     "data": {
      "text/plain": [
       "<h3><a href=\"/columns/2017/01/11/soares_obituary/\"><span>Человек перехода</span></a></h3>"
      ]
     },
     "execution_count": 317,
     "metadata": {},
     "output_type": "execute_result"
    }
   ],
   "source": [
    "ssylka = news_page.find('h3', attrs = {'class':\"\"})\n",
    "ssylka"
   ]
  },
  {
   "cell_type": "code",
   "execution_count": 318,
   "metadata": {
    "collapsed": false
   },
   "outputs": [
    {
     "data": {
      "text/plain": [
       "'<h3><a href=\"/columns/2017/01/11/soares_obituary/\"><span>Человек перехода</span></a></h3>'"
      ]
     },
     "execution_count": 318,
     "metadata": {},
     "output_type": "execute_result"
    }
   ],
   "source": [
    "str(ssylka)"
   ]
  },
  {
   "cell_type": "code",
   "execution_count": 319,
   "metadata": {
    "collapsed": false
   },
   "outputs": [
    {
     "data": {
      "text/plain": [
       "'Человек перехода'"
      ]
     },
     "execution_count": 319,
     "metadata": {},
     "output_type": "execute_result"
    }
   ],
   "source": [
    "re.sub('<[^<]+?>', '', str(ssylka))"
   ]
  },
  {
   "cell_type": "code",
   "execution_count": 323,
   "metadata": {
    "collapsed": false
   },
   "outputs": [
    {
     "data": {
      "text/plain": [
       "'/columns/2017/01/11/soares_obituary/'"
      ]
     },
     "execution_count": 323,
     "metadata": {},
     "output_type": "execute_result"
    }
   ],
   "source": [
    "re.split('\"', str(ssylka))[1]"
   ]
  },
  {
   "cell_type": "code",
   "execution_count": 324,
   "metadata": {
    "collapsed": true
   },
   "outputs": [],
   "source": [
    "def html_stripper(text):\n",
    "    return re.sub('<[^<]+?>', '', str(text)) # очень крутые регулярные выражения - убирают все скобочки, тэги и прочую ерунду"
   ]
  },
  {
   "cell_type": "code",
   "execution_count": 325,
   "metadata": {
    "collapsed": false,
    "scrolled": true
   },
   "outputs": [
    {
     "name": "stdout",
     "output_type": "stream",
     "text": [
      "/columns/2017/01/11/soares_obituary/\n",
      "/news/2017/01/11/reactor_aes_belgia/\n",
      "/news/2017/01/11/dilan_ruf_smertnaya_kazn/\n",
      "/news/2017/01/11/synopsis/\n",
      "/news/2017/01/11/reports/\n",
      "/news/2017/01/11/trumpcomment/\n",
      "/news/2017/01/11/obama/\n",
      "/news/2017/01/11/tillerson_senate/\n",
      "/news/2017/01/11/zasterlil_vooruzh_grab_mableton/\n",
      "/news/2017/01/11/no_credibility/\n",
      "/news/2017/01/11/ciafsbtalks/\n",
      "/news/2017/01/11/ambassador_wounded/\n",
      "/news/2017/01/11/against_assad/\n",
      "/news/2017/01/11/migrants_quotas/\n",
      "/news/2017/01/11/francepoliceradicalisation/\n",
      "/news/2017/01/11/samsung_suspected/\n",
      "/news/2017/01/11/italyimams/\n",
      "/news/2017/01/11/trump_rating/\n",
      "/news/2017/01/11/unicefstatistics/\n",
      "/news/2017/01/11/canadamidchef/\n",
      "/news/2017/01/11/no_nothing/\n",
      "/news/2017/01/11/trump_nazi/\n",
      "/news/2017/01/11/germanyrefugees/\n",
      "/news/2017/01/11/spainparentsfraud/\n",
      "/news/2017/01/11/breivik_half_million/\n",
      "/news/2017/01/11/njet_molotoff/\n",
      "/news/2017/01/11/robbers_china/\n",
      "/news/2017/01/11/trump_putin/\n",
      "/news/2017/01/11/clapper/\n",
      "/news/2017/01/11/no_reset_thanks/\n",
      "/news/2017/01/11/tillerson_/\n",
      "/news/2017/01/11/ernest/\n"
     ]
    }
   ],
   "source": [
    "for newshead in news_page.findAll('h3', attrs = {'class':\"\"}):\n",
    "    print(re.split('\"', str(newshead))[1])"
   ]
  },
  {
   "cell_type": "code",
   "execution_count": 326,
   "metadata": {
    "collapsed": false
   },
   "outputs": [],
   "source": [
    "\n",
    "links_day = [str(main_url + data + re.split('\"', str(newshead))[1]) for newshead in news_page.findAll('h3', attrs = {'class':\"\"})]"
   ]
  },
  {
   "cell_type": "code",
   "execution_count": 272,
   "metadata": {
    "collapsed": false
   },
   "outputs": [],
   "source": [
    "days_list = [str(main_url + datelist[i]) for i in range(len(datelist))]"
   ]
  },
  {
   "cell_type": "code",
   "execution_count": 273,
   "metadata": {
    "collapsed": false,
    "scrolled": false
   },
   "outputs": [],
   "source": [
    "#collecting links for articles at one day\n",
    "days_list[0]\n",
    "news_page = requests.get(main_url + str(data))\n",
    "news_page = news_page.content"
   ]
  },
  {
   "cell_type": "code",
   "execution_count": 297,
   "metadata": {
    "collapsed": false
   },
   "outputs": [],
   "source": [
    "#collecting links for articles at one day\n",
    "days_list[0]\n",
    "news_page = requests.get(main_url + str(data))\n",
    "news_page = news_page.content"
   ]
  },
  {
   "cell_type": "code",
   "execution_count": 274,
   "metadata": {
    "collapsed": true
   },
   "outputs": [],
   "source": [
    "news_url = 'https://lenta.ru'"
   ]
  },
  {
   "cell_type": "code",
   "execution_count": 298,
   "metadata": {
    "collapsed": false
   },
   "outputs": [],
   "source": [
    "# Collecting links for all articles in one list of lists\n",
    "links_day = []\n",
    "all_links = []\n",
    "for i in range(len(days_list)):\n",
    "    \n",
    "    news_page_c = requests.get(days_list[i])\n",
    "    news_page_c = news_page_c.content\n",
    "    news_page_c = BeautifulSoup(news_page_c, 'lxml')\n",
    "    links_day = [str(news_url + re.split('\"', str(newshead))[1]) for newshead in news_page_c.findAll('h3', attrs = {'class':\"\"})]\n",
    "    all_links.append(links_day)"
   ]
  },
  {
   "cell_type": "code",
   "execution_count": 301,
   "metadata": {
    "collapsed": false
   },
   "outputs": [
    {
     "data": {
      "text/plain": [
       "['https://lenta.ru/articles/2017/05/12/whowillbenext/',\n",
       " 'https://lenta.ru/news/2017/05/12/trump/',\n",
       " 'https://lenta.ru/news/2017/05/12/lavrov/',\n",
       " 'https://lenta.ru/news/2017/05/12/letsmakepeace/',\n",
       " 'https://lenta.ru/news/2017/05/12/trumplavrov/',\n",
       " 'https://lenta.ru/news/2017/05/12/airforceone/',\n",
       " 'https://lenta.ru/news/2017/05/12/korea/',\n",
       " 'https://lenta.ru/news/2017/05/12/istanbul_borsa/',\n",
       " 'https://lenta.ru/news/2017/05/12/14_years_at_home/',\n",
       " 'https://lenta.ru/news/2017/05/12/isis_australia/',\n",
       " 'https://lenta.ru/news/2017/05/12/three_gulenists/',\n",
       " 'https://lenta.ru/news/2017/05/12/biochemical_weapon/',\n",
       " 'https://lenta.ru/news/2017/05/12/barcelona/',\n",
       " 'https://lenta.ru/news/2017/05/12/poland/',\n",
       " 'https://lenta.ru/news/2017/05/12/austria_bank/',\n",
       " 'https://lenta.ru/news/2017/05/12/two_explosions/',\n",
       " 'https://lenta.ru/news/2017/05/12/fireball/',\n",
       " 'https://lenta.ru/news/2017/05/12/los_zetas/',\n",
       " 'https://lenta.ru/news/2017/05/12/rome/',\n",
       " 'https://lenta.ru/news/2017/05/12/qaeda/',\n",
       " 'https://lenta.ru/news/2017/05/12/facebook_king/',\n",
       " 'https://lenta.ru/news/2017/05/12/trump_press/',\n",
       " 'https://lenta.ru/news/2017/05/12/austria_bank_host/',\n",
       " 'https://lenta.ru/news/2017/05/12/u_mad_bro/',\n",
       " 'https://lenta.ru/news/2017/05/12/pakistan_blast/',\n",
       " 'https://lenta.ru/news/2017/05/12/russian_money_trump/',\n",
       " 'https://lenta.ru/news/2017/05/12/no_sanctions_please/']"
      ]
     },
     "execution_count": 301,
     "metadata": {},
     "output_type": "execute_result"
    }
   ],
   "source": [
    "links_day"
   ]
  },
  {
   "cell_type": "code",
   "execution_count": 276,
   "metadata": {
    "collapsed": false,
    "scrolled": true
   },
   "outputs": [
    {
     "data": {
      "text/plain": [
       "['https://lenta.ru/rubrics/world/2017/01/11',\n",
       " 'https://lenta.ru/rubrics/world/2017/01/12',\n",
       " 'https://lenta.ru/rubrics/world/2017/01/13',\n",
       " 'https://lenta.ru/rubrics/world/2017/01/14',\n",
       " 'https://lenta.ru/rubrics/world/2017/01/15',\n",
       " 'https://lenta.ru/rubrics/world/2017/01/16',\n",
       " 'https://lenta.ru/rubrics/world/2017/01/17',\n",
       " 'https://lenta.ru/rubrics/world/2017/01/18',\n",
       " 'https://lenta.ru/rubrics/world/2017/01/19',\n",
       " 'https://lenta.ru/rubrics/world/2017/01/20',\n",
       " 'https://lenta.ru/rubrics/world/2017/01/21',\n",
       " 'https://lenta.ru/rubrics/world/2017/01/22',\n",
       " 'https://lenta.ru/rubrics/world/2017/01/23',\n",
       " 'https://lenta.ru/rubrics/world/2017/01/24',\n",
       " 'https://lenta.ru/rubrics/world/2017/01/25',\n",
       " 'https://lenta.ru/rubrics/world/2017/01/26',\n",
       " 'https://lenta.ru/rubrics/world/2017/01/27',\n",
       " 'https://lenta.ru/rubrics/world/2017/01/28',\n",
       " 'https://lenta.ru/rubrics/world/2017/01/29',\n",
       " 'https://lenta.ru/rubrics/world/2017/01/30',\n",
       " 'https://lenta.ru/rubrics/world/2017/01/31',\n",
       " 'https://lenta.ru/rubrics/world/2017/02/01',\n",
       " 'https://lenta.ru/rubrics/world/2017/02/02',\n",
       " 'https://lenta.ru/rubrics/world/2017/02/03',\n",
       " 'https://lenta.ru/rubrics/world/2017/02/04',\n",
       " 'https://lenta.ru/rubrics/world/2017/02/05',\n",
       " 'https://lenta.ru/rubrics/world/2017/02/06',\n",
       " 'https://lenta.ru/rubrics/world/2017/02/07',\n",
       " 'https://lenta.ru/rubrics/world/2017/02/08',\n",
       " 'https://lenta.ru/rubrics/world/2017/02/09',\n",
       " 'https://lenta.ru/rubrics/world/2017/02/10',\n",
       " 'https://lenta.ru/rubrics/world/2017/02/11',\n",
       " 'https://lenta.ru/rubrics/world/2017/02/12',\n",
       " 'https://lenta.ru/rubrics/world/2017/02/13',\n",
       " 'https://lenta.ru/rubrics/world/2017/02/14',\n",
       " 'https://lenta.ru/rubrics/world/2017/02/15',\n",
       " 'https://lenta.ru/rubrics/world/2017/02/16',\n",
       " 'https://lenta.ru/rubrics/world/2017/02/17',\n",
       " 'https://lenta.ru/rubrics/world/2017/02/18',\n",
       " 'https://lenta.ru/rubrics/world/2017/02/19',\n",
       " 'https://lenta.ru/rubrics/world/2017/02/20',\n",
       " 'https://lenta.ru/rubrics/world/2017/02/21',\n",
       " 'https://lenta.ru/rubrics/world/2017/02/22',\n",
       " 'https://lenta.ru/rubrics/world/2017/02/23',\n",
       " 'https://lenta.ru/rubrics/world/2017/02/24',\n",
       " 'https://lenta.ru/rubrics/world/2017/02/25',\n",
       " 'https://lenta.ru/rubrics/world/2017/02/26',\n",
       " 'https://lenta.ru/rubrics/world/2017/02/27',\n",
       " 'https://lenta.ru/rubrics/world/2017/02/28',\n",
       " 'https://lenta.ru/rubrics/world/2017/03/01',\n",
       " 'https://lenta.ru/rubrics/world/2017/03/02',\n",
       " 'https://lenta.ru/rubrics/world/2017/03/03',\n",
       " 'https://lenta.ru/rubrics/world/2017/03/04',\n",
       " 'https://lenta.ru/rubrics/world/2017/03/05',\n",
       " 'https://lenta.ru/rubrics/world/2017/03/06',\n",
       " 'https://lenta.ru/rubrics/world/2017/03/07',\n",
       " 'https://lenta.ru/rubrics/world/2017/03/08',\n",
       " 'https://lenta.ru/rubrics/world/2017/03/09',\n",
       " 'https://lenta.ru/rubrics/world/2017/03/10',\n",
       " 'https://lenta.ru/rubrics/world/2017/03/11',\n",
       " 'https://lenta.ru/rubrics/world/2017/03/12',\n",
       " 'https://lenta.ru/rubrics/world/2017/03/13',\n",
       " 'https://lenta.ru/rubrics/world/2017/03/14',\n",
       " 'https://lenta.ru/rubrics/world/2017/03/15',\n",
       " 'https://lenta.ru/rubrics/world/2017/03/16',\n",
       " 'https://lenta.ru/rubrics/world/2017/03/17',\n",
       " 'https://lenta.ru/rubrics/world/2017/03/18',\n",
       " 'https://lenta.ru/rubrics/world/2017/03/19',\n",
       " 'https://lenta.ru/rubrics/world/2017/03/20',\n",
       " 'https://lenta.ru/rubrics/world/2017/03/21',\n",
       " 'https://lenta.ru/rubrics/world/2017/03/22',\n",
       " 'https://lenta.ru/rubrics/world/2017/03/23',\n",
       " 'https://lenta.ru/rubrics/world/2017/03/24',\n",
       " 'https://lenta.ru/rubrics/world/2017/03/25',\n",
       " 'https://lenta.ru/rubrics/world/2017/03/26',\n",
       " 'https://lenta.ru/rubrics/world/2017/03/27',\n",
       " 'https://lenta.ru/rubrics/world/2017/03/28',\n",
       " 'https://lenta.ru/rubrics/world/2017/03/29',\n",
       " 'https://lenta.ru/rubrics/world/2017/03/30',\n",
       " 'https://lenta.ru/rubrics/world/2017/03/31',\n",
       " 'https://lenta.ru/rubrics/world/2017/04/01',\n",
       " 'https://lenta.ru/rubrics/world/2017/04/02',\n",
       " 'https://lenta.ru/rubrics/world/2017/04/03',\n",
       " 'https://lenta.ru/rubrics/world/2017/04/04',\n",
       " 'https://lenta.ru/rubrics/world/2017/04/05',\n",
       " 'https://lenta.ru/rubrics/world/2017/04/06',\n",
       " 'https://lenta.ru/rubrics/world/2017/04/07',\n",
       " 'https://lenta.ru/rubrics/world/2017/04/08',\n",
       " 'https://lenta.ru/rubrics/world/2017/04/09',\n",
       " 'https://lenta.ru/rubrics/world/2017/04/10',\n",
       " 'https://lenta.ru/rubrics/world/2017/04/11',\n",
       " 'https://lenta.ru/rubrics/world/2017/04/12',\n",
       " 'https://lenta.ru/rubrics/world/2017/04/13',\n",
       " 'https://lenta.ru/rubrics/world/2017/04/14',\n",
       " 'https://lenta.ru/rubrics/world/2017/04/15',\n",
       " 'https://lenta.ru/rubrics/world/2017/04/16',\n",
       " 'https://lenta.ru/rubrics/world/2017/04/17',\n",
       " 'https://lenta.ru/rubrics/world/2017/04/18',\n",
       " 'https://lenta.ru/rubrics/world/2017/04/19',\n",
       " 'https://lenta.ru/rubrics/world/2017/04/20',\n",
       " 'https://lenta.ru/rubrics/world/2017/04/21',\n",
       " 'https://lenta.ru/rubrics/world/2017/04/22',\n",
       " 'https://lenta.ru/rubrics/world/2017/04/23',\n",
       " 'https://lenta.ru/rubrics/world/2017/04/24',\n",
       " 'https://lenta.ru/rubrics/world/2017/04/25',\n",
       " 'https://lenta.ru/rubrics/world/2017/04/26',\n",
       " 'https://lenta.ru/rubrics/world/2017/04/27',\n",
       " 'https://lenta.ru/rubrics/world/2017/04/28',\n",
       " 'https://lenta.ru/rubrics/world/2017/04/29',\n",
       " 'https://lenta.ru/rubrics/world/2017/04/30',\n",
       " 'https://lenta.ru/rubrics/world/2017/05/01',\n",
       " 'https://lenta.ru/rubrics/world/2017/05/02',\n",
       " 'https://lenta.ru/rubrics/world/2017/05/03',\n",
       " 'https://lenta.ru/rubrics/world/2017/05/04',\n",
       " 'https://lenta.ru/rubrics/world/2017/05/05',\n",
       " 'https://lenta.ru/rubrics/world/2017/05/06',\n",
       " 'https://lenta.ru/rubrics/world/2017/05/07',\n",
       " 'https://lenta.ru/rubrics/world/2017/05/08',\n",
       " 'https://lenta.ru/rubrics/world/2017/05/09',\n",
       " 'https://lenta.ru/rubrics/world/2017/05/10',\n",
       " 'https://lenta.ru/rubrics/world/2017/05/11',\n",
       " 'https://lenta.ru/rubrics/world/2017/05/12']"
      ]
     },
     "execution_count": 276,
     "metadata": {},
     "output_type": "execute_result"
    }
   ],
   "source": [
    "days_list"
   ]
  },
  {
   "cell_type": "code",
   "execution_count": null,
   "metadata": {
    "collapsed": true
   },
   "outputs": [],
   "source": []
  },
  {
   "cell_type": "code",
   "execution_count": 277,
   "metadata": {
    "collapsed": false
   },
   "outputs": [],
   "source": [
    "#creating one final list of links\n",
    "final_links = []\n",
    "for i in range(len(all_links)):\n",
    "    for j in range(len(all_links[i])):\n",
    "        final_links.append(all_links[i][j])"
   ]
  },
  {
   "cell_type": "code",
   "execution_count": 278,
   "metadata": {
    "collapsed": false
   },
   "outputs": [
    {
     "data": {
      "text/plain": [
       "3428"
      ]
     },
     "execution_count": 278,
     "metadata": {},
     "output_type": "execute_result"
    }
   ],
   "source": [
    "#number of collected articles in \"World\" section\n",
    "len(final_links)"
   ]
  },
  {
   "cell_type": "markdown",
   "metadata": {},
   "source": [
    "## Let's now get the text out of one particular article "
   ]
  },
  {
   "cell_type": "code",
   "execution_count": 279,
   "metadata": {
    "collapsed": true
   },
   "outputs": [],
   "source": [
    "article_page = requests.get(final_links[0])\n",
    "article_page = article_page.content\n",
    "article_page = BeautifulSoup(article_page, 'lxml')"
   ]
  },
  {
   "cell_type": "code",
   "execution_count": 280,
   "metadata": {
    "collapsed": false
   },
   "outputs": [],
   "source": [
    "doc_text = article_page.find('div', attrs = {'class':'b-text clearfix js-topic__text'}) #Getting the article text as one string\n",
    "doc_text = re.sub('<[^<]+?>', '', str(doc_text)) #removing all hashes, html features, etc\n",
    "doc_text = re.sub('['+string.punctuation+'—'+'«»'']', '', str(doc_text)) #removing punctuation"
   ]
  },
  {
   "cell_type": "code",
   "execution_count": 281,
   "metadata": {
    "collapsed": false
   },
   "outputs": [],
   "source": [
    "doc_text_pd = pd.Series(re.split(' ', doc_text)).str.lower()"
   ]
  },
  {
   "cell_type": "code",
   "execution_count": 282,
   "metadata": {
    "collapsed": false
   },
   "outputs": [
    {
     "data": {
      "text/html": [
       "<div>\n",
       "<table border=\"1\" class=\"dataframe\">\n",
       "  <thead>\n",
       "    <tr style=\"text-align: right;\">\n",
       "      <th></th>\n",
       "      <th>и</th>\n",
       "      <th>в</th>\n",
       "      <th></th>\n",
       "      <th>не</th>\n",
       "      <th>с</th>\n",
       "      <th>это</th>\n",
       "      <th>на</th>\n",
       "      <th>что</th>\n",
       "      <th>его</th>\n",
       "      <th>а</th>\n",
       "      <th>...</th>\n",
       "      <th>имели</th>\n",
       "      <th>большинства</th>\n",
       "      <th>людей</th>\n",
       "      <th>возрасте</th>\n",
       "      <th>вмешательства</th>\n",
       "      <th>условий</th>\n",
       "      <th>нищетеэкономические</th>\n",
       "      <th>граница</th>\n",
       "      <th>мгновенной</th>\n",
       "      <th>всегда</th>\n",
       "    </tr>\n",
       "  </thead>\n",
       "  <tbody>\n",
       "    <tr>\n",
       "      <th>0</th>\n",
       "      <td>48</td>\n",
       "      <td>35</td>\n",
       "      <td>32</td>\n",
       "      <td>23</td>\n",
       "      <td>16</td>\n",
       "      <td>15</td>\n",
       "      <td>11</td>\n",
       "      <td>11</td>\n",
       "      <td>11</td>\n",
       "      <td>10</td>\n",
       "      <td>...</td>\n",
       "      <td>1</td>\n",
       "      <td>1</td>\n",
       "      <td>1</td>\n",
       "      <td>1</td>\n",
       "      <td>1</td>\n",
       "      <td>1</td>\n",
       "      <td>1</td>\n",
       "      <td>1</td>\n",
       "      <td>1</td>\n",
       "      <td>1</td>\n",
       "    </tr>\n",
       "  </tbody>\n",
       "</table>\n",
       "<p>1 rows × 711 columns</p>\n",
       "</div>"
      ],
      "text/plain": [
       "    и   в      не   с  это  на  что  его   а   ...    имели  большинства  \\\n",
       "0  48  35  32  23  16   15  11   11   11  10   ...        1            1   \n",
       "\n",
       "   людей  возрасте  вмешательства  условий  нищетеэкономические  граница  \\\n",
       "0      1         1              1        1                    1        1   \n",
       "\n",
       "   мгновенной  всегда  \n",
       "0           1       1  \n",
       "\n",
       "[1 rows x 711 columns]"
      ]
     },
     "execution_count": 282,
     "metadata": {},
     "output_type": "execute_result"
    }
   ],
   "source": [
    "pd.DataFrame(doc_text_pd.value_counts()).transpose()"
   ]
  },
  {
   "cell_type": "code",
   "execution_count": 283,
   "metadata": {
    "collapsed": false
   },
   "outputs": [],
   "source": [
    "def getTextForm(articlelink):\n",
    "    article_page = requests.get(articlelink)\n",
    "    \n",
    "    article_page = article_page.content\n",
    "    article_page = BeautifulSoup(article_page, 'lxml')\n",
    "    \n",
    "    doc_text = article_page.find('div', attrs = {'class':'b-text clearfix js-topic__text'}) #Getting the text as one string\n",
    "    doc_text = re.sub('<[^<]+?>', ' ', str(doc_text)) #removing all hashes, html features, etc\n",
    "    doc_text = re.sub('['+string.punctuation+'—'+'«»'']', '', str(doc_text)) #removing punctuation\n",
    "    return doc_text"
   ]
  },
  {
   "cell_type": "code",
   "execution_count": null,
   "metadata": {
    "collapsed": true
   },
   "outputs": [],
   "source": []
  },
  {
   "cell_type": "code",
   "execution_count": 284,
   "metadata": {
    "collapsed": true
   },
   "outputs": [],
   "source": [
    "def getTextRaw(articlelink):\n",
    "    article_page = requests.get(articlelink)\n",
    "    \n",
    "    article_page = article_page.content\n",
    "    article_page = BeautifulSoup(article_page, 'lxml')\n",
    "    \n",
    "    doc_text = article_page.find('div', attrs = {'class':'b-text clearfix js-topic__text'}) #Getting the text as one string\n",
    "    doc_text = re.sub('<[^<]+?>', ' ', str(doc_text)) #removing all hashes, html features, etc\n",
    "    return doc_text"
   ]
  },
  {
   "cell_type": "code",
   "execution_count": 285,
   "metadata": {
    "collapsed": true
   },
   "outputs": [],
   "source": [
    "def getWords(doc_text): \n",
    "    doc_text_pd = pd.Series(re.split(' ', doc_text)).str.lower()\n",
    "    return(pd.DataFrame(doc_text_pd.value_counts()).transpose())\n",
    "    \n",
    "    "
   ]
  },
  {
   "cell_type": "code",
   "execution_count": 286,
   "metadata": {
    "collapsed": false,
    "scrolled": true
   },
   "outputs": [
    {
     "data": {
      "text/html": [
       "<div>\n",
       "<table border=\"1\" class=\"dataframe\">\n",
       "  <thead>\n",
       "    <tr style=\"text-align: right;\">\n",
       "      <th></th>\n",
       "      <th></th>\n",
       "      <th>в</th>\n",
       "      <th>аэс</th>\n",
       "      <th>на</th>\n",
       "      <th>результате</th>\n",
       "      <th>что</th>\n",
       "      <th>бельгии</th>\n",
       "      <th>дул</th>\n",
       "      <th>реактор</th>\n",
       "      <th>и</th>\n",
       "      <th>...</th>\n",
       "      <th>собеседник</th>\n",
       "      <th>заявили</th>\n",
       "      <th>начался</th>\n",
       "      <th>пострадал</th>\n",
       "      <th>части</th>\n",
       "      <th>до</th>\n",
       "      <th>взорвался</th>\n",
       "      <th>тех</th>\n",
       "      <th>году</th>\n",
       "      <th>подчеркнул</th>\n",
       "    </tr>\n",
       "  </thead>\n",
       "  <tbody>\n",
       "    <tr>\n",
       "      <th>0</th>\n",
       "      <td>41</td>\n",
       "      <td>12</td>\n",
       "      <td>7</td>\n",
       "      <td>6</td>\n",
       "      <td>4</td>\n",
       "      <td>4</td>\n",
       "      <td>4</td>\n",
       "      <td>4</td>\n",
       "      <td>3</td>\n",
       "      <td>3</td>\n",
       "      <td>...</td>\n",
       "      <td>1</td>\n",
       "      <td>1</td>\n",
       "      <td>1</td>\n",
       "      <td>1</td>\n",
       "      <td>1</td>\n",
       "      <td>1</td>\n",
       "      <td>1</td>\n",
       "      <td>1</td>\n",
       "      <td>1</td>\n",
       "      <td>1</td>\n",
       "    </tr>\n",
       "  </tbody>\n",
       "</table>\n",
       "<p>1 rows × 175 columns</p>\n",
       "</div>"
      ],
      "text/plain": [
       "        в  аэс  на  результате  что  бельгии  дул  реактор  и     ...      \\\n",
       "0  41  12    7   6           4    4        4    4        3  3     ...       \n",
       "\n",
       "   собеседник  заявили  начался  пострадал  части  до  взорвался  тех  году  \\\n",
       "0           1        1        1          1      1   1          1    1     1   \n",
       "\n",
       "   подчеркнул  \n",
       "0           1  \n",
       "\n",
       "[1 rows x 175 columns]"
      ]
     },
     "execution_count": 286,
     "metadata": {},
     "output_type": "execute_result"
    }
   ],
   "source": [
    "getWords(getTextForm(final_links[1]))"
   ]
  },
  {
   "cell_type": "code",
   "execution_count": 462,
   "metadata": {
    "collapsed": false
   },
   "outputs": [],
   "source": [
    "def GetArticle(articlelink):\n",
    "    \n",
    "    #getting text \n",
    "    \n",
    "    article_page = requests.get(articlelink)\n",
    "    \n",
    "    article_page = article_page.content\n",
    "    article_page = BeautifulSoup(article_page, 'lxml')\n",
    "    \n",
    "    doc_text = article_page.find('div', attrs = {'class':'b-text clearfix js-topic__text'}) #Getting the text as one string\n",
    "    doc_text = re.sub('<[^<]+?>', ' ', str(doc_text)) #removing all hashes, html features, etc\n",
    "    doc_text = re.sub('['+string.punctuation+'—'+'«»'']', '', str(doc_text)) #removing punctuation\n",
    "    \n",
    "    #removing extra contents\n",
    "    doc_text = EssCont(doc_text)\n",
    "        \n",
    "\n",
    "    #creating a single dataframe\n",
    "    doc_text_pd = pd.Series(re.split(' ', doc_text)).str.lower()\n",
    "    \n",
    "    return(pd.DataFrame(doc_text_pd.value_counts()).transpose())\n",
    "   \n",
    "    "
   ]
  },
  {
   "cell_type": "code",
   "execution_count": null,
   "metadata": {
    "collapsed": false
   },
   "outputs": [],
   "source": []
  },
  {
   "cell_type": "code",
   "execution_count": 460,
   "metadata": {
    "collapsed": false
   },
   "outputs": [],
   "source": [
    "def EssCont(doc_text):\n",
    "    numcon = len(re.split('    ', str(doc_text)))\n",
    "    if numcon <= 4:\n",
    "        return doc_text\n",
    "    elif numcon >4 and numcon <=10:\n",
    "        listtext = re.split('    ', str(doc_text))\n",
    "        del listtext [1:5]\n",
    "        doc_text = str(listtext)\n",
    "        return doc_text\n",
    "    else:\n",
    "        listtext = re.split('    ', str(doc_text))\n",
    "        del listtext [1:9]\n",
    "        doc_text = str(listtext)\n",
    "        return doc_text"
   ]
  },
  {
   "cell_type": "code",
   "execution_count": 373,
   "metadata": {
    "collapsed": false
   },
   "outputs": [
    {
     "data": {
      "text/html": [
       "<div>\n",
       "<table border=\"1\" class=\"dataframe\">\n",
       "  <thead>\n",
       "    <tr style=\"text-align: right;\">\n",
       "      <th></th>\n",
       "      <th></th>\n",
       "      <th>в</th>\n",
       "      <th>аэс</th>\n",
       "      <th>на</th>\n",
       "      <th>что</th>\n",
       "      <th>результате</th>\n",
       "      <th>дул</th>\n",
       "      <th>бельгии</th>\n",
       "      <th>не</th>\n",
       "      <th>был</th>\n",
       "      <th>...</th>\n",
       "      <th>неработающем</th>\n",
       "      <th>заявили</th>\n",
       "      <th>трансформатор</th>\n",
       "      <th>начался</th>\n",
       "      <th>пострадал</th>\n",
       "      <th>блоке</th>\n",
       "      <th>до</th>\n",
       "      <th>взорвался</th>\n",
       "      <th>семь</th>\n",
       "      <th>подчеркнул</th>\n",
       "    </tr>\n",
       "  </thead>\n",
       "  <tbody>\n",
       "    <tr>\n",
       "      <th>0</th>\n",
       "      <td>16</td>\n",
       "      <td>12</td>\n",
       "      <td>7</td>\n",
       "      <td>6</td>\n",
       "      <td>4</td>\n",
       "      <td>4</td>\n",
       "      <td>4</td>\n",
       "      <td>4</td>\n",
       "      <td>3</td>\n",
       "      <td>3</td>\n",
       "      <td>...</td>\n",
       "      <td>1</td>\n",
       "      <td>1</td>\n",
       "      <td>1</td>\n",
       "      <td>1</td>\n",
       "      <td>1</td>\n",
       "      <td>1</td>\n",
       "      <td>1</td>\n",
       "      <td>1</td>\n",
       "      <td>1</td>\n",
       "      <td>1</td>\n",
       "    </tr>\n",
       "  </tbody>\n",
       "</table>\n",
       "<p>1 rows × 166 columns</p>\n",
       "</div>"
      ],
      "text/plain": [
       "        в  аэс  на  что  результате  дул  бельгии  не  был     ...      \\\n",
       "0  16  12    7   6    4           4    4        4   3    3     ...       \n",
       "\n",
       "   неработающем  заявили  трансформатор  начался  пострадал  блоке  до  \\\n",
       "0             1        1              1        1          1      1   1   \n",
       "\n",
       "   взорвался  семь  подчеркнул  \n",
       "0          1     1           1  \n",
       "\n",
       "[1 rows x 166 columns]"
      ]
     },
     "execution_count": 373,
     "metadata": {},
     "output_type": "execute_result"
    }
   ],
   "source": [
    "art1 = GetArticle(final_links[0])\n",
    "art2 = GetArticle(final_links[1])\n",
    "art2"
   ]
  },
  {
   "cell_type": "code",
   "execution_count": 374,
   "metadata": {
    "collapsed": false
   },
   "outputs": [],
   "source": [
    "art2 = pd.merge(art1, art2, 'outer')"
   ]
  },
  {
   "cell_type": "code",
   "execution_count": 375,
   "metadata": {
    "collapsed": false
   },
   "outputs": [
    {
     "data": {
      "text/html": [
       "<div>\n",
       "<table border=\"1\" class=\"dataframe\">\n",
       "  <thead>\n",
       "    <tr style=\"text-align: right;\">\n",
       "      <th></th>\n",
       "      <th></th>\n",
       "      <th>и</th>\n",
       "      <th>в</th>\n",
       "      <th>не</th>\n",
       "      <th>с</th>\n",
       "      <th>это</th>\n",
       "      <th>его</th>\n",
       "      <th>на</th>\n",
       "      <th>что</th>\n",
       "      <th>а</th>\n",
       "      <th>...</th>\n",
       "      <th>процентов</th>\n",
       "      <th>неработающем</th>\n",
       "      <th>заявили</th>\n",
       "      <th>трансформатор</th>\n",
       "      <th>начался</th>\n",
       "      <th>пострадал</th>\n",
       "      <th>блоке</th>\n",
       "      <th>взорвался</th>\n",
       "      <th>семь</th>\n",
       "      <th>подчеркнул</th>\n",
       "    </tr>\n",
       "  </thead>\n",
       "  <tbody>\n",
       "    <tr>\n",
       "      <th>0</th>\n",
       "      <td>66.0</td>\n",
       "      <td>48.0</td>\n",
       "      <td>35.0</td>\n",
       "      <td>23.0</td>\n",
       "      <td>16.0</td>\n",
       "      <td>15.0</td>\n",
       "      <td>11.0</td>\n",
       "      <td>11.0</td>\n",
       "      <td>11.0</td>\n",
       "      <td>10.0</td>\n",
       "      <td>...</td>\n",
       "      <td>NaN</td>\n",
       "      <td>NaN</td>\n",
       "      <td>NaN</td>\n",
       "      <td>NaN</td>\n",
       "      <td>NaN</td>\n",
       "      <td>NaN</td>\n",
       "      <td>NaN</td>\n",
       "      <td>NaN</td>\n",
       "      <td>NaN</td>\n",
       "      <td>NaN</td>\n",
       "    </tr>\n",
       "    <tr>\n",
       "      <th>1</th>\n",
       "      <td>16.0</td>\n",
       "      <td>3.0</td>\n",
       "      <td>12.0</td>\n",
       "      <td>3.0</td>\n",
       "      <td>NaN</td>\n",
       "      <td>NaN</td>\n",
       "      <td>NaN</td>\n",
       "      <td>6.0</td>\n",
       "      <td>4.0</td>\n",
       "      <td>NaN</td>\n",
       "      <td>...</td>\n",
       "      <td>1.0</td>\n",
       "      <td>1.0</td>\n",
       "      <td>1.0</td>\n",
       "      <td>1.0</td>\n",
       "      <td>1.0</td>\n",
       "      <td>1.0</td>\n",
       "      <td>1.0</td>\n",
       "      <td>1.0</td>\n",
       "      <td>1.0</td>\n",
       "      <td>1.0</td>\n",
       "    </tr>\n",
       "  </tbody>\n",
       "</table>\n",
       "<p>2 rows × 834 columns</p>\n",
       "</div>"
      ],
      "text/plain": [
       "            и     в    не     с   это   его    на   что     а     ...      \\\n",
       "0  66.0  48.0  35.0  23.0  16.0  15.0  11.0  11.0  11.0  10.0     ...       \n",
       "1  16.0   3.0  12.0   3.0   NaN   NaN   NaN   6.0   4.0   NaN     ...       \n",
       "\n",
       "   процентов  неработающем  заявили  трансформатор  начался  пострадал  блоке  \\\n",
       "0        NaN           NaN      NaN            NaN      NaN        NaN    NaN   \n",
       "1        1.0           1.0      1.0            1.0      1.0        1.0    1.0   \n",
       "\n",
       "   взорвался  семь  подчеркнул  \n",
       "0        NaN   NaN         NaN  \n",
       "1        1.0   1.0         1.0  \n",
       "\n",
       "[2 rows x 834 columns]"
      ]
     },
     "execution_count": 375,
     "metadata": {},
     "output_type": "execute_result"
    }
   ],
   "source": [
    "art2\n"
   ]
  },
  {
   "cell_type": "code",
   "execution_count": 332,
   "metadata": {
    "collapsed": false
   },
   "outputs": [],
   "source": [
    "def getDay(date):\n",
    "    news_page_c = requests.get(str(main_url + date))\n",
    "    news_page_c = news_page_c.content\n",
    "    news_page_c = BeautifulSoup(news_page_c, 'lxml')\n",
    "    links_day = [str(news_url + re.split('\"', str(newshead))[1]) for newshead in news_page_c.findAll('h3', attrs = {'class':\"\"})]\n",
    "    return(links_day)"
   ]
  },
  {
   "cell_type": "code",
   "execution_count": null,
   "metadata": {
    "collapsed": true
   },
   "outputs": [],
   "source": [
    "# Collecting all news from one day"
   ]
  },
  {
   "cell_type": "code",
   "execution_count": 491,
   "metadata": {
    "collapsed": false
   },
   "outputs": [],
   "source": [
    "def getDayNews(date):\n",
    "    listlinks = getDay(date)\n",
    "    words = GetArticle(listlinks[0])\n",
    "    for i in range(1,len(listlinks)):\n",
    "        words = pd.merge(words, GetArticle(listlinks[i]), 'outer')\n",
    "    words = words.fillna(0)\n",
    "    words = pd.DataFrame(words.sum(0)).transpose()\n",
    "    return words"
   ]
  },
  {
   "cell_type": "code",
   "execution_count": null,
   "metadata": {
    "collapsed": true
   },
   "outputs": [],
   "source": [
    "# Collecting all news for all days"
   ]
  },
  {
   "cell_type": "code",
   "execution_count": 514,
   "metadata": {
    "collapsed": false
   },
   "outputs": [],
   "source": [
    "def GetFinal(dates):\n",
    "    final = getDayNews(dates[0])\n",
    "    for i in range(1, len(dates)):\n",
    "        final = pd.merge(final, getDayNews(dates[i]), 'outer')\n",
    "    final = final.fillna(0)\n",
    "    return final"
   ]
  },
  {
   "cell_type": "code",
   "execution_count": 492,
   "metadata": {
    "collapsed": false
   },
   "outputs": [
    {
     "data": {
      "text/html": [
       "<div>\n",
       "<table border=\"1\" class=\"dataframe\">\n",
       "  <thead>\n",
       "    <tr style=\"text-align: right;\">\n",
       "      <th></th>\n",
       "      <th></th>\n",
       "      <th>в</th>\n",
       "      <th>и</th>\n",
       "      <th>на</th>\n",
       "      <th>что</th>\n",
       "      <th>с</th>\n",
       "      <th>\\n</th>\n",
       "      <th>моди</th>\n",
       "      <th>twitter</th>\n",
       "      <th>не</th>\n",
       "      <th>...</th>\n",
       "      <th>информировал</th>\n",
       "      <th>хоровица</th>\n",
       "      <th>расследования</th>\n",
       "      <th>структуру</th>\n",
       "      <th>республиканцев</th>\n",
       "      <th>инспектор</th>\n",
       "      <th>министерством</th>\n",
       "      <th>минюста</th>\n",
       "      <th>поворотным</th>\n",
       "      <th>действий</th>\n",
       "    </tr>\n",
       "  </thead>\n",
       "  <tbody>\n",
       "    <tr>\n",
       "      <th>0</th>\n",
       "      <td>529.0</td>\n",
       "      <td>293.0</td>\n",
       "      <td>122.0</td>\n",
       "      <td>112.0</td>\n",
       "      <td>77.0</td>\n",
       "      <td>64.0</td>\n",
       "      <td>14.0</td>\n",
       "      <td>13.0</td>\n",
       "      <td>12.0</td>\n",
       "      <td>56.0</td>\n",
       "      <td>...</td>\n",
       "      <td>1.0</td>\n",
       "      <td>1.0</td>\n",
       "      <td>1.0</td>\n",
       "      <td>1.0</td>\n",
       "      <td>1.0</td>\n",
       "      <td>1.0</td>\n",
       "      <td>1.0</td>\n",
       "      <td>1.0</td>\n",
       "      <td>1.0</td>\n",
       "      <td>1.0</td>\n",
       "    </tr>\n",
       "  </tbody>\n",
       "</table>\n",
       "<p>1 rows × 2996 columns</p>\n",
       "</div>"
      ],
      "text/plain": [
       "              в      и     на   что     с    \\n  моди  twitter    не  \\\n",
       "0  529.0  293.0  122.0  112.0  77.0  64.0  14.0  13.0     12.0  56.0   \n",
       "\n",
       "     ...     информировал  хоровица  расследования  структуру  республиканцев  \\\n",
       "0    ...              1.0       1.0            1.0        1.0             1.0   \n",
       "\n",
       "   инспектор  министерством  минюста  поворотным  действий  \n",
       "0        1.0            1.0      1.0         1.0       1.0  \n",
       "\n",
       "[1 rows x 2996 columns]"
      ]
     },
     "execution_count": 492,
     "metadata": {},
     "output_type": "execute_result"
    }
   ],
   "source": [
    "getDayNews(datelist[1])"
   ]
  },
  {
   "cell_type": "code",
   "execution_count": 515,
   "metadata": {
    "collapsed": false
   },
   "outputs": [
    {
     "data": {
      "text/html": [
       "<div>\n",
       "<table border=\"1\" class=\"dataframe\">\n",
       "  <thead>\n",
       "    <tr style=\"text-align: right;\">\n",
       "      <th></th>\n",
       "      <th></th>\n",
       "      <th>в</th>\n",
       "      <th>и</th>\n",
       "      <th>на</th>\n",
       "      <th>что</th>\n",
       "      <th>с</th>\n",
       "      <th>\\n</th>\n",
       "      <th>моди</th>\n",
       "      <th>twitter</th>\n",
       "      <th>не</th>\n",
       "      <th>...</th>\n",
       "      <th>демократической</th>\n",
       "      <th>прощальную</th>\n",
       "      <th>кабинете</th>\n",
       "      <th>дальнейшее</th>\n",
       "      <th>мир</th>\n",
       "      <th>женой</th>\n",
       "      <th>поговорили</th>\n",
       "      <th>президентском</th>\n",
       "      <th>ней</th>\n",
       "      <th>'под</th>\n",
       "    </tr>\n",
       "  </thead>\n",
       "  <tbody>\n",
       "    <tr>\n",
       "      <th>0</th>\n",
       "      <td>532.0</td>\n",
       "      <td>293.0</td>\n",
       "      <td>122.0</td>\n",
       "      <td>111.0</td>\n",
       "      <td>77.0</td>\n",
       "      <td>64.0</td>\n",
       "      <td>14.0</td>\n",
       "      <td>13.0</td>\n",
       "      <td>12.0</td>\n",
       "      <td>56.0</td>\n",
       "      <td>...</td>\n",
       "      <td>0.0</td>\n",
       "      <td>0.0</td>\n",
       "      <td>0.0</td>\n",
       "      <td>0.0</td>\n",
       "      <td>0.0</td>\n",
       "      <td>0.0</td>\n",
       "      <td>0.0</td>\n",
       "      <td>0.0</td>\n",
       "      <td>0.0</td>\n",
       "      <td>0.0</td>\n",
       "    </tr>\n",
       "    <tr>\n",
       "      <th>1</th>\n",
       "      <td>404.0</td>\n",
       "      <td>225.0</td>\n",
       "      <td>78.0</td>\n",
       "      <td>86.0</td>\n",
       "      <td>62.0</td>\n",
       "      <td>43.0</td>\n",
       "      <td>0.0</td>\n",
       "      <td>0.0</td>\n",
       "      <td>0.0</td>\n",
       "      <td>34.0</td>\n",
       "      <td>...</td>\n",
       "      <td>1.0</td>\n",
       "      <td>1.0</td>\n",
       "      <td>1.0</td>\n",
       "      <td>1.0</td>\n",
       "      <td>1.0</td>\n",
       "      <td>1.0</td>\n",
       "      <td>1.0</td>\n",
       "      <td>1.0</td>\n",
       "      <td>1.0</td>\n",
       "      <td>1.0</td>\n",
       "    </tr>\n",
       "  </tbody>\n",
       "</table>\n",
       "<p>2 rows × 4686 columns</p>\n",
       "</div>"
      ],
      "text/plain": [
       "              в      и     на   что     с    \\n  моди  twitter    не  ...   \\\n",
       "0  532.0  293.0  122.0  111.0  77.0  64.0  14.0  13.0     12.0  56.0  ...    \n",
       "1  404.0  225.0   78.0   86.0  62.0  43.0   0.0   0.0      0.0  34.0  ...    \n",
       "\n",
       "   демократической  прощальную  кабинете  дальнейшее  мир  женой  поговорили  \\\n",
       "0              0.0         0.0       0.0         0.0  0.0    0.0         0.0   \n",
       "1              1.0         1.0       1.0         1.0  1.0    1.0         1.0   \n",
       "\n",
       "   президентском  ней  'под  \n",
       "0            0.0  0.0   0.0  \n",
       "1            1.0  1.0   1.0  \n",
       "\n",
       "[2 rows x 4686 columns]"
      ]
     },
     "execution_count": 515,
     "metadata": {},
     "output_type": "execute_result"
    }
   ],
   "source": [
    "GetFinal(datelist[1:3])"
   ]
  },
  {
   "cell_type": "code",
   "execution_count": 516,
   "metadata": {
    "collapsed": true
   },
   "outputs": [],
   "source": [
    "exfinal = getDayNews(datelist[1])"
   ]
  },
  {
   "cell_type": "code",
   "execution_count": 509,
   "metadata": {
    "collapsed": false
   },
   "outputs": [
    {
     "data": {
      "text/html": [
       "<div>\n",
       "<table border=\"1\" class=\"dataframe\">\n",
       "  <thead>\n",
       "    <tr style=\"text-align: right;\">\n",
       "      <th></th>\n",
       "      <th></th>\n",
       "      <th>в</th>\n",
       "      <th>и</th>\n",
       "      <th>на</th>\n",
       "      <th>что</th>\n",
       "      <th>с</th>\n",
       "      <th>\\n</th>\n",
       "      <th>моди</th>\n",
       "      <th>twitter</th>\n",
       "      <th>не</th>\n",
       "      <th>...</th>\n",
       "      <th>генштабе</th>\n",
       "      <th>работ</th>\n",
       "      <th>участок</th>\n",
       "      <th>сирийцы',</th>\n",
       "      <th>турецкосирийской</th>\n",
       "      <th>отрезке</th>\n",
       "      <th>пересечения</th>\n",
       "      <th>очищена</th>\n",
       "      <th>основная</th>\n",
       "      <th>инцидентов</th>\n",
       "    </tr>\n",
       "  </thead>\n",
       "  <tbody>\n",
       "    <tr>\n",
       "      <th>0</th>\n",
       "      <td>530.0</td>\n",
       "      <td>293.0</td>\n",
       "      <td>122.0</td>\n",
       "      <td>112.0</td>\n",
       "      <td>76.0</td>\n",
       "      <td>63.0</td>\n",
       "      <td>14.0</td>\n",
       "      <td>13.0</td>\n",
       "      <td>12.0</td>\n",
       "      <td>56.0</td>\n",
       "      <td>...</td>\n",
       "      <td>NaN</td>\n",
       "      <td>NaN</td>\n",
       "      <td>NaN</td>\n",
       "      <td>NaN</td>\n",
       "      <td>NaN</td>\n",
       "      <td>NaN</td>\n",
       "      <td>NaN</td>\n",
       "      <td>NaN</td>\n",
       "      <td>NaN</td>\n",
       "      <td>NaN</td>\n",
       "    </tr>\n",
       "    <tr>\n",
       "      <th>1</th>\n",
       "      <td>402.0</td>\n",
       "      <td>224.0</td>\n",
       "      <td>77.0</td>\n",
       "      <td>86.0</td>\n",
       "      <td>61.0</td>\n",
       "      <td>43.0</td>\n",
       "      <td>NaN</td>\n",
       "      <td>NaN</td>\n",
       "      <td>NaN</td>\n",
       "      <td>34.0</td>\n",
       "      <td>...</td>\n",
       "      <td>NaN</td>\n",
       "      <td>NaN</td>\n",
       "      <td>NaN</td>\n",
       "      <td>NaN</td>\n",
       "      <td>NaN</td>\n",
       "      <td>NaN</td>\n",
       "      <td>NaN</td>\n",
       "      <td>NaN</td>\n",
       "      <td>NaN</td>\n",
       "      <td>NaN</td>\n",
       "    </tr>\n",
       "    <tr>\n",
       "      <th>2</th>\n",
       "      <td>432.0</td>\n",
       "      <td>263.0</td>\n",
       "      <td>144.0</td>\n",
       "      <td>96.0</td>\n",
       "      <td>92.0</td>\n",
       "      <td>53.0</td>\n",
       "      <td>NaN</td>\n",
       "      <td>NaN</td>\n",
       "      <td>1.0</td>\n",
       "      <td>52.0</td>\n",
       "      <td>...</td>\n",
       "      <td>1.0</td>\n",
       "      <td>1.0</td>\n",
       "      <td>1.0</td>\n",
       "      <td>1.0</td>\n",
       "      <td>1.0</td>\n",
       "      <td>1.0</td>\n",
       "      <td>1.0</td>\n",
       "      <td>1.0</td>\n",
       "      <td>1.0</td>\n",
       "      <td>1.0</td>\n",
       "    </tr>\n",
       "  </tbody>\n",
       "</table>\n",
       "<p>3 rows × 6268 columns</p>\n",
       "</div>"
      ],
      "text/plain": [
       "              в      и     на   что     с    \\n  моди  twitter    не  \\\n",
       "0  530.0  293.0  122.0  112.0  76.0  63.0  14.0  13.0     12.0  56.0   \n",
       "1  402.0  224.0   77.0   86.0  61.0  43.0   NaN   NaN      NaN  34.0   \n",
       "2  432.0  263.0  144.0   96.0  92.0  53.0   NaN   NaN      1.0  52.0   \n",
       "\n",
       "      ...      генштабе  работ  участок  сирийцы',  турецкосирийской  отрезке  \\\n",
       "0     ...           NaN    NaN      NaN        NaN               NaN      NaN   \n",
       "1     ...           NaN    NaN      NaN        NaN               NaN      NaN   \n",
       "2     ...           1.0    1.0      1.0        1.0               1.0      1.0   \n",
       "\n",
       "   пересечения  очищена  основная  инцидентов  \n",
       "0          NaN      NaN       NaN         NaN  \n",
       "1          NaN      NaN       NaN         NaN  \n",
       "2          1.0      1.0       1.0         1.0  \n",
       "\n",
       "[3 rows x 6268 columns]"
      ]
     },
     "execution_count": 509,
     "metadata": {},
     "output_type": "execute_result"
    }
   ],
   "source": [
    "exfinal = pd.merge(exfinal, getDayNews(datelist[3]), 'outer')\n",
    "exfinal"
   ]
  }
 ],
 "metadata": {
  "anaconda-cloud": {},
  "kernelspec": {
   "display_name": "Python [conda root]",
   "language": "python",
   "name": "conda-root-py"
  },
  "language_info": {
   "codemirror_mode": {
    "name": "ipython",
    "version": 3
   },
   "file_extension": ".py",
   "mimetype": "text/x-python",
   "name": "python",
   "nbconvert_exporter": "python",
   "pygments_lexer": "ipython3",
   "version": "3.5.2"
  }
 },
 "nbformat": 4,
 "nbformat_minor": 1
}
